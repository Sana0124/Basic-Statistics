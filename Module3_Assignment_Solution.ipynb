{
  "nbformat": 4,
  "nbformat_minor": 0,
  "metadata": {
    "colab": {
      "provenance": []
    },
    "kernelspec": {
      "name": "python3",
      "display_name": "Python 3"
    },
    "language_info": {
      "name": "python"
    }
  },
  "cells": [
    {
      "cell_type": "markdown",
      "source": [
        "### Import Libraries"
      ],
      "metadata": {
        "id": "ICfaqqH278Ad"
      }
    },
    {
      "cell_type": "code",
      "source": [
        "import numpy as np\n",
        "import pandas as pd\n",
        "from scipy import stats\n",
        "import seaborn as sns"
      ],
      "metadata": {
        "id": "t_rbkXJcNiK8"
      },
      "execution_count": null,
      "outputs": []
    },
    {
      "cell_type": "markdown",
      "source": [
        "Q1.\n",
        "\n",
        "Assume you have the following dataset of 15 points\n",
        "\n",
        "\n",
        "25,    37,    24,    28,    2,    35,    22,    31,    53,    41,    64,    29,    120,    72,    2\n",
        "\n",
        "\n",
        "* Write a code in python to find\n",
        "\n",
        "  1. Mean\n",
        "  2. Median\n",
        "  3. Mode\n",
        "  4. Standard deviation\n",
        "  5. Interquartile range\n",
        "\n",
        "\n",
        "* Can you find out which of the points are outliers in the above dataset?\n",
        "\n",
        "* Use any library in python to create boxplot of the above dataset"
      ],
      "metadata": {
        "id": "VHpCkUlCNfqp"
      }
    },
    {
      "cell_type": "code",
      "source": [
        "data = np.array([25.0, 37, 24, 28, 2, 35, 22, 31, 53, 41, 64, 29, 120, 72, 2])"
      ],
      "metadata": {
        "id": "QFAArK9AUJ4I"
      },
      "execution_count": null,
      "outputs": []
    },
    {
      "cell_type": "code",
      "source": [
        "mean = data.mean()\n",
        "median = np.percentile(data, 50.0)\n",
        "mode = stats.mode(data)\n",
        "standard_deviation = data.std()\n",
        "iqr = stats.iqr(data)"
      ],
      "metadata": {
        "id": "lZ-Jar5JUZXs"
      },
      "execution_count": null,
      "outputs": []
    },
    {
      "cell_type": "code",
      "source": [
        "print(\"1. Mean: \", mean)\n",
        "print(\"2. Median: \", median)\n",
        "print(\"3. Mode: \", mode[0])\n",
        "print(\"4. Standard Deviation: \", standard_deviation)\n",
        "print(\"5. Inter Quartile Range: \", iqr)"
      ],
      "metadata": {
        "id": "uRW8aJppUa8Z",
        "colab": {
          "base_uri": "https://localhost:8080/"
        },
        "outputId": "08cda5de-cd61-44b3-99e8-2cd2e9843aaf"
      },
      "execution_count": null,
      "outputs": [
        {
          "output_type": "stream",
          "name": "stdout",
          "text": [
            "1. Mean:  39.0\n",
            "2. Median:  31.0\n",
            "3. Mode:  2.0\n",
            "4. Standard Deviation:  28.55170747958868\n",
            "5. Inter Quartile Range:  22.5\n"
          ]
        }
      ]
    },
    {
      "cell_type": "code",
      "source": [
        "s = pd.Series(data)"
      ],
      "metadata": {
        "id": "I7VPmY5cgyTL"
      },
      "execution_count": null,
      "outputs": []
    },
    {
      "cell_type": "code",
      "source": [
        "s.mean()"
      ],
      "metadata": {
        "colab": {
          "base_uri": "https://localhost:8080/"
        },
        "id": "fqzwFeH7hqXQ",
        "outputId": "99c1e145-5a9d-4a6d-f9c7-d65e178b5139"
      },
      "execution_count": null,
      "outputs": [
        {
          "output_type": "execute_result",
          "data": {
            "text/plain": [
              "39.0"
            ]
          },
          "metadata": {},
          "execution_count": 26
        }
      ]
    },
    {
      "cell_type": "code",
      "source": [
        "s.median()"
      ],
      "metadata": {
        "colab": {
          "base_uri": "https://localhost:8080/"
        },
        "id": "3TLvtcFqhr3q",
        "outputId": "a9f2f041-fd1c-4cdb-bd6a-db2fc6a0b3d2"
      },
      "execution_count": null,
      "outputs": [
        {
          "output_type": "execute_result",
          "data": {
            "text/plain": [
              "31.0"
            ]
          },
          "metadata": {},
          "execution_count": 27
        }
      ]
    },
    {
      "cell_type": "code",
      "source": [
        "s.mode()"
      ],
      "metadata": {
        "colab": {
          "base_uri": "https://localhost:8080/"
        },
        "id": "USotThDxhtRL",
        "outputId": "9351c140-f57e-4e00-a7db-a2884f4aa6a2"
      },
      "execution_count": null,
      "outputs": [
        {
          "output_type": "execute_result",
          "data": {
            "text/plain": [
              "0    2.0\n",
              "dtype: float64"
            ]
          },
          "metadata": {},
          "execution_count": 28
        }
      ]
    },
    {
      "cell_type": "code",
      "source": [
        "s.std(ddof=0)"
      ],
      "metadata": {
        "colab": {
          "base_uri": "https://localhost:8080/"
        },
        "id": "xFlaJIH8h1Wu",
        "outputId": "e9cdff28-a1b6-468d-e94d-5482e88d12b6"
      },
      "execution_count": null,
      "outputs": [
        {
          "output_type": "execute_result",
          "data": {
            "text/plain": [
              "28.55170747958868"
            ]
          },
          "metadata": {},
          "execution_count": 31
        }
      ]
    },
    {
      "cell_type": "code",
      "source": [
        "stats.iqr(s)"
      ],
      "metadata": {
        "colab": {
          "base_uri": "https://localhost:8080/"
        },
        "id": "rpmvN23niPyO",
        "outputId": "1ff6af72-ad14-444b-9c1a-cf63f0e08781"
      },
      "execution_count": null,
      "outputs": [
        {
          "output_type": "execute_result",
          "data": {
            "text/plain": [
              "22.5"
            ]
          },
          "metadata": {},
          "execution_count": 34
        }
      ]
    },
    {
      "cell_type": "markdown",
      "source": [
        "* Can you find out which of the points are outliers in the above dataset?"
      ],
      "metadata": {
        "id": "HlpwNS8UWIyP"
      }
    },
    {
      "cell_type": "code",
      "source": [
        "Q1 = np.percentile(data, 25.0)\n",
        "Q3 = np.percentile(data, 75.0)\n",
        "LOWER_LIMIT = Q1 - 1.5 * iqr\n",
        "UPPER_LIMIT = Q3 + 1.5 * iqr\n",
        "\n",
        "LOWER_LIMIT, UPPER_LIMIT"
      ],
      "metadata": {
        "id": "rVo2TQ9MU9j0",
        "colab": {
          "base_uri": "https://localhost:8080/"
        },
        "outputId": "2e7dd77b-2e92-42fc-e4e4-465557667fe5"
      },
      "execution_count": null,
      "outputs": [
        {
          "output_type": "execute_result",
          "data": {
            "text/plain": [
              "(-9.25, 80.75)"
            ]
          },
          "metadata": {},
          "execution_count": 36
        }
      ]
    },
    {
      "cell_type": "code",
      "source": [
        "%%time\n",
        "#anything which is beyond lower and upper limit are outliers\n",
        "for elem in data:\n",
        "  if elem < LOWER_LIMIT or elem > UPPER_LIMIT:\n",
        "      print(elem)"
      ],
      "metadata": {
        "id": "UWvo6IG_TISD",
        "colab": {
          "base_uri": "https://localhost:8080/"
        },
        "outputId": "621e74d3-b80e-4582-e5ab-bcbf3f662ad6"
      },
      "execution_count": null,
      "outputs": [
        {
          "output_type": "stream",
          "name": "stdout",
          "text": [
            "120.0\n",
            "CPU times: user 97 µs, sys: 12 µs, total: 109 µs\n",
            "Wall time: 113 µs\n"
          ]
        }
      ]
    },
    {
      "cell_type": "code",
      "source": [
        "%time\n",
        "data[(data < LOWER_LIMIT) | (data > UPPER_LIMIT)]"
      ],
      "metadata": {
        "colab": {
          "base_uri": "https://localhost:8080/"
        },
        "id": "_WRxzjY8i-Jc",
        "outputId": "4f21503c-c880-413e-be76-401068c6a607"
      },
      "execution_count": null,
      "outputs": [
        {
          "output_type": "stream",
          "name": "stdout",
          "text": [
            "CPU times: user 4 µs, sys: 0 ns, total: 4 µs\n",
            "Wall time: 7.15 µs\n"
          ]
        },
        {
          "output_type": "execute_result",
          "data": {
            "text/plain": [
              "array([120.])"
            ]
          },
          "metadata": {},
          "execution_count": 45
        }
      ]
    },
    {
      "cell_type": "code",
      "source": [
        "120. = 120.0"
      ],
      "metadata": {
        "id": "8VB8onuOj8tv"
      },
      "execution_count": null,
      "outputs": []
    },
    {
      "cell_type": "markdown",
      "source": [
        "* Use any library in python to create boxplot of the above dataset"
      ],
      "metadata": {
        "id": "vH6qLASWTxjQ"
      }
    },
    {
      "cell_type": "code",
      "source": [
        "import matplotlib.pyplot as plt"
      ],
      "metadata": {
        "id": "bb9onAgMTY1W"
      },
      "execution_count": null,
      "outputs": []
    },
    {
      "cell_type": "code",
      "source": [
        "fig = plt.figure()\n",
        "\n",
        "# Creating plot\n",
        "plt.boxplot(data)\n",
        "\n",
        "# show plot\n",
        "plt.show()"
      ],
      "metadata": {
        "id": "Xx37WN-ET3jS",
        "colab": {
          "base_uri": "https://localhost:8080/",
          "height": 430
        },
        "outputId": "e87b72c3-1ed3-4632-ad3a-a480ddf03867"
      },
      "execution_count": null,
      "outputs": [
        {
          "output_type": "display_data",
          "data": {
            "text/plain": [
              "<Figure size 640x480 with 1 Axes>"
            ],
            "image/png": "[encoded data removed]"
          },
          "metadata": {}
        }
      ]
    },
    {
      "cell_type": "markdown",
      "source": [
        "**Observation**\n",
        "* Note that point near 120 mark is our outlier"
      ],
      "metadata": {
        "id": "udleWIWaT-fs"
      }
    },
    {
      "cell_type": "markdown",
      "source": [
        "\n",
        "\n",
        "---\n",
        "\n",
        "\n",
        "\n",
        "---\n",
        "\n"
      ],
      "metadata": {
        "id": "0HFTHn4s-Nmj"
      }
    },
    {
      "cell_type": "markdown",
      "source": [
        "Q2.\n",
        "\n",
        "John is visiting planet Utopia and he figures out that the population is 1 million. Utopians are very tall and their height varies between 180 cm  and 250 cm. John tries to estimate the population size by randomly identifying 10000 people n times and finds their mean heights. Can you help John do the following using python?"
      ],
      "metadata": {
        "id": "KCEnBdmvUyzE"
      }
    },
    {
      "cell_type": "markdown",
      "source": [
        "a. Generate population samples of size 10000 with height between 180 cm  and 250 cm by varying n(number of times you identify 10000 random people) as following\n",
        "\n",
        "1. 5\n",
        "2. 10\n",
        "3. 100\n",
        "4. 1000\n",
        "5. 10000"
      ],
      "metadata": {
        "id": "ojpIPSUCU6WJ"
      }
    },
    {
      "cell_type": "code",
      "source": [
        "population_array = []\n",
        "\n",
        "for POPULATION_SIZE in [5, 10, 100, 1000, 100000]:\n",
        "  temp_array = []\n",
        "  for i in range(0, POPULATION_SIZE):\n",
        "    temp_array.append(np.random.randint(180, 250, size=10000))\n",
        "\n",
        "  population_array.append(temp_array)"
      ],
      "metadata": {
        "id": "WIz3Q4m7lKuJ"
      },
      "execution_count": null,
      "outputs": []
    },
    {
      "cell_type": "markdown",
      "source": [
        "b. Plot histogram of the population means"
      ],
      "metadata": {
        "id": "k78yp6AdVD4W"
      }
    },
    {
      "cell_type": "code",
      "source": [
        "mean_arr_5 = [elem.mean() for elem in population_array[0]]\n",
        "sns.histplot(mean_arr_5)\n",
        "sns.kdeplot(mean_arr_5)"
      ],
      "metadata": {
        "id": "iaMze9nMVH2p",
        "colab": {
          "base_uri": "https://localhost:8080/",
          "height": 447
        },
        "outputId": "8e306ac2-e713-472b-83d8-2b6bf67fdd03"
      },
      "execution_count": null,
      "outputs": [
        {
          "output_type": "execute_result",
          "data": {
            "text/plain": [
              "<Axes: ylabel='Count'>"
            ]
          },
          "metadata": {},
          "execution_count": 12
        },
        {
          "output_type": "display_data",
          "data": {
            "text/plain": [
              "<Figure size 640x480 with 1 Axes>"
            ],
            "image/png": "[encoded data removed]"
          },
          "metadata": {}
        }
      ]
    },
    {
      "cell_type": "code",
      "source": [
        "mean_arr_10 = [elem.mean() for elem in population_array[1]]\n",
        "sns.histplot(mean_arr_10)\n",
        "sns.kdeplot(mean_arr_10)"
      ],
      "metadata": {
        "id": "IMNJXbgK5tTe",
        "colab": {
          "base_uri": "https://localhost:8080/",
          "height": 447
        },
        "outputId": "a90a4f6b-7bf8-4085-8c8c-747d182f6ee4"
      },
      "execution_count": null,
      "outputs": [
        {
          "output_type": "execute_result",
          "data": {
            "text/plain": [
              "<Axes: ylabel='Count'>"
            ]
          },
          "metadata": {},
          "execution_count": 13
        },
        {
          "output_type": "display_data",
          "data": {
            "text/plain": [
              "<Figure size 640x480 with 1 Axes>"
            ],
            "image/png": "[encoded data removed]"
          },
          "metadata": {}
        }
      ]
    },
    {
      "cell_type": "code",
      "source": [
        "mean_arr_100 = [elem.mean() for elem in population_array[2]]\n",
        "sns.histplot(mean_arr_100)\n",
        "sns.kdeplot(mean_arr_100)"
      ],
      "metadata": {
        "id": "HRNsjgkb5xOf",
        "colab": {
          "base_uri": "https://localhost:8080/",
          "height": 447
        },
        "outputId": "31479b7c-5389-4a16-9ed7-b9e3cc65e569"
      },
      "execution_count": null,
      "outputs": [
        {
          "output_type": "execute_result",
          "data": {
            "text/plain": [
              "<Axes: ylabel='Count'>"
            ]
          },
          "metadata": {},
          "execution_count": 14
        },
        {
          "output_type": "display_data",
          "data": {
            "text/plain": [
              "<Figure size 640x480 with 1 Axes>"
            ],
            "image/png": "[encoded data removed]"
          },
          "metadata": {}
        }
      ]
    },
    {
      "cell_type": "code",
      "source": [
        "mean_arr_1000 = [elem.mean() for elem in population_array[3]]\n",
        "sns.histplot(mean_arr_1000)\n",
        "sns.kdeplot(mean_arr_1000)"
      ],
      "metadata": {
        "id": "VUZpo-rA5xYI",
        "colab": {
          "base_uri": "https://localhost:8080/",
          "height": 450
        },
        "outputId": "8a6626fa-4320-4a5b-d4d5-35db0a232d50"
      },
      "execution_count": null,
      "outputs": [
        {
          "output_type": "execute_result",
          "data": {
            "text/plain": [
              "<Axes: ylabel='Count'>"
            ]
          },
          "metadata": {},
          "execution_count": 15
        },
        {
          "output_type": "display_data",
          "data": {
            "text/plain": [
              "<Figure size 640x480 with 1 Axes>"
            ],
            "image/png": "[encoded data removed]"
          },
          "metadata": {}
        }
      ]
    },
    {
      "cell_type": "code",
      "source": [
        "mean_arr_100000 = [elem.mean() for elem in population_array[4]]\n",
        "sns.histplot(mean_arr_100000)\n",
        "sns.kdeplot(mean_arr_100000)"
      ],
      "metadata": {
        "id": "MXkTKOlP5xfs",
        "colab": {
          "base_uri": "https://localhost:8080/",
          "height": 447
        },
        "outputId": "79c98ad8-0b6e-4a34-937d-9895cc9cb06f"
      },
      "execution_count": null,
      "outputs": [
        {
          "output_type": "execute_result",
          "data": {
            "text/plain": [
              "<Axes: ylabel='Count'>"
            ]
          },
          "metadata": {},
          "execution_count": 16
        },
        {
          "output_type": "display_data",
          "data": {
            "text/plain": [
              "<Figure size 640x480 with 1 Axes>"
            ],
            "image/png": "[encoded data removed]"
          },
          "metadata": {}
        }
      ]
    },
    {
      "cell_type": "markdown",
      "source": [
        "c. Does the population mean approach normal distribution as the sample size increases?"
      ],
      "metadata": {
        "id": "7W85n7roVGhH"
      }
    },
    {
      "cell_type": "markdown",
      "source": [
        "* You can see from the above plots that as the number of samples increases the variance decreases and the plot starts looking more concise\n",
        "* Now recall CLT, distribution becomes  more normal as sample size is increasing ans we can see it here"
      ],
      "metadata": {
        "id": "C8Re0XfI5-QT"
      }
    },
    {
      "cell_type": "markdown",
      "source": [
        "\n",
        "\n",
        "---\n",
        "\n",
        "\n",
        "\n",
        "---\n",
        "\n"
      ],
      "metadata": {
        "id": "0qjA1rBl-SiN"
      }
    },
    {
      "cell_type": "markdown",
      "source": [
        "Q3.\n",
        "\n",
        "Observe the dataset below and write a python code to compute following\n",
        "\n",
        "![Picture 1.jpg](data:image/jpeg;base64,/9j/4AAQSkZJRgABAQAAkACQAAD/4QCMRXhpZgAATU0AKgAAAAgABQESAAMAAAABAAEAAAEaAAUAAAABAAAASgEbAAUAAAABAAAAUgEoAAMAAAABAAIAAIdpAAQAAAABAAAAWgAAAAAAAACQAAAAAQAAAJAAAAABAAOgAQADAAAAAQABAACgAgAEAAAAAQAABLSgAwAEAAAAAQAAAdAAAAAA/+0AOFBob3Rvc2hvcCAzLjAAOEJJTQQEAAAAAAAAOEJJTQQlAAAAAAAQ1B2M2Y8AsgTpgAmY7PhCfv/AABEIAdAEtAMBIgACEQEDEQH/xAAfAAABBQEBAQEBAQAAAAAAAAAAAQIDBAUGBwgJCgv/xAC1EAACAQMDAgQDBQUEBAAAAX0BAgMABBEFEiExQQYTUWEHInEUMoGRoQgjQrHBFVLR8CQzYnKCCQoWFxgZGiUmJygpKjQ1Njc4OTpDREVGR0hJSlNUVVZXWFlaY2RlZmdoaWpzdHV2d3h5eoOEhYaHiImKkpOUlZaXmJmaoqOkpaanqKmqsrO0tba3uLm6wsPExcbHyMnK0tPU1dbX2Nna4eLj5OXm5+jp6vHy8/T19vf4+fr/xAAfAQADAQEBAQEBAQEBAAAAAAAAAQIDBAUGBwgJCgv/xAC1EQACAQIEBAMEBwUEBAABAncAAQIDEQQFITEGEkFRB2FxEyIygQgUQpGhscEJIzNS8BVictEKFiQ04SXxFxgZGiYnKCkqNTY3ODk6Q0RFRkdISUpTVFVWV1hZWmNkZWZnaGlqc3R1dnd4eXqCg4SFhoeIiYqSk5SVlpeYmZqio6Slpqeoqaqys7S1tre4ubrCw8TFxsfIycrS09TV1tfY2dri4+Tl5ufo6ery8/T19vf4+fr/2wBDAAICAgICAgMCAgMFAwMDBQYFBQUFBggGBgYGBggKCAgICAgICgoKCgoKCgoMDAwMDAwODg4ODg8PDw8PDw8PDw//2wBDAQICAgQEBAcEBAcQCwkLEBAQEBAQEBAQEBAQEBAQEBAQEBAQEBAQEBAQEBAQEBAQEBAQEBAQEBAQEBAQEBAQEBD/3QAEAEz/2gAMAwEAAhEDEQA/AP38ooooAKKKKACiiigAooooAKKKKACiiigAooooAKKKKACiiigAooooAKKKKACiiigAooooAKKKKACiiigAooooAKKKKACiiigAooooAKKKKACiiigAooooAKKKKACiiigAooooAKKKKACiiigAooooAKKKKACiiigAooooAKKKKACiiigAooooAKKKKACiiigAooooAKKKKACiiigAooooAKKKKACiiigAooooAKKKKACiiigAooooAKKKKACiiigAooooAKKKKACiiigAooooAKKKKACiiigAooooAKKKKACiiigAooooAKKKKACiiigAooooAKKKKACiiigAooooAKKKKACiiigAooooAKKKKACiiigAooooAKKKKACiiigAooooAKKKKACiiigAooooA//Q/fyiiigAooooAKKKKACiiigAooooAKKKKACiiigAooooAKKKKACiiigAoqre3ltp9rLe3biOGFSzMegAGSa8h+H37Qnwi+KWsXugeBfEEOqX+nHE8Uecoc45zTppyk4x1aV/l3HKLUed7bXPaKKKKQgorzL4k/GH4d/CPT49U+IOsR6TbSsEV5M4JbgDius8LeKtB8aaJbeIvDV0t7p92N0Uq9GHtRBc0XKOqTs/J9hTfK1GW71XodDRRRQMKKKKACiiigAoorN1fWNN0HTp9V1a4W2tbZC8jucAKOpqZSUVeT0HGLbsjSorkNO8d+FdW0CbxRp9+k2mQIZHmX7oQDJP5Vxfw5+Pvwn+LN7eaf4A1+HVp7Btkyx5yjehqo6y5Fva9vLuDTUPaPa9r9L9vU9jooooEFFFFABRRRQAUUUUAFFFFABRRRQAUUUUAFFFYniLxHo3hTSZ9c165W0srYbpJG6KKipUjCLlJ2SKhByfLFam3RXlvw2+M/w2+LkE9z8PtZi1eO2JEhjz8pBx3r1KtZQcd0ZwnGWsXcKKKKkoKKKKACiuc8V+LdA8E6HdeI/E12tlp1mheWV+iqOpNcn8M/jJ8OfjBpsur/DvWItXtIXMbPHnAYdRzTppy5uXW2/l6jlFxipS2enzPT6KK84+I3xa8AfCbShrfj/Vo9JsyQPMkzjJOB0qJTUd2OMW9kej0Vyfhbxx4X8Z+HYvFfhy/ju9KnUsk4OFIHU81H4a8e+E/F6Ty+HdQjvUtiyyFDkKV4NXUTjJwlo1uvQiElKKnHVPqdhRXiHh39oz4OeK/GV18P8AQfEcF3r1kSJbZc7lKnBz+Ne30krxU1s9mXOLjNwlo1uuqCiiigkKKKKACiiigAooooAKKKKACiuS8X+OvCvgSwTU/FWoR2FvJIsSs56u5wAB15ro7O8ttQto7y0cSRSgMrDuDTSurrYqUWkm+u3yLVFFRyypDG0sh2qoyT7VLaSuxJX0RJRXiPhj9ov4O+MfGV34A8OeIobzXrEsJrZc7k2nBz+Ne3Vbg+VSto9vMJLlk4PdboKKK4T4gfEvwV8LtEk8ReOdTj0vT4/vSydB27VlOpGKvJ2HGDk7JHd0VxngX4geEviToUXiXwXqCalp0xwsqdDXZ1tUpyhJxkrMyhUjJc0XdBRRRUFhRRRQAUUUUAFFV7u7trG2ku7uRYoYlLMzHAAHJ61zHhzx54U8WWE2p+H79Ly2g3F3TkDb1/lU86u1fZX+XcfK7X+XzOvorxLwX+0T8HviD4lvPCPhHxFDqGrWB2zQJnchzjmvbatL3VLo9gnFxk4S0a3Xb1CiiikIKKKKACiiigAooooAKKKKACiuV8UeNvDHgyCC48SX8dklzIIo955Z26ACuhs7y3v7aO8tHEkMo3Kw7g0otO9um45K1r9SzRRSMwRSzcADJpiForxOy/aI+D+oeNm+Hdp4hhk8QKcG1Gd+TxXtlEfegqkdns+j9BN2k4Pdbrt6hRRRQMKKKKACimu6xoXc4VeSa8S0P9o34OeI/HFx8ONG8RwXPiG0LCS0XO9SvBpwTlLkjq97eQ3FqLm9l1Pb6KAcjIrO1bVtP0PT5tU1SUQW1upZ3PQAVE5qKcpOyQ4xcnZbmjRXkXw4+Ovws+LVxeWvgDXYdWlsCRMsefkIODnNdVP8QfCFv4kXwlLqUQ1ZlDiAHLbTwDxWkouLjF7vbz9DOMk02tlv5ep2dFeM/ED9oH4SfC7XLHw5458QQ6XqOpFRbxSZy+44GMepr1qwv7XU7SK+spBLBMAyMOhBqIPmjzR1W3zNKkXBqMlZtXXp39C5RRRTJCiiigAooooAKKKKACiiigAooooAKKKKACiivM/iR8Yfh38JLGPUviBrEWk28pAV5M4JJwOlROpGOsnbp95UYN7I9MornvC/inQvGei2/iHw3dLe6fdDMcq9GHtXQ1rOEotxkrNGcJxklKLumFFFFSUFFFFABRRRQAUUUUAFFFFAH//R/fyiiigAooooAKKKKACiiigAooooARmVFLscBRk/QV+dv7RP/BSD4P8A7PviIeGbu3m169U4kWzZTs+ua/Qu7iM9rNApwZEZR+IxX80v7RXwb+NfwU/aE1Pxxo/gKPx7ZaiwZVmtWuolGc84rza9eaxVKle0He7tfVLRfPv5HZSpRdCpUSvJWsr20b1fy/U/TP4B/wDBTv4OfHPxnH4LisLjQLqcAQteMoWRycBFx3NfePxE+JXhH4YeGLjxZ4uv4rKygUkNIwXewGQo9zX871j8Qv2U/FXxN8K6h8SfC+q/D7xtbzQgQafAlrarID95geQM165/wVK+Ieopo3g7wv4amnv9OuYYLiME70mPQbsdSa9DNq8YYek6UbTlLkbveOv2k/JdDLLqKqYmUZO8VBza2lputfzPoK5/4LEfBW38RnQ18PahJCJhF9pG3y8E43fSv0d0r44eCPEPw5f4l+G7tdT01IfOPksGPTJH1r+Z7T/iH8d7rwJF4asv2fdPuIHgMa3o0pzMwIxu3Y619f8A7C1n8YPDXwg+IHhvx7oN7o2nRw7rZbqJo1G4MWCBuwrXFU3HB4lx+KnByUn9prpbp3OelPmr0Hb3ZySa7J+fX+mfXen/APBVr4G3eha7qt1Z3Npc6KWAtZGXzZ2U4wgq58Ev+CpnwV+MXi5PCUtjceHZZgPLlvWVUdicbR718A/8Ez/gV8MPiZ8Q/F+r+NLGHV5rGd2W3nUSIMueqmvQ/wDgqP8AAT4c/DTR9D8f+ANLi0C/+1JGBZoIlGOcjHetsRBYerh1WWlTk0XTmW/n3/AWX054x1aVF2lHms31t0/Tz3P3G8VeP/C/g/wrP4x1m+jh02KIyiQsArADPB96/KvxD/wWN+C+ia1daTB4b1G+jtnKCeIrsfHce1aHjvxB8M9b/Yq8Jz/G7Xb6zsWtLct9ikAnlOzod3XNfnt8Qvip4Wj+G1lof7PPwYOq6BFaMk+r6np2+c8ffEi8e+a4cYnRxNeHNzKDtypfjKXTtY6sGo1cPSns5Xbb8uiXU/cf4bftK/D79pH4Pan4o8G3ASX7LKZ7R2BmgJU4DgdM1+Vv/BLwAfHv4h4/57H/ANGNXIf8Ep5pjoHxLDDy98WWQcAHa3GPauw/4Je/8l7+If8A12P/AKMavp8Ng6dHNK/stFKgpW7Xexx168p5TUjL7NWK/X9T+guiiivnTQ/ID/grUAfhjpuRn/Sof/Qq+zf2Obu2sP2bfC13dyCKGK2LMx4AA6mvjP8A4K1f8kx03/r6h/8AQqs+I/GWreCP+Cc9tq+iu8V0LRVDpwQGODzXJgcW6GVY6old+2jb1cTfEYP6xmuBoXtzU2v/ACY674yf8FVPgn8KPF9z4TtrC58RG1O1riyZWiz3GfavpT9mn9sL4Y/tMaI+oeGJfsOoRFt9hOw89VH8RA7Gv5sPgX8Rvi5omi3Enhr4P2XjmC5dyby6sGuWJLEn5hXvf7Mg/aHtP2n9H8YP8Ornwtp+qTJDdx21m8NssWeSeMCveyfBqpNYapq5K/NtZpXtbqnsceaV7RlUoRtyu1t7paN36Prb5H7A+OP+CiPwn+HnxXb4WeKbSeymTrdyECEYOOteHa9/wWA+CWjeLrjw1Fod9d28E/ki8jK+SwzjeD6V8GfGf4d6b8Tv28tP0HWk32puFeRD0ZfM5BHpX6S/tnfsvfBTR/2d9QfRPC9jpt5ZIGW5t4VSUlV7sPWvlKGOnTyilmeI1vzXS6pStf5beZ6MaVOrmU8DSdvh1fS6vbzvuffnw5+KnhL4m+DLbxx4du0k0+4i80tuB2ADJyfavgP4xf8ABVH4K/Cfxtc+DY9PudfNqwRrizKtFk9efavmD9kHxdq/hv8AYv8AF15azSsbRDHEFP3VORxUP/BMb9nz4c/EDT/Efjrx5plvr9zeTMRHdoJRH857HpX0NfCuWYVqEJWjThGb8+fZfI8rBY+n9QhWqxvOpOUI9lyt3b9Uj6z13/gqT8DdLtdFl06GbVLjV3VDBAyl4d398V8pf8FM/wBruxvvAekfD/w7Ffade6tDHfecjbFMMgxsYjr715H/AMFFvgL8Pfhd8WfDHiTwTp6aX/aNzHG9vAoSEAdwB3r3T/goP4R8MH9kXwZ4mOlwf2r5VtH9p2Dzdmz7u70rxcc6dbL44tr/AJeuLXpsvk+vU+hyNTp5tDCxd26fMnbq09WvToUP2Nf2xPC/jb4Qal8DU0y7Gr2mizs91JgxsY48H35rxD/gn38ZPBHwW1b4g+KPGN4ltDDcllQkBnxngV95fsofDjwJp37I0vi2w0K0g1mbRZA92kQEzboyTluvNfn5/wAE4/gl4V+J/wAYvEer+LrddRsdOuXVrOYB4JCxOCynrivoqkFLNqkKb5ZKjq99bPVL0sjyaE4/2G5yV4+2hZdb+9u/Nn3v8P8A/grd8FPHHjW08IXGkXmkJdymIXdyVESkHAJPvX6r6df2uqWUGoWUglguEV0YcgqwyDX8/X/BVb4K/Dj4ev4J1nwPoltocstwQ4tYxGrYYYziv2d/ZvuZ7r4PeHJLhzI32WIZJyfuiubB1aWIwkqkItShLlfZ72/InHUKtCtSUneNSLkvk7fme60UUVzgFQXNzBZ28l1cuI4olLMx6ADk1PXO+LNKm1vw5qGlW7bJLmF0U9OWUgVhiZyjTlKCu0tEa0YxlNKTsj81vjF/wVX+Cvwn8ZXXhCHTbrX2tDhp7NlaPd3GfUV65+zL+338K/2l9Tm0XRYJdHvohkQ3TAM3bjFfh7d/DT46fsy/GLxLCfhbF49tr6VpPOubJ7qFUdi2UbGM4r6D+DXjb9kTxR8ePDutW9trPgnxoHhjms4ES3sjOD8yleu3Nepk9CnU9kpz5lNa9JJ2v8PVX0Mc6vTlUdJcqi15przfS5+3Hxz/AGhPh98AvDU3iHxneojRqWS3DASSHHAUH1r4M+H3/BXP4KeOPFVr4autGvdGS5baLm5KiIHOBk1+cn/BRnx14s1v9pPR7LSLaTW4bBUaGxcGSKdkfjKDqD0rzb4h+Kv2gviH4TPhmP4A2milirLd2OlvHOu3oQ2K8fLK7qUo4qXvKTfu7WSdt+rf4HXjKMVUWHT5XbWW+r127H9LnxP+PHhP4bfCe6+L2G1bSLZFkH2Yglw3pXw+/wDwVh+BSeB08XCzuTcszqbAMpuF2nGSPevnDTT8RbT/AIJ067ovxC0+50+5soUCJdIyScv6Gk/4Jb/s2/CPxd4Hv/HPi3SLfXb++ZkaK7jWVI9rEAqD0zXoLCOWKxVGM/dgoyi7dHZ29dfkZqrCOX4fEyj785zg+z5Uv+C/M+1P2eP+Cj3wX+P2ujw7Asnh6+kIWGO9ZVMrnoq+pr6Z+On7QXgL4B+EpvFXjC6VVRSY4QwDynGQFB7mvw8/bs+Dfgz4KftDeEPGXw8tRpEst1APIgURxKc5yAO9fRn7WfiL9nGe38A638b9R1TU9SFtayppliyyJK3UF42656GuWpiqVfCU61F8j53TlfXVa3iutyKMPZYudCt7yUPaLpu7JPsbOmf8Flvgzf6lb2EvhjUrZJ5FQyuVCqGONx9hX2p8bvHvhn4k/s1ax4p8K3kd7Y3ltvR423Dp0zX89n7VXxM1PxLoFxY+Fvg7B4W8IlwbbUn08wXBQfdy/TJr9Jf2apZJP+CflyJCSFtmwPTk1x54oVcnxt4tShF691tquh14Pmo4/CWkmpyV7bbX0fXsaH/BI8AeG/E2Bj98/wD6Ga/Zyvxk/wCCSH/It+Jv+uz/APoZr9m6+ozn4qf+CH/pKPlsi/h1P8dT/wBLYV8Q+Jf24PBPhL41W3wW1vR7u2vbs4juXwIm5xx9a+3q/Eb/AIKcfD9/DPjLwj8bNOUxDTbmBJmXjjfk5NeFGvGGLw/tn+7lLll310X4n0lPD+1o1owdpqLcX6avTzR+i/7Sv7VHgz9mnwlH4r8T20t8swBSGAjewPpmtb4AftH+Fvj/APDdPiRoFrLZWjI7mKYjeAnrivxG/a/+IT/tWa78P/AnhWXzYp7SUy7D3RQe1Xv2Y/i+vwD+EvxI+H2r3vlX2iW6CFHbAJkyCFFKlOUaGLdT448/J58jUWvPVmcoqpPDKj15Ofy5+Zr8lfsfbfjL9uH4PfGfRPH/AMO9Z8N6lNp2g28ovXjIG9FJU7TXc/8ABOjU/gnqHw91KX4MaXfaXpwu5BIt8wZzJjkgjtX58fAbwKg/ZI+JfxRvbcrf65HdAyMOSpJI5r2v/gmZqV5pH7NfjPU9P/4+LaW5eP8A3gvFetQpLDUsZzX5oU4OXS7au0/TYvGyVelSlTVoyrOMU9bJaX+e9z6z/aO/4KNfB/8AZ48SL4WvIJtfvgD5qWbKTEwOCrZ6Gvzs/bM/bL+F37THwMX/AIRtzp+oLNDizuCPOPzjOB7Vl/sQfCjw18cf2lPF/i/4l20erPDczg21wA6E567TXq3/AAU//Zs+FPg/wZp/jnwfo0GiXdk6L5dpGscb7mA+YAc14GLpKOFw1TEO/tHCSt9m8lZefY6KVaE8TWp4b3VTU4u+vM1F39PIxPHP7R1l8If2FfD3hCKK6j1LxFbyJb3FudvlFDySR61w/wDwTl/bP8PeGFtPg/run3l/q+uTyKt1ncgMmSNxPNfQeseEfDOs/wDBN9NX1XTILu9sbUtBNIgZ4yW5KntUX/BLD4ceA9U+FUvijUdBtLnV7aWYxXTxAyoQeMN2r36zgszzN11eylfzT2S7Wdr97HkUVfI8A6eicml/i5d/S3Q+VvgN428N+Av22/HnibxLdJZ2ds1w7O5wOJM4zX3PN/wV9+CUPjE+Fv7EvmgFyLf7ZlfJwTjfn+7X54/Cj4WaT8VP26/Eek60SbK0vpZpIv4JVEnKOO6n0r7m/wCCmn7PXwi8J/AE694S8NWejXtvcxgSWsKxsRjoSK8uliY4fL8HWq+9DblXnLe59JmWDeJzrE4en8ba16X5dj9dPBvjDQvHfh2y8UeHLlLuwvkEkciHIIPvXUV+f/8AwTeubif9m3w8k0jOscICgnoK/QCvTzLDxpVnGG269Grny2AryqUlKW+q+52CiiiuE7BCcDNfnd4w/wCCjvwk8CfF3UPhN4nsrixn08uHu5CFhLIM4H17V+iD/dNfzEfEr4beG/ir/wAFCtR8KeKmK2El4ZGAx8xTBAOexrDDc1TMKOFvZSvc9GnRprA4rEz3gk185JH6ESf8Fe/giniweG/7FvjAZAn2vK+Vz3z6V+mPg/4n+CfHXhCLxx4d1SG70iRN5mRwUXAyQT7V8P8A7VP7I3wLuvgFqy6X4Ys9JurW3RkubWFUlyozncPXFfll8E/iR4n8J/scePtD0u7mSPT0lSBlY5T5yCfbNNY2mqOIo2ftaSjK/RqT5VddNThlSftsPNu0KsnG38tk5P10R+j/AMYP+CrXwU+FXjO48IW2m3XiH7MMPcWbK0YbOCufUV9T/s+/tbfDL9ofw9JrHha48i7iUs9lIw88ADk4FfzRfAL4kfF3RPDM7eGfg9Y+O4LiZ3e+utPa5cu3UbxX0z+yHb/H+1/aUg8VX3w+uvDGm6l+7nhhtHhtUV2yeDXp4TBt1PqsndtfFtZ2vqn0ODMMVyRliI7Rfw73V7b9H1Mb/goH+1pb+MvjnZaLpK31pZeEbpUuoS+I5mjfOQvTpX7Qfsq/tb+BvjF8MZ9fgtpdGtNBhQTPdEKD8vY/hX5Y/wDBS/wR4R0r4++CG07SLa2bVJImutkYXziZACX9a/TH4p+Dfgd4K/Zlni19f+EV0a6tojcNpm2GaTgdPWuHBYj2WRyqO3xNK/SV1eT7rsj2szw8qmZYem3o430X2b7eu2p4b45/4K9/Bbwd4lu/D1voV9qqWjFftFuVMbEcHBr6w/Z8/a9+Gv7T/hC+1Dwo5sr+FX8yxmYeeqj+IgdjX4o6l8UPhvo/w0g0L9mn4QzeMII2m+06pq+nidyCTyJE9KX/AIJY3d5L8aPGM1xALKWa1kMkCjasZLHKgdgPSurB4SFWjiaE7txg2pbXt/d7M4MbUdJQrQt8W2+l7b9z0j9jsD/hvrxvx/Hc/wDoyv6KB0r+dj9jz/k/rxx/v3P/AKMr+icdK66//IvwX/XtG2a/8jXFesfyCvzX/wCCn4B/Z61LPPC/+hCv0or82P8Agp9/yb1qX0X/ANCFfI5//AX+KH/pSO/KP4z/AMMv/SWdL/wTgkjg/Zp0qSQhEV3JJ6AYrnvj/wD8FMvgv8C/FLeFDbz+I7mIfvWsmVljcHBVvcV5N+z34kv/AAp/wT71bW9MZ0ube2mZGTqDjrX41fBf4l/Fey1TWda8O/DC1+ILXtxI8k15ZNdFXbkjIr6jiCvKrnFeknZR1el7vt5ep4fDuHjTyiniJK7k+Va2t1v5+h/Rv+zH+3T8KP2mftFpohbR9ThfatndMBNIv95QO1Y/xn/b6+GnwQ+JFp8O/FljcK90SPtQIESY9Sa/DjwFN+0feftA+HPH9l8LZ/CgFxFDKljYvDB5TuNxbj0r2L9ubwnF8QP2pvCvh/VAVW7ePzF/75yDWGNpylWwDoRS9tOUXFu/wxb33SejKlVjTp4qVR6QipKVvNJ6eX4n3X48/wCCu/wR8G+KZvDtno95rEEWz/S7YqYm3jJwfbvX6D/BX44+C/jn4Nt/GfhG5V7eYZZCwLIR1Bx6V8ofGn9lD4G6b+zlqVrZeFLC2vIrJGF3HAonDbQc7q+GP+Cduuah4W+EvxFWxmkMWmRz+SgP3SCRkD1rjjiqcVi6UtZUafPfur2/E0qxl/stSOntZ8lu2l73Ptj9oH/gph8G/gP4tbwhLaz+IbqIfvWsmVljYHBVvcVhal/wVS+BVl4Q0/xLbwT3VzfOifYUZfPj392HtXxL/wAE8/gv4J+MXxd8aeOPiHZxa05uLgC3ulEig7s52mtT/gp/+zr8MPAKaF438F6TDo1wJ4oTDbII4mDHqQO9OV6EMN7Z3dXkd105nt89r9Dpc6VepX+rrlVJSWvVxWr8tfkexft6/tpaNJ8BNO07QLW+sLzxhAJ7eaNthiReoYj1rxr/AIJ2/tleG4dBtPgTqOnXlzrOoRXI+1k5jztZuT1r1b49eEfDGo/8E89J1+/0yCfUbO1iENw6AyRgnna3aur/AOCavw48Bz/ABPF82g2j63FDcbbwxAzD7w4br0ralRpUa+ZU5q6ipJ+n2bejs33sTXryrZbl9Vaczdv8XKrt+TT0XQ+Kv2PfiL4V+GP7SfxE8UeK7yOztLeSR8ucbsOTgV916X/wV7+CWo+NI/Cj6Le28Elz9n+2uVEIGcbyf7tfnn+yb8ItC+Kv7XniSHxEPPsNOvJJJLZsGKYFz8rqeor6z/4Ko/AP4U+C/hFpev8Ag7w9aaJdreKpa0iWIsMdDiojio4fB4KrW96DVrLRr3nrc9bMcE8TnOMw9L43Ju778u33an7X+HPEOleK9EtPEGiTrc2V9GssUiHIZW6EGtyvjf8AYTuri5/Z08LG4kMmyzhAz2G3pX2RXdmOHjSrShHbofMYDEOrRjOW4UUUVxHYBr8+fiL/AMFEPhV8MPim3ww8U2VxbTICTdMQIeDiv0FPQ1/ND8f/AAH4f+Iv7d+neH/Ep/0J51LLxh/3n3Tnsa44zqzzDDYWntU5r/KN0XiHTp4KviJ/Y5fxdj7q1X/gr98EtN8XSeGU0S+uLdJxD9sQr5JBON4PoK/TbwH8TfB3xH8LweL/AAvqMV3p00fmeYjBgoxk5PtXxj+0b+x/8B7r4FarZ6d4Ys9NnsrVpUuraFUmLRpkZb371+WX7HXxV8U+Gv2aPirZ2lxKYtE2RWwjJ3IrswOK6/bJYXFtK8qEVK/812ktOmpf1Wc54dxelSXK122s79dz9KPjj/wVA+Cnwa8TSeGorafxHLE215LJlZFI6g17N+zj+218Kv2j9InvPD7nTtQg3FrG4YeftHfA7Gv5wPgf8RPizov9qXvhr4UWnj5LuVy1xeWLXRXLHowr2z4HxftDXH7Teg+Of+FaXHhWzvZ4obqK0sngtRFnksMYrsyzBupKOHm7uSvzbcrtdK3VdLnLmNdJTqUY2UXte90nZ69H1t8jb/bt/a5g8WftD6Z/ZIvrTTvCV0kdzblyEmeB/mYL05r9m/2U/wBsDwJ8aPhZeeJre0m0Wy8OARTtdEAEqucg1+V3/BQ3wX4Usf2nPAUdro1tajVXtnu0SMKJWeT5i47571+mHxe8F/AfwL+zO9t4gH/CJaLdxo9wdLCwSytt6e+a8zLcRCjk9aUlrzWTvtLq33Vtke1m1FVsxw0b2jKnFrTaF9vXzPEfGn/BYD4LeE/E174ftdBv9Vjs32C5gKmN8dSpr7L/AGdP2s/hx+014Vm1fwlIbW7RG82zlYGaPrjcB61+Het/FP4d6Z8ObbRP2afg7L4ps4o5VutT1bTxNIc5+cSJXQ/8EmLu8l+KfjFp4RZvIoLwqNqofm4x7V6WX04VJTw8021FtS22V/h7M8bHydOlHEQa1klZa6N21fR+R2PgFR/w8QuDjnzF/wDQq/ofr+eLwH/ykQuP+uo/9Cr+h2uDJf8AkR5f/hl/6UzHFf8AI3x/+KP/AKSgr5c/aV/ah0D9mrSbTWvEWkXWo2tyyqXtwMJuOPmJr6jr47/bg+FkXxS+BOt6Uke65hTzUIHI2fNx+VceaYiVGl7WO0Wm/wDDfX8D2MtoQq1lSn10Xq9n9561pPxy8Kav8Jx8XISV0owmXBIyAB0+tfOn7Of7fPw9/aN8car4H8O6TdWFxpZOZJyNr4OPlxX5UeGv2kI9L/Yf1b4VC4zrVqzW+0n5xulx9a8y/Zv0TUf2ZfjZ4X8Q+IZ2trXxM0Zck4GHG75s9q96nCk8yrU2/wBzoo37uLmvvVtDx5ymsBFrWsuZv/DGSi3999D9ufjl+214G+DfxQ0n4R6ro93qWoa2Y0R7fBVfNO0Zr45+BPiT9mbVf2wtYXwx4f1Wz8aO0zTzTuDBnPzYWvF/h5cQ/tJftxar4juU+26f4ejYwOPmQNDJwc1gfs4qF/4KLeKFUYAluf8A0MVPDNCTrUJVk1OdOpJ9GknovRo9TOXGOHxcKXw01Bb3Tk9W/wDgH7PftEftNfD39m/wofEXjCcSTEAxWiMBNKPVQfSvz/b/AIKi/Bb4xeHNa8KPZXHh95oXVJbwgIxwa+YP20bS++Lv7YHh34f+J5jHpNvLhFJwrKCCRz61+lnxt/Y++A178CtQ0+08LWVhcRWasLq3hVZtyrnO7HevnZtVcqqY2trCXPGy3Sjo3fv1t8jpThDH0sFR0nHlk5PVPm1St2srdz82f+CfPxQ0f4W6F8TfiDeQveWVks022H7zKWOCK+XfhN+2zYeDf2lda+K/iaG/1TTL93ENuX3PGpfcBzwMCvs//gll4X0S+Pj3w1qtpHfaeiyQmKZQysqsQMivG/2YPh14F1z9tzxd4c1jQ7S80u3lm8u2kjDRLiTAwtfVNf8ACxhlLX91Br05dfm+/Q8bA8v9kY122q+953k7W7We/c6D9v34g6V8RPil8I/iDaxNZ2WqQ2lyFl+8iM4PzfSvtfxd/wAFO/gz8EbHR/ChsrjxBOkCiV7MqVjIA4bPevkH/gqX4V0wfGXwB4S0mFdPspIoLeNIRtEal8DaO2K/SXwz+yb8FbP9ntLfU/DNlf6kmmu7300KtcM4QncX65rw8HVjDLa1enpCNRvl6tWelz2s2hfFYSnU1k6KV+i97f8AQ9s/Zt/ah+H/AO0x4WHiPwc5hmQfvrSRgZYcnjcB0zX0rX89v/BKC2Oh/Frx3otlIy2sdwFC54wGbFf0JV7GNjScadagrRnFOz6dH+KPF5KtKvWw1b4qcnEKKKK4DUK8z+KvxX8IfB/wrdeLfGF4lra2ylsMwBb2Ga9Mr8//APgoX8E/F3xj+Dd1ZeD18+7tAHEHJ8zBzjA69K83NsRUpUXOnvdfJX1fyWp25fRhOqoz8/m7aL5vQ+Zp/wDgs58Gobt7ZfCmpuiSFN427SAcZ+lfpp8Ivjh4M+M/geHxz4RuFmtZE3MgYFkbGSpx3FfzlfD/AMeXPgDwrP4P/aD+Ci2fhq2Bjl1aDTit2oHBbzG4r9Nv+Cfet/s73Xh7XbP4H6lqZjZZZHs9RZcpnuqL0r3HTj7Gu4e84x5k15d106M8f20uak5LlvJJp+a6PrZ6HcTf8FOfgzp3jzxD4E12zuNMn0ATZmmKhJniONie57VwPhP/AIK6/BLxN4th8MTaNe6dHNIEF1MVEQycZJ9K/O74LfCrwd8WP27vFOj+M4RcWlrdzziJgCrssnRgeoNfop+3/wDss/Bmy+Bt74g8OeHrXQ76w2sktnEsbEgZ5IrgxFdYXB0MdXV4ySbS9dX/AMA9zFYRVMdXy/D+7JNcreu62t+rP00i+IPhCbwmPG0WpwtozR+YLgMPLxjPWvzJ+IH/AAVz+Cngjxdd+GLXRr3WY7VghurYqYmPQ4PtX5+al8UfF9n+wMNFtr2cHAjWRWOQBJjBPvXgnwa+Ifxo8OeAbfSNC+B1h4rtG37dRudNaeWQv1O8dcVpWh+/rKEvdhypK27lFS1eysml56nmUaqeHpykvelfrsk3HRddV+R/Tl8Df2hPh98fPDcXiDwbeo7MoaSDcDJH/vAV4x+01+3X8Jv2aFhttbLaxqUrhTZ2rAyqp/iIPavyi/4J82vx28H/ABe13V9e8IXvh/StQiZmiNu8Num45IQHjisb4C+DtH/aD/br8WQfEOP+0LbSpp3jhuRuUhJOFwe3tXdLBSxGJpU8O+WLg5yvra2jX3/gKM1Sw2Iq1HzODUY6W5r9fKyP0G+Dv/BVj4LfFfxnbeD5tNuvD7XfCT3jKsZYnAX6muq/b/1v4HR+BNNvfi1p17q2nSsjRfYXAPLDBya7v4p/8E+vgB8TL3TtRt9MHhmfTmR0bTEWElkOQTXyH/wU48MweD/gv4e8OW1xLdRWRjRZJjukYBwOTXg55Xp/VaT5LTVSC11TTktfJr/gnbgac/bTs7x9nJ9rNJ6eafU/Rf4Aa98P9L+Buka34bD6X4chhLR/amG5FA/iNfFnxO/4K1fBT4eeLrrwta6Tea4tqcG5tSpiJzggH2rx34z+MNZ8L/8ABPTS4dGmlt5Ly22l4iQRyO4r8zvgb8Q/jL4a8ELYeH/gnY+MraV2f+0LrTmuJXLdfnHWvXzKbnmGLjGWlKVrWu5N63b6WVvXU8rKbRy3CzaXNOKemiS20R/Tb8A/2lPh1+0J4dj1vwfdqJioZ7VmBlj453AelfO/7R3/AAUa+D/7PPiRfC17BNr98AfNWzZSYmBwVbPQ1+Yv7A+l/HnR/wBoW+1nWfBl74a0rV0bzIltnhto97chQeBisT9pj4JfGz4N/tKap8SNF8Cp48stZeSeOKW2a6hVXPRwP4qjGxj7ag4vlhNNvraS+z6eZ6mWwi4YlS9+VO3L9m6fX1XY/TL4D/8ABTz4O/HDxjB4Oh0+50K4uOEe7KhSfSv0tjdZUWRDlXAIPqDX8xlx8R/2X/E3iTwvd/Frwpq3w88bWMiI8OkW62tuZCwxuB5xX9Jvgq50278LabPpFy13aNCnlyMdzFdoxk+td9bDR+rRqpa3adndO3W/6f8ABPKjUnGu4SejV1dWa76duzOpooorzTsCiiigAooooA//0v38ooooAKKKKACiiigAooooAKKKKAK93E81tLFExR3RgGHYkcGvwe+Ofjr9sn9k/wCLNx4mtjdeOvDGqSEW1vIGmVO+Cqg4Hav3pqvPaWl1gXMKS46b1DfzrD2UlWjWhKzV15NP+tzdVU6MqMldOz87rz/Q/ls8Uy/GH9uT4naTbS/DVPCN/HKjTX8cLxN5YPPzMBX6Q/tf/saeNPFfwH8OQeD5jd+IPB9rECzH5mWBckj1NfrdFp2nwNvgtoo29VRQf0FW2VWBVhkHqDWtaEXhY4WkuXlnz3/vLb5eRnQqyWJ+sVPe93lt5Pe/e5/NP4a/bi/a28L+ArT4QWnw/me7tkFomoG3k83JO0Nnbj8a/ST4PeDPjN4d/Zr17VvjRrM+patqds8nlStnyQQSAPwNfpL/AGTpe7d9jhz6+Wuf5VxPxV8P6h4j8AatoejRCS6uYWSNOgJIIFYZxWnPC4p25qlSLTf46Lo2+xrgaUFiqHK+WEJXS/zfZI/mF/ZG8RfH34W+I/G3xN+EukRa3aWUsjXdu7HcyBzgBRya9T8VeI/2mf8AgoP8QtL8IeI/DE3hnSLORJJxseONVBwWUuOWr9Gf+CfH7NPxU+COp+KpviVpKWUOpyO0ILLIGBcnp9K/UmGwsLdt8FtHG3qqKD+gr2cUoxq4ecnzqEYNLs7Xt8n06bHmYKvU5aziuScpSV+62X4dT8bP25P2TvFz/s7+G9E8DxtqZ8KxQrNB18xIV5OB1Jr5O+FXx6/af8cfDdf2ePA/wyi0mOOzdGupYXiJRF5yzADJr+kx445VKSKHU9iMiq0WnafA2+G1ijb1VFB/QV5ns1P6xGt70arcmtvea3v28jtuo+ylTVpU1ZPy9O5/Pv8A8E5PBfjP4fXfxG8N+LdGurS9uUbaTEwjZtrZ2setdX/wTR8IeKtD+Ofj+71nSLqxhmlJR5omRW+duhI5r94EsrOJi8cEaM3UhQCa4vx7p2tDwhqi+CIkh1l4j5DIqqd/bmu2WbzoylipR5pey5LLrbW6XfpYFQVSlPCp2U6ild9LaWf+Z3tFfz+654N/4K3vrN82l6hMLMzOYcSxD5M/L+lZX/CF/wDBX7/oITf9/Yv8K4qcuaKlbcJRs2j6x/4Kp+Hdf1/4badBoenT6hILmElYIy5A3egr2H4d/CC5+Jv7FunfDnVYHtbm6syPLkXawccgEHpzU/7Fvh/9qmy0bVI/2on+13LSg23m7JMJj296++0jjiUJGoRR2AwK1rZdClha+ClJSVWSnddPdtb1Ihi5SxdHFw910lyrz1vc/mU+HfxZ/al/YT1jWfhpF4HbxDbb28oiJ5I0ViSCrKD+Nfb37F+oftS/G7x/d/Ff4jXNzoPhnkQ6cQUUup5GxhnFfsJLp2nzv5k9rFIx7sik/mRU0Nvb267LeJYl9FUKP0row2KcWqlZc01HlT6JWtts9DLE4eEounS92Ld35vffpdn4E614O8WSf8FAbXWU0e6NgJATP5TeWP3n97GK/Uj9tDTtQ1T4Ca3Z6bbSXU7xMBHGpZj8p6AV9VmztDJ5xgj8z+9tGfzqaSOOVdkqh1PYjIrw6+XKeUwyu+kVJX/xO+3kduHrezzGpmFtZOLt/hVj8bf2CPhrf6p+zZ4o8K+LrWXSBeBwPtSGLnnBO7tmvz6+F/xj+OH7E/xM8SeCfBGmReNIrqfiO3YzxoGYkcpnHXmv6bvFfhLT/E3hq+8OOiwRXkTISg24LAjPFfz167+wx+2d8FPiZrOpfs+O15p97JvW6dk3Nk5xiTOMZxXo1cdUlmMqyTipwjF21vyrRPtrr8/IzwOAp08udB2k4yclfRrmd2130dmvTzPKf2tdZ+NXjjxd4O8cfFqBNLn1K4j8rTYmJWIHBDbTyCa/TD9sn4XeLviV+xj4ctPClqbqfTbaG5kjAJYokfO0Dkmvl34YfsT/ALXHxd+LWneLf2oLhorLSHSVCWRxIV/hwvSv3y0jR7TSdHtdFiQNBaxrEoIyNqjHSqq4WMss+quyftHNW1sul/PuThcdUpZpHGR15YKOumut7eWp+BX7H/7RXxpvPA+ofArWvAs1jpdro86pdvBIrsyJgDkY5ruf+CWnhPxRoHjnxpNruk3WnpLdZUzxMgYc9Mjmv3Fj03ToSWitYkJ4yqKP5CpYbS0tyTBCkZPUqoGfyrqWJSxP1m3vOHK/Ppchx/2R4NfDzxmvK19Pnc/Gj/grd4X8SeI9L8Er4f0u41Ew3DF/IjaTaNw646V+ln7ONpdWXwh8P215E0EqW0QZHGGB2jqDXtk1rbXOBcQpLjpvUNj86lREjUKihQOwGBXFl8fYUatLfnlzem/+Z1ZhX+sOg7W9nFx9bu9x1FFFUc4Vg+J9NvdW0K80/Trl7O5mjYRypwytg4/Wt6isq1JTg4PqXTm4yUl0P54de+NP7bH7I/xF1uz8TaZcfECw1F2FuJledI0JJGCoPavEfh14C+Kn7XH7SuleM7fwEngiPTpo7q8ZInhVgrZZgWAyxr+oKaxsrk7ri3jlPq6Bv5iiCxsrZi1tbxxE90QKf0FdeAqqFSFbELnlBWi9vS9t7fiy8XWc41Y0fcVTdbrztfby7H4fft2fsq/ErRPFfh/45fDBX1Cbw5FGJYhy8hjO48Dk5rw69/bR/bH+NWn2Hwv8P+C5/DN5O8aHUIoZI3ABwSWK4r+jmSKKZdkqB1PZhkfrVRNL02Ng8dpCjDuI1B/lXLhKbheFR81Pm5lHaz3evZszrSvapSXLUStzb+l0fmJ+0H4Q8a+DP2D9X0n4g6rJq2uLAhnmlO4ks2evtX5Z/sgfE39pn9n/AOH2p/ETwB4fTxP4bviyrbsWdoyjHJVF9a/fX9sH4c+Kvip8B/EHgrwZbC71W+RRFGSFBIPqa8Z/4J//AAJ8efBb4TL4W+JemJaXoeQ+WSsgwzZFVgq1WWJxtW/I5pW00equkjsxfs45dhKPxWqTvrqvdVn5a/5H5ceBfCf7QP7d/wAe9N8b/EDSJvD+i6Q8cr28ivHGAh5Khxya6b/goP8As+fED4ffErwn8V/DOkyeI9J0RYIUgCNIS0bbgCq5+Wv6HoLOztubaCOLP9xQv8qdPbW1yu25iSUDs6hh+taXVP2P1Zcns233u3o27/0jhpX56s63vOa5fRLZI/ms+K3xD/ar/a1+Ct3o9t8PovD+h6KUV0SN45W2DPyqRk19a/s0abrifsO6r4YudKu4NStICjwyRMrE5P3QeTX7NJYWMSGOO3jRW6gIAD+GKelpaRIY44URD1AUAH8K5sZhoVaOKoR0VaNn1afV+d7baWKozlCph53/AITul0tayX/BPyH/AOCVHhrxD4e8O+I017TbjT2eZyonjKEjeema/YCvnD9pfSfi1P8ACvVbb4DBbXxO6f6OYwqHdn34r8dx4L/4K/Y/5CE3/f2L/CuzEY9152cbcqjH1tFK6OXCZesPCylfmcpel5N2P6F6+S/20Phpb/E34Ha1pD25uJoI2mjVV3MWRSRgV+Th8F/8Ffsf8hCb/v7F/hX7D/syaf8AGSz+G9rbfHRzP4g2qJSxVsnHPTiuXF5csTh6kXK23rv09DswuYSw+IpzjG/5bdT8Qf8AgmP8FvGOo/FqbXvGWkXVvZ6IZIovtcTJgOCPl3CuG/bw/Zy+IGm/tG3jeCtMup9I8RSwqRBGzR4XGd2Biv6fobOztiTbQRxE9dihf5US2dpOweaBJGHQsoJ/WunE1Pa1sNVkv4V01/Mm7v0u7a+RjhI+yhiI7+01V/stWtb01+9n5y+M/hXceBv2HtQ8H6VZO90+mbzDGpLmRk5GBzmvH/8Aglt4K1q3+C/iDQvEunXGnfbLuZSs8ZjYqw6gNX6/tFE6eU6BkPG0jI/Kmw21vbDbbxJED2VQv8q1+stzxc6iv7dJPysOMeXC0MNDT2cuZPufzZeP/D/7QP7DX7Rur+PfBGhS6/petPLNFDEjyRlHPG7YDg1yf7TPxC/a1/ag8FWPi3xB4Rl0fQbJ0D2luj75CzDBKEZ4r+naeys7kg3MEcpH99Q386Z/Z9hs8r7NFs/u7Fx+WK4IUn7GnRqPm9nbl8knt56bdtzrrYhe2lWox5edPmt1bTV/Lz7n5e+Gvht4t8Xf8E+z4H0+yeLV57RgsMylGypzgg81+f37D3x1+OPwX8Q23wUfwHM+mXl3LDNeSwSApknJBxjFf0lpDFGnlxoqp/dAAH5VVXTNNR/MS0iV+uRGoP54ruqV1LG18U1pVveP/B+77jhpQccvpYC/8Ntp9btJfofz/fsq+EvF9r+3H4s1vUdFu7azuHmZZnhZYzmTPDEYr7y/4Kd6JrOvfs53FjollNf3BuUPlwoXbGD2FfoollZxyGWOCNXP8QUA/nUksENwuyeNZF9GAI/WvOxWGVTB0sJeyh1+dz2sPmrhmUsxau5NO3orHwd/wTs0jVdF/Z50Oy1e0lsrhIhmOZSjDnuDX3tUcUMMC7IUWNR2UAD9Kkr08Zifaz57W0S+5WPAwuH9lDkvfV/i7hRRRXKdI1/umv5Xfj9pHxD1f9uvWY/hiwGuW9200YLbQyx8lSfev6o2GVIr8Y4P2TfjWn7cV38YX0df+EXllkYXHmLnB6fL1rDBqUc0w9ROyV9ex6cK8Y5bjI6NuKsu/vLQ+Xvjb+1n+2B8UNJn+BN14Ek0i4uPLge8tY5CCBgZ3Yxg19r/AAe/YT1HRv2WNX8A69L/AMVB4htyZOeAzfMOfWv1Wi0vTwqM9rF5gUZOxc5A9cVoAADAGBW3sofV6lJr36mkpLd22t211/rXy05KvSqp+7T1jHs/PvpofzKfDj4v/tPfsI3upfCqy8DN4hsxI8kb+TJImGOAQVB5r7t/Yj/4ag+LXj3UPi18T7+60jw7OXEWmNlURmOQApGcAV+ucunafO2+e1ikb1ZFJ/Mip4YILddkEaxr6KAB+ldOHxMk/aV/fqJWTf526szr0k1KFL3YSd2u/Xfpr2Pwu/4Ko/DL4iz+LPDHxN8L6TJqtro2wskSs7lwwI+VcnFcBrvif49/tofs7+INC1Dwm2g3fhlIBBCUeMXKjlshgM4Ar+g+a2t7ldtxEkq+jqGH61HFZWUClYLeONW6hUAB+uBXBRoJYOpg56pvmj/dldO/nt9zPSxGNc6tOqlZxjyvzXVeVz+aT9nz4+ftKaB4Qi/Z08C/C+O2muvMgF7NC8fPOSWIxXYfsDeAfiJ8Nf2hvF1t4/0S5tru/hkzIsTGEu7EnDYxX9FCabp0T+ZHaxI4/iCKD+eKkWys1kMqwRhz1YKM/nXo/Wf30q9venBwk+6e1u1u2p5joL2H1eOkU015O9363PwF/ZJ8HeLNN/bq8aatf6PdW9lK9zsmeJljbMnGGIwa/oDHSuc8QWE40a/fQoUj1J4n8lwoDb8cc1+HPjzwh/wVem8X6pJ4Vv5V0lpmNsBLEB5fbrXNUzFuNDB8jtCFubo7P8/I7sVD2tarjb252tPRH701+df/AAUq0XWNc+AWo2mjWU19OwGEhQux+YdhX5+f8IX/AMFfv+ghN/39i/wr7n/Yu8OftoWOr6uP2oJTdWLqn2ZZTHIM/wAXSs62VrF03BzUbWlr1s07L1M6WOeHftFG+6+9Wv8AK5P+x38N77xL+x6/gPX7SWxl1GOSJkmQow3D0NfmDoet/tLf8E/fiTreiaL4QPiLStRkklt0WN5Y/Lc/KxKg4bFf0xxQxQLshRY1HZQAP0qCawsblt9xbxyt6ugY/qK6sbiJVMdUxtP3XNWa3ujmwNCNPBxwdT3oxd1017n4lfsu+Mf2tf2mPi+PH3ij7T4S8KWDFZbIAxqzg5ACsASK4v8Aap8HeLL/APbM8LajY6RdXNpFMN8yRMyDBHJYDFfvZBa2tsMW0KRA/wBxQv8AKkeztJJBLJAjOOjFQT+dRenHEYStSjZUJOSW92007vfqRiKDq0MTSm9a0VG/ZLayPDvjjZ3d38DNVtLWF5Z2skARRlidnTFfmD/wTa8AawNA8d6R4s0+40u3vzOu64jMYILHn5sV+2zIjrsdQy+hGRWRqOh2F/ptzpvlJFHcoUbYoXr9K4fY8lTE1kub2tPktt1b389jpqx9pHDwvb2c+e/yt/wT+YseNPi3+w9+0P4if4f28HiyHVXlkS1t3M4VHfjcI8kH2q5+2H44+Pfxc8J+HPiH8VbBPDtpcTQiDTo2I3K3IdkPINew/Fr9g39qr4a/GfUvHX7OsrahFqbPKZnZP3Zds7AJM9Kr6F+xr+3B8cvH+j/8NHXLQ6HprpJ5m6Nh8hzs2pjrV4LnrU8Mpu8oOPxacqT283bZs7MylClVrypJJTi/h15m1v5Xe63PtLxf8OvE3xJ/4J+WHhnwzB51+9mkgQ9SE5OPeviT9hX9oD42+AprT4D3ngOaPSJVuY3vZYJFZcBj1Ix1r+gbwX4UsfBvhaw8LWQBt7GJY1GOMAelbyaZpsT+ZHaRI3qI1B/PFejiJQ+uYqstYVb3X3/8B/I8zDuf9n4fCT0dO7T7NpJ/kfgX+wP4R8W6X+1P411PV9HurO2nlZlkliZEOXJ4JGDX1j/wVd8P674i+B+n2mg6fPqEy3oJSBDIwGOuBX6jx2VnC5khgjRj1KqAfzFPmt4LhdlxGsq+jKGH615mMw/tcNRw17cnXvrc9vD5o6eZVcwtdzbdvVWPkP8AYb03UdJ/Z98NWWp20lpPHawho5VKsCF7g19hUyOKOFQkSBFHZRgfpT69PGYn21R1LWueDhMP7Kmqd72CiiiuU6RD0Nfy+/tVaX461P8AbWtP+FebTrNvKJYlZtqsVk4BPvX9QR6Gvxw8Vfso/GjU/wBsaz+KtrpCv4chcFp/MGcb89OvSuKlh3PNcHJtqKc7vt7un4lYyu4ZdiVBXk+Wy766/gfKXxs/bC/bC8Y6PdfAi88CSadetItpJfWscrbs/L97GMHPJr7i/ZX/AGI73wR+z3rfhzxV+71zxZDvuFHIVxkrz+NfqWul6cdryWkRkwMkopOfrir4AUYAwBXoS5Hhq1Bx1qq033XZLprqTzz56Li7Rpu8V5+vU/mO8GeNP2n/ANgLxz4h8I2XhB/E1leOTEoieWFFYlgVKg84619l/sj6/wDtW/tDfFN/il43mufDHhaAgLp2DGjMp5+VgDg1+zk2n2Fw2+e2ilb1ZFJ/UVJDbW1su23iSIeiKFH6VrhsTOM4Vaz5pRjyp+VrbddCcdShUUo0lyKTTaXfrbtdn4Tf8FS/h18R7b4keFfi94X0eTV7TSTCoSJGkYyo27kLniuK8Zaz8df20v2Z9U07UfCr6HeeHJE8uAo8fnRxDJOGAJNf0HT21tcrtuYklHo6hh+tNisrOFSkMEcat1CqAD+QrzsNhY08NPDvW8uaL/lkndPzPRxGPlUrUq1tYxUPWPb5n80v7O3x6/aX0zwND+zx4F+GSW8skUsJvriF4iwAOSzEY+leif8ABOjwL4/+GXx48V6T4/0e5try++YSiJvJLNkkB+nev6Eo9N06F/MitYkb1VFB/MCpFs7RJPNSCNXP8QUA/nXprE/7V9bavJxal53TSt2td6dTyKtByofV4u0eZSXqnd+t/wAD8DvA3g/xZF+39caxJo90lh5gPnmJhH97+9jFfv1WLq1ixsbmTTYY1vSh2PtG7d25r8MPH3hD/gq7N411uXwnfyroz3UhtAJYgBDn5eD7V5uCn7HC0Mvs2qUX73e7b+86auH5sRXxt/4kk7drJI/emsnXdPh1XR7zT513pPE6EH/aUiv5/v8AhC/+Cv3/AEEJv+/sX+Ffcf7GGg/tu6Xr16/7Sly81gSPKDujcY5+7XXDCqspU5NJWe/psZVMQ6VppN6rb13+R+OnjX9nfxtafte3PgLRdGvDoV3do7uIW+zsM7zlsYr9EP8AgpD+z5rOofCLwlr3gawlbU9CRPMFuhL4RAOAK/aU2NiZfPNvGZf72wbvzxmpZYIJ12TRrIvowBH61x1KEpYGlg+bWElLm3baSWvyVvmdkK/+3VMbJX501y9NW3+dvuPx1/4Ja/BTXPCPw71bxv4rsZbXVtQkkX9+hWQowzznmvBv2fPB/iyz/wCCg3ibWbvR7uGxeW5KzvEwjOW4w2MV/QHFBBAuyCNY19FAA/So1srNJTMkEayHqwUBvzxXt/2h/tyxijooOCj5epw0aPJgq2E/5+O7fzvsfil/wUi/Z0+Iv/CRaP8AHr4YwvczaMQ88cQJkLZBACjkivELj9rX9sv4/eAb74YaN4EbR3WARveMkkb4QdiwGSQK/ohliimQxzIsinswBH5Gq8enafEcxWsSE/3UUfyFeHRwvLh5YSTvTbbS7N/mr626npVsUnUp4iEbVI2Tl3S20720v+B+IH/BKXwd4z8PXPi+HxVplzZXMisrNPGyB3yckEjnmvknxjd/HH9k79rDxD420XwfLrr6m8kse2KSSLy3fI+ZQea/p5htLW3JNvCkRPXaoXP5VHNp9hcP5k9tFI3qyKT+ZFelXxDni6OLWjhFRt3SVvkcODj7LDV8K9VUlzP72/1P51f2v734jfGPx/8ACTx3deGLqGe5is5biOKF2WFi4JB44x71+6tpbXA+DMlsY287+zXXZj5s+WeMV6s1hYNt3W0Z2dMovH04qztXbtwNvp2rjnSj9Vq4WCspyb9L9Dpq4iU61CtLV04KPrZ3ufg3/wAEz/CPirQfjT46utb0i6sYZbnKPNEyKw3N0JFfvNVeKztIGLwQJGx6lVAJ/KrFdLqfuaVL+RW9dW/1IxU/a4qvif8An5Jyt2v0CiiisjMK+N/2y/BHxp8V/DuW7+COtzaXrdiN6xxvsEoByQfwFfZFIQCMEZBrmxWH9rHlvZ6P7jfD1vZyva+6+8/mj1b9tf8AaUl8DXPwm+IPwp/4SdQGgmuLi2kZpDnGchcda+nP+CbX7MfjXwVJ4g+L/ie1bRYdaikWKyAK7Ax3Bdp5wK/bE6TpTHc1nCT6+Wv+FJe2gbTpra1jVdykBVAAz+FdjxcqdOvOK/eVItN/noclTDqcqdNO1OLvbf013/zP5UtBT4sW37ZPjHW/hFAl1qul3VxcSQyNtEkSPkrx1z6V7T8Zv2jP2tf2p3i+Cl34Jl8PJNMsc00McgQgHBJYjGK+vP2d/wBk740+Bf2u/FHxP8S6MsHh3UmnMM3mK24O+R8v0r9jE03T0bzFtYlf1CLn88VX1Wl9UwkKnvRUU3HtK/8AWjO7NcRJ4/E1KGkna0l2t/Wp+Veq/sG6i37IA+E1pPu8Q+SshbIxvU78Zr8/fhz+1H+1X+ypoM3wYHgGTWxp5aOO5aCR/vHghgMV/TH7VRfTNNkbfJaQux7mNSf5VhUdSVapUUrRqfFHppZK3ayVjkp06caNOm43cNn11u3fvdu5+Yn7Cfhz9orxS2qfEn40atcrYauH+z6dKcLFuORhTyMCviz9oH4L/HL9kz47Xn7QPwx0xta0zVJ2aSKMF2LO24qVXnbX9DEcUUK7IkCKOygAfpTZra3uV2XESyr6MoYfrW2JqyeIp4jD+44LlXp2ff1Lw0n7GpRxL51Uacumq1VuyR/PEP2pP22P2qvFuleCvCnh+48DYdWmniWSFTGp+bLMBzivoL/goL4B8eR/AnwzoNwt34i1a28sTyohldm3DJOK/ZWLTtPgbfBbRRt6qig/oKmmtre4G2eJZR6Mob+dcmOw0KtBUYK3vxm3vdxaenZO23zHRqSjVdWTv7riltut/Nn5l2/wC1b4yfsQWXw/8p7PVntcRrINjKw55z0r80vht+0X+1R+xzp138HU8CP4gitHfy52hkkGCcAgqCK/pkSOONdkahVHYDAqrJpmmytvltInY92jUn9RXTi5yqYqtiIO0at3KPd9H8v6sc2DoQpYWjhpK7pJKL6n5WfsNaP+0v4+1nVfin8XNXu7HStSEgt9Oc4WIscjCnkYrwT9oDxT+2P+y98Yr3x/pc13418L30jmCxfdLHGrHj5VBxiv3XihigXZCixr6KAB+lMmtbW5GLmFJR/tqG/nTxdWUqlOdB8iiuW2911vfr5muHuoVI1/ectb7WfS1tl5H8s/jjXvjL+278SNF0t/hdH4a1Qyq73qwPFkKQSWZgBnFf0o/BzwVc/D34d6P4UvJ2uJrKFVZ2OTnAzXoMWm6dA/mQ2sUbDuqKD+gq7W1OrTp4f6vRhZN8z83+hlWpyqV416ju4rlXp+uwUUUVzGwUUUUAFFFFAH/9P9/KKKazonLsF+pxQA6iovtEH/AD0X8xR9og/56L+YoAloqL7RB/z0X8xR9og/56L+YoAloqL7RB/z0X8xR9og/wCei/mKAJaKi+0Qf89F/MUfaIP+ei/mKAJaKi+0Qf8APRfzFH2iD/nov5igCWiovtEH/PRfzFH2iD/nov5igCWiovtEH/PRfzFH2iD/AJ6L+YoAloqL7RB/z0X8xR9og/56L+YoAloqL7RB/wA9F/MUfaIP+ei/mKAJaKi+0Qf89F/MUfaIP+ei/mKAJaKi+0Qf89F/MUfaIP8Anov5igCWiovtEH/PRfzFH2iD/nov5igCWiovtEH/AD0X8xR9og/56L+YoAloqL7RB/z0X8xR9og/56L+YoAloqL7RB/z0X8xR9og/wCei/mKAJaKi+0Qf89F/MUfaIP+ei/mKAJaKi+0Qf8APRfzFH2iD/nov5igCWiovtEH/PRfzFH2iD/nov5igCWiovtEH/PRfzFH2iD/AJ6L+YoAloqL7RB/z0X8xR9og/56L+YoAloqL7RB/wA9F/MUfaIP+ei/mKAJaKi+0Qf89F/MUfaIP+ei/mKAJaKi+0Qf89F/MUfaIP8Anov5igCWiovtEH/PRfzFH2iD/nov5igCWiovtEH/AD0X8xR9og/56L+YoAloqL7RB/z0X8xR9og/56L+YoAloqL7RB/z0X8xR9og/wCei/mKAJaKi+0Qf89F/MUfaIP+ei/mKAJaKi+0Qf8APRfzFH2iD/nov5igCWiovtEH/PRfzFH2iD/nov5igCWiovtEH/PRfzFH2iD/AJ6L+YoAloqL7RB/z0X8xR9og/56L+YoAloqL7RB/wA9F/MUfaIP+ei/mKAJaKi+0Qf89F/MUfaIP+ei/mKAJaKi+0Qf89F/MUfaIP8Anov5igCWiovtEH/PRfzFH2iD/nov5igCWiovtEH/AD0X8xR9og/56L+YoAloqL7RB/z0X8xR9og/56L+YoAloqL7RB/z0X8xR9og/wCei/mKAJaKi+0Qf89F/MUfaIP+ei/mKAJaKi+0Qf8APRfzFH2iD/nov5igCWiovtEH/PRfzFH2iD/nov5igCWiovtEH/PRfzFH2iD/AJ6L+YoAloqL7RB/z0X8xR9og/56L+YoAloqL7RB/wA9F/MUfaIP+ei/mKAJaKi+0Qf89F/MUfaIP+ei/mKAJaKi+0Qf89F/MUfaIP8Anov5igCWiovtEH/PRfzFH2iD/nov5igCWiovtEH/AD0X8xR9og/56L+YoAloqL7RB/z0X8xR9og/56L+YoAloqL7RB/z0X8xR9og/wCei/mKAJaKi+0Qf89F/MUfaIP+ei/mKAJaKi+0Qf8APRfzFH2iD/nov5igCWiovtEH/PRfzFH2iD/nov5igCWiovtEH/PRfzFH2iD/AJ6L+YoAloqL7RB/z0X8xR9og/56L+YoAloqL7RB/wA9F/MUfaIP+ei/mKAJaKi+0Qf89F/MUfaIP+ei/mKAJaKi+0Qf89F/MUfaIP8Anov5igCWiovtEH/PRfzFH2iD/nov5igCWiovtEH/AD0X8xR9og/56L+YoAloqL7RB/z0X8xR9og/56L+YoAloqL7RB/z0X8xR9og/wCei/mKAJaKi+0Qf89F/MUfaIP+ei/mKAJaKi+0Qf8APRfzFH2iD/nov5igCWiovtEH/PRfzFH2iD/nov5igCWiovtEH/PRfzFH2iD/AJ6L+YoAloqL7RB/z0X8xR9og/56L+YoAloqL7RB/wA9F/MUfaIP+ei/mKAJaKi+0Qf89F/MUfaIP+ei/mKAJaKi+0Qf89F/MUfaIP8Anov5igCWiovtEH/PRfzFH2iD/nov5igCWiovtEH/AD0X8xT1dXGUIYe3NADqKKKACiiigD//1P38rwT48/Bi2+M2jWOk3PiPVPDos5TIJNMm8l346Me4r3us7UfuL9aAPzv/AOGDNL/6Kl4u/wDA80f8MGaX/wBFS8Xf+B5r75ooA+Bv+GDNL/6Kl4u/8DzR/wAMGaX/ANFS8Xf+B5r75ooA+Bv+GDNL/wCipeLv/A80f8MGaX/0VLxd/wCB5r75ooA+Bv8AhgzS/wDoqXi7/wADzR/wwZpf/RUvF3/gea++aKAPgb/hgzS/+ipeLv8AwPNH/DBml/8ARUvF3/gea++aKAPgb/hgzS/+ipeLv/A80f8ADBml/wDRUvF3/gea++aKAPgb/hgzS/8AoqXi7/wPNH/DBml/9FS8Xf8Agea++aKAPgb/AIYM0v8A6Kl4u/8AA80f8MGaX/0VLxd/4HmvvmigD4G/4YM0v/oqXi7/AMDzR/wwZpf/AEVLxd/4HmvvmigD4G/4YM0v/oqXi7/wPNH/AAwZpf8A0VLxd/4HmvvmigD4G/4YM0v/AKKl4u/8DzR/wwZpf/RUvF3/AIHmvvmigD4G/wCGDNL/AOipeLv/AAPNH/DBml/9FS8Xf+B5r75ooA+Bv+GDNL/6Kl4u/wDA80f8MGaX/wBFS8Xf+B5r75ooA+Bv+GDNL/6Kl4u/8DzR/wAMGaX/ANFS8Xf+B5r75ooA+Bv+GDNL/wCipeLv/A80f8MGaX/0VLxd/wCB5r75ooA+Bv8AhgzS/wDoqXi7/wADzR/wwZpf/RUvF3/gea++aKAPgb/hgzS/+ipeLv8AwPNH/DBml/8ARUvF3/gea++aKAPgb/hgzS/+ipeLv/A80f8ADBml/wDRUvF3/gea++aKAPgb/hgzS/8AoqXi7/wPNH/DBml/9FS8Xf8Agea++aKAPgb/AIYM0v8A6Kl4u/8AA80f8MGaX/0VLxd/4HmvvmigD4G/4YM0v/oqXi7/AMDzR/wwZpf/AEVLxd/4HmvvmigD4G/4YM0v/oqXi7/wPNH/AAwZpf8A0VLxd/4HmvvmigD4G/4YM0v/AKKl4u/8DzR/wwZpf/RUvF3/AIHmvvmigD4G/wCGDNL/AOipeLv/AAPNH/DBml/9FS8Xf+B5r75ooA+Bv+GDNL/6Kl4u/wDA80f8MGaX/wBFS8Xf+B5r75ooA+Bv+GDNL/6Kl4u/8DzR/wAMGaX/ANFS8Xf+B5r75ooA+Bv+GDNL/wCipeLv/A80f8MGaX/0VLxd/wCB5r75ooA+Bv8AhgzS/wDoqXi7/wADzR/wwZpf/RUvF3/gea++aKAPgb/hgzS/+ipeLv8AwPNH/DBml/8ARUvF3/gea++aKAPgb/hgzS/+ipeLv/A80f8ADBml/wDRUvF3/gea++aKAPgb/hgzS/8AoqXi7/wPNH/DBml/9FS8Xf8Agea++aKAPgb/AIYM0v8A6Kl4u/8AA80f8MGaX/0VLxd/4HmvvmigD4G/4YM0v/oqXi7/AMDzR/wwZpf/AEVLxd/4HmvvmigD4G/4YM0v/oqXi7/wPNH/AAwZpf8A0VLxd/4HmvvmigD4G/4YM0v/AKKl4u/8DzR/wwZpf/RUvF3/AIHmvvmigD4G/wCGDNL/AOipeLv/AAPNH/DBml/9FS8Xf+B5r75ooA+Bv+GDNL/6Kl4u/wDA80f8MGaX/wBFS8Xf+B5r75ooA+Bv+GDNL/6Kl4u/8DzR/wAMGaX/ANFS8Xf+B5r75ooA+Bv+GDNL/wCipeLv/A80f8MGaX/0VLxd/wCB5r75ooA+Bv8AhgzS/wDoqXi7/wADzR/wwZpf/RUvF3/gea++aKAPgb/hgzS/+ipeLv8AwPNH/DBml/8ARUvF3/gea++aKAPgb/hgzS/+ipeLv/A80f8ADBml/wDRUvF3/gea++aKAPgb/hgzS/8AoqXi7/wPNH/DBml/9FS8Xf8Agea++aKAPgb/AIYM0v8A6Kl4u/8AA80f8MGaX/0VLxd/4HmvvmigD4G/4YM0v/oqXi7/AMDzR/wwZpf/AEVLxd/4HmvvmigD4G/4YM0v/oqXi7/wPNH/AAwZpf8A0VLxd/4HmvvmigD4G/4YM0v/AKKl4u/8DzR/wwZpf/RUvF3/AIHmvvmigD4G/wCGDNL/AOipeLv/AAPNH/DBml/9FS8Xf+B5r75ooA+Bv+GDNL/6Kl4u/wDA80f8MGaX/wBFS8Xf+B5r75ooA+Bv+GDNL/6Kl4u/8DzR/wAMGaX/ANFS8Xf+B5r75ooA+Bv+GDNL/wCipeLv/A80f8MGaX/0VLxd/wCB5r75ooA+Bv8AhgzS/wDoqXi7/wADzR/wwZpf/RUvF3/gea++aKAPgb/hgzS/+ipeLv8AwPNH/DBml/8ARUvF3/gea++aKAPgb/hgzS/+ipeLv/A80f8ADBml/wDRUvF3/gea++aKAPgb/hgzS/8AoqXi7/wPNH/DBml/9FS8Xf8Agea++aKAPgb/AIYM0v8A6Kl4u/8AA80f8MGaX/0VLxd/4HmvvmigD4G/4YM0v/oqXi7/AMDzR/wwZpf/AEVLxd/4HmvvmigD4G/4YM0v/oqXi7/wPNH/AAwZpf8A0VLxd/4HmvvmigD4G/4YM0v/AKKl4u/8DzR/wwZpf/RUvF3/AIHmvvmigD4G/wCGDNL/AOipeLv/AAPNH/DBml/9FS8Xf+B5r75ooA+Bv+GDNL/6Kl4u/wDA80f8MGaX/wBFS8Xf+B5r75ooA+Bv+GDNL/6Kl4u/8DzR/wAMGaX/ANFS8Xf+B5r75ooA+Bv+GDNL/wCipeLv/A80f8MGaX/0VLxd/wCB5r75ooA+Bv8AhgzS/wDoqXi7/wADzR/wwZpf/RUvF3/gea++aKAPgb/hgzS/+ipeLv8AwPNH/DBml/8ARUvF3/gea++aKAPgb/hgzS/+ipeLv/A80f8ADBml/wDRUvF3/gea++aKAPgb/hgzS/8AoqXi7/wPNH/DBml/9FS8Xf8Agea++aKAPgb/AIYM0v8A6Kl4u/8AA80f8MGaX/0VLxd/4HmvvmigD4G/4YM0v/oqXi7/AMDzR/wwZpf/AEVLxd/4HmvvmigD4G/4YM0v/oqXi7/wPNH/AAwZpf8A0VLxd/4HmvvmigD4G/4YM0v/AKKl4u/8DzR/wwZpf/RUvF3/AIHmvvmigD4G/wCGDNL/AOipeLv/AAPNH/DBml/9FS8Xf+B5r75ooA+Bv+GDNL/6Kl4u/wDA819efBD4VQfCLwk/hm31zUNfVpml+0alL50wz/Du9K72trT/APUn60AXqKKKACiiigD/1f38rO1H7i/WtGs7UfuL9aAMiiiigAor8nP23/2yfHvgnxBa/CD4GRl/Fd82PPTDGJgem08HNfL3hT9sH9sP4C+OtGj/AGnoZJNG1hwsYZVUYOOcr9aMvaxLjy6KTcU3s2ui/L/gBjr0Lpq7STaW6T6v8/8Agn9AlFYPhjxDZeKdBstf09t0F7Ekq47bxnFb1XUpuMnGS1REJqUVKL0YUUUVBYUUUUAFFFFABRRRQAUUUUAFFFFABRRRQAUUUUAFFFFABRRRQAUUUUAFFFeN/H3xvefD34Waz4p0+b7Pc2qL5b4zhmOBxXPi8TGjTlVlsjfC4eVapGlHdux7JRX5gfDfwB+2f8SvDSeLj8YV0iO8ctFbmxR9sZ5Xn6V9o/BrwV8V/B2my23xQ8ZDxddMxKyiAQ7VPQYFd0qDi3GejX9W0OONZSSlHVM9uoorzj4m/FTwb8JvDdx4n8Y3y2drApIz8zM3YBRzzXLVqxhHmkzppUpTlywV2ej0V+YP7Lf7XfiX9oH43eKtNt5Gi8N2TRi1hZcEAjk8gHnrX6fVrGLdKnVaspK67721+4ipaNWdJO7i7O217J/hcKKKKQgooooAKKKKACiiigAooooAKKKKACiiigAooooAKKKKACiiigAooooAKK4P4k+N7b4e+Eb7xNcxmY20bFI1By7gZC8etfA/hjT/ANrv42afP8RvD/jw+DNKusyWumvarKdq/wAO4881lGpzSlFLSKTb7X2+b8jV0koKUmlfRLq+/wB3d6H6aUV8Qfs0fH7xd4o8Ua58IviVbEeIfDZRXuyR/pG/kHaOBxX2/XVVpcqjJNOMldNbNP8Ar1XUwu1KUJq0lo12Civhn9tD4qfEHwPpvhjQPhpqn9k6vr+pRWfn7BJtWTvtNczp3wM/bQu7OC5n+OCxPIoZk+wJxntWWHTqRc7Wjflu9m1vb0OivSVPkTkryV7dUr219eh+hlFcb4C0fxPoPhay0vxjqw1zVYExNdhBH5reu0dK7KtKsFGTinfzOeEm1dqwUUUVmUFFFFABRRRQAUUUUAFFFFABRRRQAUUUUAFFFFABRRRQAUUUUAFFFFABRSMyopZyFA6k8CvzY/a2/bo8P/CtYfCfgG5+3eIZLhYpPLUkRgnByeRxWFbEKDjHdt2S6s1hSbjKfSKu2fpRRXlvwW8R6p4t+GWheItal869vYQ8jYxkn2r1Ku7E0HSqSpS3Ta+448NXVWnGrHZpP7wopGYIpZjgDk1+T/7SX7amvaD8efCfwl+G155UU99Cl7Oq7ldGbDR896xoL2mIp4aPxTdl8tWzsVJunOr0irv+u5+sNFZ2kzyXOm21xMcvIgJPua0ac4csnF9DnpzUoqS6hRRRUlhRRRQAUUUUAFFFFABRRRQAUUUUAFFFFABRRRQAUUUUAFFFFABRTJJEijaWQ4VAST7CvgDxv8YPiF8YviTffCb4Ia1/wj82ikLd6j5YlVd4yvyt+VRzNzVOEbt3enZbt+S/4G5fKlB1Ju0V183svV/1ofoFRX5n23xB+P8A+zh8R9I0T4y+Iv8AhNtB8Ryi3iuxEtutu3diB1r9JrK8g1C0hvrVt8M6h0I7g9K6ZUl7NVYSUovTTo1un5r8d1oZzvGfJJWdrrzXdfkWqK8A/aK+Mknwa8DtrdjYvqOoXcgt7aJM5Mrj5eme9fKmheBf20PGvh1PH6/Ez+wBdIbhdJa0R2jA5Ee/39a5I1bqckvdjo32fa2707Jm86LjGDe8tl3t1/4c/SqivjL9l/8AaD1v4iXmsfDvx3bG38T+GSqXLEjMpfocDgcc19m12V6Dpta3TSafdPZnNCd3KLVnF2a7NdP+GCiiisCwooooAKKKKACikJAGScAetUG1bSVbY19bhh2MqA/lmgDQopkckcqh4nDqehU5B/EVBPfWVqQLq5ihJ6b3Vf5kUAWqKrwXlndc2s8c2P7jq38ia+O/2gfjtrHgXx34X8IaFdR241C7gWdy6nMbnDKQelKLTq06XWbsvX+kD0hOo9oq7Psyiq1rcw3Fsk8cqyKVB3KwI/McVAdW0lW2NfW4b0MqA/lmqas7Ci7q5oUU1WVxuRgwPcHIqpLqWm27+XcXkMT/AN15VU/kTSGXaKggurW5XdbTJMvqjBh+YzRPdWtsu65mjhX1dgo/UihgT0VSi1PTZ3EcF5DI5/hWVWP5A1doAK2tP/1J+tYtbWn/AOpP1oAvUUUUAFFFFAH/1v38rO1H7i/WtGs7UfuL9aAMiq922y2lf+6pNWKjmQyRPGP4his6ybg0uzLptKSufzyeCpB4p/4KW3lvcDekE8mBJ8w4Xtmvqb/gq1a2yfDrQLgxKZYXG1scjDDoa+V/H08PwD/b+j8c+MSLHStRmdkm+6pBGM5Pau6/4KTfHfwV8TtO8H+DPhvqlvr893IBKLVxKVyVPOKxx0frGVZdSwyvK6TS/mUrv8D01NU83xNStJW5L36WcXb9EfqJ+x1r8viP4D+H7+YEFYlj59FXFfUdeD/s1+F38I/B7w/pMkRhcW8blSMEEqK94r3s7lGWLquO12fK5JGUcJSU97IKKKK8s9QKKKKACiiigAooooAKKKKACiiigAooooAKKKKACiiigAooooAKKKKACvir9uXRfiH4n+Edz4b+HumS6nd3pQMkQyRtcHmvtWvE/jR8ctB+B+lW+ueI7O4nspm2tLCPljycAse1YVlFuHM7e9H5tSTS+b0OrB1p05ucFqk/lo9flufHegfDr9uLRPBlhL4d8Y6bp9ra2sZ+wy22ZQVXlc+te5/s1ftFXfxRa98HeL7VrLxPorNFcBuPOMfDSKvZSelfSOj+M9A1/wAKxeLrO6Q6dPCJfMLDaqsueTX5o/s06Xc+KP2rvFnxB0CdZtBSGa1LocoZg+Tz0zXpYecp4yeHq7ckpO+6atbXfXbXsebUhGODVem9VKKXaSe6tt5n6tV4b8TPgB8P/inq1lrvi6Oa4l00Hy4hIRCe/wAydDXuVRzf6p/oa4ZpaT6rVeTOuEmrx6PR+h+WPwF0jTNE/bD8f6fpNtHa28RtVVI1CqAE9BX6pV+X3wZ/5PP+If8AvW3/AKBX6g08E28vwrf8r/8ASmb5pFLHV0v7v/pEQoooqjlCiiigAooooAKKKKACiiigAooooAKKKKACiiigAooooAKKKKACiiigCtd2Vpfwm3vYUniPVXAYfka8D+NfxJ8T/Cnw9s8CeCbrxI8kbBI7IALE2OMivQ/iZ8QrH4ZeGZfFOpWk13bQH5xCMsq9Sx9hT/h18SfDfxN8I23jHw7OHsbpC3XJUDrnFYTp+1jNQdrW5ree1/Xuaxmqcouave9vlv8Acfnf+xfPBr3xI8SeMviNex2njvVXQzaY3yzQBchQw91r9T6/IjWUtPFH7dWlX3w/lQxadKf7Ta26NlPl8wjr+NfrquQoz1rvVSFTB4etBKKaa5VsuWTjp5O1/mY4nmWMrRm+Z3Tv6pO3yWnofmh+1X4O+NHjf4xeH7LwNpbmxsmhniv3TfDDMD95vpVzxZP+2t8IdLfxx4m8U2HiPRbD95PZWtvtlMS8tg/SvpfxZ+0x4P8ABPxNsvhj4htri0uNQCeTdOAsDs5wEB7mui+P/ifw/oHwi8Q3ms3UcMN1ZTRRFyAHd0O1R6k15bryw+CVWi7pOTV9U23qrbeR6EaKrYuNKpGzaimlva2jvv5lr4H/ABg0f41+BLHxlpURtjcoDJAxy0bdMGvYq+Bf+CffhrV9E+FUmo6gpSDUm8yBSMYXJr76r2sxpxjVagrJpO3a6Ta+Wx5NBv3k3e0pJPulJpP5pBRRRXCbhRRRQAUUUUAFFFFABRRRQAUUUUAFFFFABRRRQAUUUUAFFFFABRRRQBm6xpVtremXOk3ZZYbpDG5Q7Ww3oe1fm5+0d+z18NPhR8Kby78N2JludR1FZ5Jrk+bKGPXDNyB7V+mtfHX7bf8AySJP+vtK8zNJOFGUo6NuKfpzI9DLnzVFCW2rt52Z61+zt/yRvw3/ANcK9rrxX9nf/kjnhv8A64V7Q4YowXqQcfWvpM4/3qr/AIn+Z89k/wDulL/CvyPkz9qD4zXPgnSbXwV4SmB8UeImNvaqOSrHuR9K/O/42/Byz+Fp+Fk10vm63q3iC2uryZ+X82Tl1yeQM9q+iviN+zj+1JffHK6+KvgjU9EuLchPs0Oo7n8hl/iUdjXyf+1tZftdxeI/Ag+It9oUty2rwCxNoGCif+Evn+H1rjyKtyVcPUs+ec05Lslflivzfme3jleFWlF3hGDt5ye7fktl95+6ug/8gaz/AOua1rV5N8GoviPF4MtV+JstpNqe1cGzBEe3HvXrNaYyNqsle+p5eBlejB26IKKKK5jqCiiigAooooAKKKKACiiigAooooAKKKKACiiigAooooAKKKKAMbxFI0Wg6jInDLbyEf8AfJr8/v2IraC68U+N9amQG7nlXe+OThiBX6Eazbm70i9thyZYXUfiCK/N79kbxBY+EPjH48+G2sSCzvI5IzCkp2tLuyx2jvijLYSeMqW/59S/9LhcWPX+ywfRVIt+nLNfm0d1/wAFB4p4fhD/AG1aMqXGnN5iMRyDnsa+n/gTfXGo/CHwneXTbpZdOt2Y+pKCvkb9vXWNL13R9A+FsM5fUtfuPJWJD8w5zyPSvtP4V6BJ4X+Hfh7QJQRJY2UMTA9QUXFbZa4/Uq7tvV0fe0Ip29Ho/MvMov2uGXVQd/Rydjsb/StM1RFTUrSK6VCGUSqGAI6EZ71xHxN8feGfhd4Kv/EniC4js7O1ibbkhQWxwoHvVj4k/EXw98MPC134q8RzrDb26sVBIBkYDIVc9Se1fmPpPgv4pftweN4PFPjZpNG+Genybre0G6OW5AOVLD7rDPWuajRliJujTfKl8UukV+rfRHXRjTppV8R8PRdZNdF+r6HW/sQeG9V8bfEPxn8fpontdN8SyRm1V+NwiypNfqTWD4a8M6L4Q0a20HQLSOysrVQqRxqFUYHXA9a3q7cVUg+WnSVoQSjHvZd/N7s8ynGTlOrP4ptyfz6fJaBRRRXKbBRRRQAUUUUAfNH7V3jXxT4G+E9/qnhRvKuZA0bS4yI0K8sfpXxH8Dv2evgR8efBcfio+M77UvFcibrxoL6SOOO5PP3MjAB7V+onja98GWmiSJ46ltotMnyjfaseW2e3NfCOs/sG/CPVYdX8cfDfxPqmg/2or3EY0y58m13kZBwv8Nc9G1N1p1I3TtaS3jZbej39UdNT34U4RlZq+j2ld7/JaH0d8O9B8T/BL4eX8Hi3Wo9WstNiZrVwcsoAJwzd6+Hfhf4O1H9tXWNS8cfE3WLi28N28rpp9vaTm3cFGKtuKkZ6Vh/s4+L/AIpeI9A+InwK8R3v9tp4YUxQXmTIzhlY/M56muF/ZF/Zj8DfEHw5e6Vq3jfXdE8RWdzObmwsrzyVjDSHadnbIr0I0efETqSfOvZxlD0lvK3dJLXpzeZhWj7HDulD3WqjjK3lqkn0T/Sx7T4h0/VP2M/iZ4fj8H39xqXg/wAS3CWbw3ExnkjLfeYsSeK8w/at+BngTxP8Y/CerGe+VPEE0DSBbhhhZW5288V2/wARf2dfgb8M/HnhXS/EnijxP4m1Se8QW9s915wjc9GdT0Fdl+01Fa6P8UPhumGgtUuLOKPzODndwD71y4OKqzwjm+Zqtyp/3bP3W+tmLGp06df2a5U6V2vNNWkl0ut+71O3/aA8T6h+zz8M9F+HPwrlmN9qkkNqktw5ldYpPlJJPP41n2/7BvhfU/C48Q69ruqS+K5IvPaWO8kWHzcblwmeme1Yn7dVu+iX/g/x3cJI9haXNtHIV+6uWHJr7/0XxZoep+BofE1rco9g1rv8wH5cKnPNEEqmEq15/Hzyi5dUklyry6+vyHzyhVoUYL3HBSt/NJvW/e2npfzPgr9nD45/ESOLxp8K/GLfbdd8HRZilA++rAlPrgAV8+/Avwv8Nv2o9f1nU/jT4su4vGC3c0C2NtdPbbIkYhDtBAr0/wDZav7HxT+0Z8UfiJDj/hHZxAq3L/6p9gKthunHevcPE/7J/wCz38dtal8deDdZl0u6Vysk+hSrFl16hivfPWu2svepV5w5nOlBy6OLau5W2952v+BnJQSrYem+VRqPl6pr+V+mtux2/wAD/gB4m+Cvim8t9D8Rm+8GTIzJaTyGa4WYn728k8Y7V5F448CePPj58UL/AEb4kfatA+H+kiQDy5TBJMyH5ZFcEHbivDvAOtfET9nP9o5vhDZa9P4o0a8gFwPtUrT3EYdsck9MCqXg7QNR/a2+Nfi/SPGvirVdDttCu5rSG10+4MO+NT1Ze9c1Ks8VOhUj765JP3lty6Xfdp7G00qEa6muVuUFp/e7drrc84+ME3wO/Z91ix8R/Ajx9cXHiSwuYoZbO5upLgMJHCt8pJHSv2s8Ba+/ifwlputyDD3MKM312jNfkn+2b8NPgf8AAn4R6X4S0y1guNfnurcxXVwqteyASDJL9TX6k/BYg/DXRCOhgT/0EVpgq7qYatGUubkmkn6x1S62utumpGOpqFWi7Wcoy062TVm+nVnqdbWn/wCpP1rFra0//Un61iIvUUUUAFFFFAH/1/38rO1H7i/WtGs7UfuL9aAMiiiigD5f/aO/ZP8Ahr+0roQ0rxdEbW6T/V3kKjzoxnJCk+tfPnwW/wCCZXwU+DfiuHxZBd3OuTwHckd4FZAa/SOinhX7CTlS0f8AmTioqtHlq6ojhhit4kggUJHGAqqOgA6CpKKKTZSQUUUUAFFFFABRRRQAUUUUAFFFFABRRRQAUUUUAFFFFABRRRQAUUUUAFFFFABXJ+M/BPhvx9oVx4d8UWUd9ZXK4ZJFDD2OD6da6yioqU4zjyyWhUJuLuj89rr9giF1nstP+J/iGw0qZifsMM+2BVJ+4F9O1fXnw0+E/hL4V+GovDnhe2WAKo82YKBJNJjBkcjqx7mvTaK6PbS5HTvo9/P57kzSlJSfT+ttjyTwX8Lrvwj4j1PX5vEt/qqahK0gtrl90UO7+FB2A7V6yyh1KnuMU6isn8Kj0SsNu8nJ7vU+f/C/7PXhrwr8U9b+K1nezyahrhQyxNjy18sYGK+gKKKILlhGnHaOiXYdSbnN1Jbvf5K35IKKKKCQooooAKKKKACiiigAooooAKKKKACiiigAooooAKKKKACiiigAooooAzdX0jTtd0+fStWgW5tbhSkkbjKsp4IIr4g1z9huxudSup/CXxB1zwrptwSRYafL5dvGD1CqO1feNFQqaUudbmiqyUeXoeB/Bj9njwT8GNM8nS1OparJnz9SuADczHsXbvit6P4WXafEGbx0fE2oGKVVH9nl/wDRl29wvvXr1FbzqylUVR7q9vn5bGSSUZR6S38+p4t8X/gX4N+Memi11yP7NfRcwXsQHnwsOjI3YjtXzjo/7Cmnw31rL4s+IOueKdPtXVxY38okgJXplTX3vRWVFKnLmh3v8+9tiqsnNJSe2ny9dzL0bRdL8PabBpGjWyWlpbKFjjjGFUD0FalFFVKTbuyYxSVkFFFFIYUUUUAFFFFABRRRQAUUUUAFFFFABRRRQAUUUUAFFFFABRRRQAUUUUAFeYfFj4XaT8WvDQ8M6zcSW0AkEm6L72RXp9FZ1aUZrlkrounUlB80Xqcn4K8JWfgjwtY+FdPlaW3sU2I7/eI9647SPhbd6X48vvGr+Jr+5ivCpFhI+bePAx8q+9eu0VvKpJ1fbN+9rr67mVOChT9jFe7pp6bBXgHxj/Z88N/GbU/D+qa5ez2snh68jvYhFjDPH0De1e/0VMJOM41I7xd15MvmfLKPRqz9CtZ2yWdrFaxnKxKFBPtVmiiiUm3dkRikkkFFFFIoKKKKACiiigAooooAKKKKACiiigAooooAKKKKACiiigAooooAK+ZPi/8Asv8AhH4qaimv2d9ceGNcXk6hp+I7hvq3tX03RWc6UZNN7o0hVlG6T3Pjz4Wfse+Gvh/4qPjHxJ4i1DxrqSAeRJqrCUwMP4kPY17l8Rvhxc+Po9PS28QXuhfYZ1mP2N9nmhf4G9Qa9RororVZVOVTfw7eX9fj1M6fuyclu9D5g+PX7Mej/H3wbZeDPEPiC+sbezZG8yBsO7J3PvXhOkfsB3eg6fDpWjfF/wAUWdpbjbHFHcYVR6AV+itFYwio83L9p3fm+5UpNqKf2VZeSPmP4O/s66n8KdUl1K88f614oWTH7rUJvMQY9BX05RRWsqjkkn0Mo00m2uoUUUVBYUUUUAFFFFAHIeN/BGg+P9AuPD3iG3We3nUgFhkoSMbh7iviuf8AYSuP3ltpnxX8S6dYNkJawz7YkQ/wqPSv0DoqI00pOa3Zo6kuVR6I8V+DfwM8I/Bnw82jaMDeXU4xdXswBnuT6yN3ryX4mfsdeF/G/iA+J/C2v3/gjUJjmeXSmETTem898V9iUVriJurUVWfxLrt8tOnlsZ0/djKK2e/mfLHwp/ZX8OfDvVf7e17Wrzxjqi/6u51QiWSMjoVPtW3+0B+zh4b+P+l2Njq+o3GkXGnTrcQ3NoQsqOnTB9q+jKKVV8/LzfZ26W+4eHk6UnKG73/pnhuj/ArQofh6fh54uvp/FVttAE2oESSBgMBsnuK+cpf2EIhOYbH4meILPSt2Rp8U2LcLnJQL6HpX3/RQ3+8dXq/61WwU2401SjstvL0PNfBnwl8DeBPDR8K6BpcMFnIhWUKgHmE9S3qSea+Wtf8A2G9MutbutT8GePda8H2l0xdrPTZfKgDMckhfU1930UTblP2j32+X9fcKmlGHs47b/M+W/g7+yx4U+FOoza9f6ndeKtbmBX7fqJEk4Q87Q3pmuW+JP7Gfhnxr4sbxj4X8Sah4Kv5gfObSmEXms3VmPcmvs2ipkruLf2VZehVOThzW+1v5nwZP+wX4L1zw5c6J448Tal4oupZY5Yb6/YSXFvsOcRsegPevsLwF4Pt/Afhaz8L2t1JeRWS7VklOXI967GitnWlaS72v8lZESXNy36Xt87X/ACQVtaf/AKk/WsWtrT/9SfrWQy9RRRQAUUUUAf/Q/fys7UfuL9a0aq3MBnUAHGKAMGitL+zn/vCj+zn/ALwoAzaK0v7Of+8KP7Of+8KAM2itL+zn/vCj+zn/ALwoAzaK0v7Of+8KP7Of+8KAM2itL+zn/vCj+zn/ALwoAzaK0v7Of+8KP7Of+8KAM2itL+zn/vCj+zn/ALwoAzaK0v7Of+8KP7Of+8KAM2itL+zn/vCj+zn/ALwoAzaK0v7Of+8KP7Of+8KAM2itL+zn/vCj+zn/ALwoAzaK0v7Of+8KP7Of+8KAM2itL+zn/vCj+zn/ALwoAzaK0v7Of+8KP7Of+8KAM2itL+zn/vCj+zn/ALwoAzaK0v7Of+8KP7Of+8KAM2itL+zn/vCj+zn/ALwoAzaK0v7Of+8KP7Of+8KAM2itL+zn/vCj+zn/ALwoAzaK0v7Of+8KP7Of+8KAM2itL+zn/vCj+zn/ALwoAzaK0v7Of+8KP7Of+8KAM2itL+zn/vCj+zn/ALwoAzaK0v7Of+8KP7Of+8KAM2itL+zn/vCj+zn/ALwoAzaK0v7Of+8KP7Of+8KAM2itL+zn/vCj+zn/ALwoAzaK0v7Of+8KP7Of+8KAM2itL+zn/vCj+zn/ALwoAzaK0v7Of+8KP7Of+8KAM2itL+zn/vCj+zn/ALwoAzaK0v7Of+8KP7Of+8KAM2itL+zn/vCj+zn/ALwoAzaK0v7Of+8KP7Of+8KAM2itL+zn/vCj+zn/ALwoAzaK0v7Of+8KP7Of+8KAM2itL+zn/vCj+zn/ALwoAzaK0v7Of+8KP7Of+8KAM2itL+zn/vCj+zn/ALwoAzaK0v7Of+8KP7Of+8KAM2itL+zn/vCj+zn/ALwoAzaK0v7Of+8KP7Of+8KAM2itL+zn/vCj+zn/ALwoAzaK0v7Of+8KP7Of+8KAM2itL+zn/vCj+zn/ALwoAzaK0v7Of+8KP7Of+8KAM2itL+zn/vCj+zn/ALwoAzaK0v7Of+8KP7Of+8KAM2itL+zn/vCj+zn/ALwoAzaK0v7Of+8KP7Of+8KAM2itL+zn/vCj+zn/ALwoAzaK0v7Of+8KP7Of+8KAM2itL+zn/vCj+zn/ALwoAzaK0v7Of+8KP7Of+8KAM2itL+zn/vCj+zn/ALwoAzaK0v7Of+8KP7Of+8KAM2itL+zn/vCj+zn/ALwoAzaK0v7Of+8KP7Of+8KAM2itL+zn/vCj+zn/ALwoAzaK0v7Of+8KP7Of+8KAM2itL+zn/vCj+zn/ALwoAzaK0v7Of+8KP7Of+8KAM2itL+zn/vCj+zn/ALwoAzaK0v7Of+8KP7Of+8KAM2itL+zn/vCj+zn/ALwoAzaK0v7Of+8KP7Of+8KAM2itL+zn/vCj+zn/ALwoAzaK0v7Of+8KP7Of+8KAM2itL+zn/vCj+zn/ALwoAzaK0v7Of+8KP7Of+8KAM2itL+zn/vCj+zn/ALwoAzaK0v7Of+8KP7Of+8KAM2trT/8AUn61X/s5/wC8KvW0JgTaTnmgCxRRRQAUUUUAf//R/fyiiigAooooAKKKKACiiigAooooAKKKKACiiigAooooAKKKKACiiigAooooAKKKKACiiigAooooAKKKKACiiigAooooAKKKKACiiigAooooAKKKKACiiigAooooAKKKKACiiigAooooAKKKKACiiigAooooAKKKKACiiigAooooAKKKKACiiigAooooAKKKKACiiigAooooAKKKKACiiigAooooAKKKKACiiigAooooAKKKKACiiigAooooAKKKKACiiigAooooAKKKKACiiigAooooAKKKKACiiigAooooAKKKKACiiigAooooAKKKKACiiigAooooAKKKKACiiigAooooAKKKKACiiigAooooAKKKKACiiigAooooAKKKKACiiigAooooAKKKKACiiigD/9L9/KKKKACiiigDm/FXizQvBuj3Gt+ILyOztrdGctIwUcDPevzR+EH/AAUVf4x/tDzfCrw1pEMmgeYY4r3cfMbaOePrVv8Aar/Zp+N37RXjCTQ7nxDLovgaFXd9gzuCDIHBB5Nfmp+xt4Isvh3+2x/wiVg/mQ2MuwN6nbyfxo4dmq+NhTr6c0ajUetoK13212XbXqZ57L2ODnKjq1KCcv8AF0XfTd99D+nEHIzS0i/dFLQy0FFFFAwooooAKKKKACiiigAooooAKKKKACiiigAooooAKKKKACiiigAooooAKKKxPEWv6d4Y0e61vVZVhtrVC7MxwOBUVKkYRcpPRFQg5NRjuzxP9pP4/wCgfs+fD298Xam8b3aofs0DtjzHHatX9nv4sXXxn+HVj43u7VbNrxVbYhyMMM1+X3xp0ub9q3wX41+KfiOJ/wDhFtAhcaZCSVAuITguOhOfyr7w/Yeijg+BmlwxDaiKgA9BtFaZbSm4Yh4hWkuRpP7Kd9/N7tdNi8xioqi6LTjzSjJ95KKdvRbX6vyPsOviz47ftT3ngzxHb/DP4VaaniLxxeZ8q1kJWEBfvb3HTivs+Xd5TbPvY4r8q/gDa2f/AA2B8QLnxIF/tBbv/RDKedu3nbn+lYUU6uMp4duytKT8+VXt8/yLcOXCVa61ceVL/t6SV/lf7z03Sf2ovjP8P9bsbb9pLwnaeG9O1RgtvcWchmAPfeei9e9ff2naha6rYwajZOJILlFkRh3VhkV8X/t+/wBgD9nnW5dVMYnQwmHJAbIkH3e/5V6D+yL4ju/E/wAEdE1C7bcyoIwSc/KoAFdeEnGtRqu3vU5Jeqkrr5rX5WMMVS9k6Mk9Kilo+jja7Xk0180z6cooorIQUUUUAFFFFABRRRQAUUUUAFFFFABRRRQAUUUUAFFFFABRRRQAUUUUAc54s8UaV4N0G88Ra1L5VpZRtI59lGePevz8tv2mv2nviDNe+Ifg14CsdV8JxMTDc3UxilkRepC/hX6A+LPCOgeNtIk0PxJbfarKX7yEkZ/KvEfH/wATvhF+y54Li06/V9OsYon+zQwwvLk9gdoPU+tcs6ip89SpLsorz6379kkdME5JU6cbt3u+y8v1bMn9nj9pbTPjI1/4a1W2OmeK9EwL+0wQiFum0nrX1TX5WfsXx3fxR+Kfi348PCulWWuvH5FtuAciPK5K8MM9eRX6pngZr1cVBqNOU4cs3FOUez/rW3TY5JKMa1SnTlzRi7J/n62d1frufPvx3+O+k/B7SYIo1F5ruqOLexteu+dx8gbHIBPevlq6/aY/ai8BLaeJvi34BsdN8LTyIj3FtMZZUDdyvYYrk/iKqeM/249N0LUxutNMsobmNCcjzFfrivvv416Jaa18KfEunTwLMpsJ9ikdDsOMelePSxEoYNY963b06csXb73vc9Oth4PExwbVlaLbW95fhZeh1/gzxhonjvw5ZeKPD8wnsr5A8bD0rqa/Pv8A4J76pqMnwyuvDt8Cq6PJ5SKTnAJNfoJXs46jCFT938LSa9Gk1+DPHw85NOM9XFuLts3FtNr1sFFFFcZuFFFFABRRRQAUUUUAFFFFABRRRQAUUUUAFFFFABRRRQAUUUUAFFFFABXyX+0r+1h4J/Z+0eCW5uYbvVLmZYktg4LZb1A5FfT+t2d7qGk3Vlpt0bK6mjKxzAZ8tj0bHtX47/tI/se6B4S8HX/xA8fao/izxHdakskN1Juj8lG52Bc4PNcGMqyirt2imrvq7u1l5+b/ABOzDUVKLtrJ3sum278l5H6u/C3xjP4+8CaT4tuIRbyajEJCi8gZr0CvDv2bwF+DHhlR0FsAPwr3GvdzSlGGJqQgrJNpfeeJldWU8NSnN3bim/uCvgj9oP8AbV0v4SfFPwv8KdAt4tT1XWruGKdWbiKKQ4LAjuPSvd/2hfjLbfCPwdLdWqi61m9Bjs7bOGkkPGK/HD4tfBu88M+Jvhp8UPGbNc+KfEfiC3lMjkgxW8p3CHHT5fWubKYe3xtKLf7tSUZebabSXpu/kevVjGnhqk5K8nFuK7W+0/Lou7P6AtOuje2MF2w2mVQxH1q7WRoH/IGs/wDrmta9GIilOSXc4cNJypxb7IKKKKyNgooooAKKKKACiiigAooooAKKKKACiiigAooooAKKKKACiiigBCQASeAK+Nfi3+0h4osfFh+HPwR0mDxL4nhOJoZn2RxkjIyw9q+tNfma30O/nXrHBIw/BTX5x/sS6PZav8R/H3je6TffXckYLMckbSRxmsqEfa4h0m2lGDm7buzikvvld+St1KrVPZUPaJXcpKKvtqm2/ui7eZ1ngf8Aaq+KXh34h2ngH9o/wxbeGJtXZYtPltHMySSHqGboBX6CRyJLGssZ3KwyCO4r88/+Chlqmn/DzT/GttbCS90KbzopBwyHIGc19e/BTWbjxB8KvC+r3fMt1YW8jE+rIDXdRl7bDSquKThPkdtnopJ+tnZ+epGKiqdWmk9Jxv6NOz+XUj+MPxc8M/BrwfceLPEshWJMrGqjJeTGQoHvXxVp37Q/7YnizTP+E08GfDnTp/C0ymaGWecxztCvJJQ85x2r7s8ffDDwX8TbK207xpp41C3tJlnjViQBInQ8VoarP4f8D+Erh5DHZabYwNwcKqqq9K85vkhUqzeq+Htbrfzv57HVZT9nTprV79/JI8a/Z6/aK0L436XcW4jNlr2mYW+tSCPLYnAxnmvpSvyX/Yrhv/GHx/8AiT8TdEB/4RvU5YfIcDaj7Mq2B9a/WivVxcFy0qijyucYya7Nq9v8vI4IO1WrSTuoScU+6Xfz6PzQUUUVxGwUUUUAFFFFABRXgf7R3xXvPhB8ObvxJptr9rvHDRQrnbhyMg5r4x8EfDv9qv4qeFLf4i6b8Z20x9Rj+0LpccEcoiPURFwfwrOlNzc3Fe7Gyb7N6pW3emuiLqQ5VC71ley9N39+mp+pVFfPPwh134m6L4Guv+FxW3lXmkxsxu2YE3AUE5wOnSvjXSvH/wAe/wBrPxZqI+FPiaTwF4a0lysd5HGs/wBqIO0jB6YIrWSbrexp+9pzNrZR7u/qlbfy0ZEP4LrT91X5der7K2+zd9ran6oV82/GP49w/DPxP4f8K21sLm71m6ihYNkBUkONw96+WNL+KXxe/Zo+Jel+B/jT4gk8XaP4hkS3tNTeMRYmftsX0r52/bA+HvxQ1f44eF73SviBJDBqdxAbPEAP2fe3ykeuKinK9bDOHvQnOz9bO8fJjqe7Sr8/uyjHmV+ztaWnT8fI/b+J/MjVzxuANPr4c+Knxc8T/s0fCTTbPW9Tbxf4ovmitIZGURFpJPlD4HvXlkXwg/bH1vw7/wAJ23xYn0u4kQ3H9ki2RgoHzCPf7jinUlZSqJXhF25ul1q0urt1sh06b5afM7Slsutu/ZLtfc/Taivg39nz9qy/8beHPEWkeM7H7J4o8Ixn7XCTkt12tx/exmvBPhxrP7RP7V95qnjXwn8TD4A0yC4ltYtOSJJ2zE2N3JzzW8qE/aOEVdKKldbcsvhfz6ehkppU+eej5uWz3ut18v8Ahj9baK+OfgLp/wC0f4M8U3ng/wCKty3inRlRpYtafbGS2cCPyx7c5rzH4g/Eb4vfGn4oXXwp+EeqzeD7LS94utYEW8LLGeU2sBnPrU1KXvwp03zOS5tNLJb3va1u25rGL5ak56KFr9d9rW3ufopRX5EfETXf2iP2Xb/TfGviL4pL8QNIEyQ3NiVihIMjBQeCTxnNfqt4V16DxP4fsdctvuXcSP8AQkAmqjTUqXtYSTSdn5PfX1Wz2+4ipzQlGMlbmV1520f3HQ0UUViMKKKKACiiigD/0/38ooooAKKKKAM3Wf8AkEXv/XGT/wBBNfzr/s+f8pB7/wD6+D/Kv6L7+3a7sri1U4MsbID/ALwxX5dfDH9hLxz4J/abufjbe61aTabNL5ggQHzMYxUZUnDOKWInpBU6qb85JWXzIzVOpltSjDWTnB28k9T9T1+6KWkAwMUtWykFFFFAwooooAKKKKACiiigAooooAKKKKACiiigAooooAKKKKACiiigAooooAK/P79uuL4x614Z0/w18NvDNx4hsLxj9ujt32MVUgqM9RX6A0Vz4jDqpyp7Jp+tuj8jow2IdNuSWtmvS6tdea6H4sfEj4z/ABi0H9nrV/An/Cir/Q9NWy8qW6MylEOAC5A65r3P/gnt8T/Huv8Ag2DwvrHge50jSoIg6ai8gaORgAAoHvX3D8afAl/8SvhnrvgrTJ1trjVbdokd/uqT3Nc/8A/hhq/wl+HVt4R1K6jubqAD50+7kDFd2BxNp4qpVjdyUbeb/wCAZYmmnhqFOEtpS07JxWvz2Pcz71+d3xk+FPg74tfEs6h8IfFsXhz4k6IxRpCpYAnruTgNxX1j4I074w2viTVJvHGo2V1o0krGzjt0KyJH/CHPc14Z8aP2bfFGqeMbf4rfBTUYNF8YW+4b7nJt5N3BLqOpx0rjcI+1pVJ3tvdfFF20+V9JeRsmlTrU09bW1+GW1/w28z5L/aV+C/jiw+DOr6x+0l4yTxfPYmEaalshtthZwG3Kv3q+8/2TvC7eEvgtomlltylBInGMK4BArwrQv2avjZ8R/EVpqn7TPiCy1iy0tg1tbacGjjYnr5qnhvavvzTtPtdLsodPsoxFBboERQMABRgV30Z8tKpzWvNrRbJRVk3/AHndt/I5MU1UnSsv4alq/wC9bRf3Va/q2XaKKK5igooooAKKKKACiiigAooooAKKKKACiiigAooooAKKKKACiiigAooooA5fxZ4y8OeB9LOs+J7xbKzDBfMbOMn6VFZy+EPiBo0GrQx2+rafcqTG7osike2Qaj8d+CNE+IXhq88L6/H5lpeIyHH3l3DGR6Gvguz+AX7XHwzgm8IfBjxdpVv4Uj3LapqCNLcIjerevNZU23KUJrtyvp5p/oauGkZQfe/fyt+p5DqVtL4A/br0nTPh0zQWGsSkalDG2YgFTK4UcLX7ALkoN3UivjP9n39lh/h5qU/xD+Id/wD21451A7rmdWLQKR08sHkcV7Ymm/GUfEWa8fUrE+ECq7LcIftAb+LJrsheNChhJtOUVK8ltrKUkr9knZaGFW069bERVk+Wy6uySbt3b19D4W8dQt4Y/bmsNavuLbULCGBHPA3s/TNffHxp1i20b4V+Jb+aZYglhOVYnjOw4rzn9ob9nXS/jRptvfWlw2n+IdKcT2NyjbAJk+5vI5K57V803P7O/wC1r4/tbLwd8WfF+l3PhS3dDIlmrpcSKvGGbuCOteXSw7nglgNmnJXe3LJ3v6rsejVxKWKWMlrG0dFveK7dn6nVf8E9tO1EfDS78RXx3Jq8nmxtjGQCa/QauR8DeC9E+H/hix8KeHoRDZWCBEH+NddXs4+rCdT938KSS9Ekl+R5OHjJJymrOTlJpbJybdvlcKKKK4zcKKKKACiiigAooooAKKKKACiiigAooooAKKKKACiiigAooooAKKKKACvjD9uX/kkC/wDX3H/Kvs+vBf2h/hTqvxf8DjwvpF1HazCZZd8nTC/SvOzSjKdLlgru6/NHbl9WMKqlJ6a/ky1+zj/yRnw1/wBe4/nXtzlgjFRkgHA968++FvhC88CeAdK8KXkqzXFhFsZ1+6T7VgaPp3xjj8f313rGpWMnhRyv2aBEInUY53H617+ZVY1cXU5Xo3J36f0+h4uWUpU8JTU94qKt16L8Op+bPxtX4/XX7R6eK734Y33jDw1obJLpqQyiNFkH3ifXPvXgf7XHx2+LfijxD4Ak1/4TXvh1tO1e3lt4pJVb7Q69I1x0Jr+gSvj39pf9nfxF8a9d8G6pouoQ2aeHNThvZRLnLpH1C+9cmWOVKeFpOXuwle/a9235u7PUxNRVPbVGrOULJemyPZfgr4u8SeMvBNpqnifw7L4butqj7PMwZsY65Feu1S022ezsYLVzuaJApP0q7WuKqRlUlKKsjz8HTlClGMnrYKKKK5zpCiiigAooooAKKKKACiiigAooooAKKKKACiiigAooooAKKKKAMfxBC1xoWoQL1eCQD8VNfnX+xBqFtp3j74geEJmAvLGSMup4PzkkcV+lbKGBVhkHg18K/FX9lvxZH4+l+LPwF1WHQ/FF2QbkXWTbSFRhcovXiow0lSxEqsk2pQcNOjcotP00s/W5pVpKrQ9ne0oyUlfZ2TTX3SdvM53/AIKG3Iv/AIbWXg62uFjvNbl8mKPqznI4Ar65+CWj3Og/CjwtpN2MTW2n26MPdUAr5E8G/sv/ABh8Z/EWy8eftK6/Z6y2iMsunw6eGSNZB1LqeCK+t/iNpfxSnt9Nh+F19Z6eIZl+0i6QsDAOoXHQ11070MO6LlzOpPmdto6KK19Fd9noTiLVqtNrRQi1r1bd3b8jv9f1/SvDGk3Ot61cLbWlojSSOxwAqjJr8kviL49+J/7bnjT/AIVj8MYpdJ+HlrLi/wBU6pcBTnC9CMjivrf9qz4J/GT43fDa08H+DNfttIvQyPcyPuCyYGGHHY+leB/Dv4D/ALdXwv8ADdt4X8J+J/DFvaW64z9mbe/uxA5Nc2CcfbTqV43UH7q6N/zPul0X3nWsS6NODoP35J3fWPp/e8+nQ++/hF8J/Cnwb8F2PgvwlbCC0tFwT1ZmPLEnqcmvUK+WvgxoX7U+m6rLJ8aNe0nU7E42LYxFGHrnIr6lrqxVSU5e0nK7lq/+CeXQiopxirW/HzCiiiuY3CiiigAooooA4X4ieA/DHxG8M3XhfxZEJbG6VlYFtpG4Y4NfmvpP7Gn7QPwQfXr74B/EpNM0WcvPBY3ERuCABkIGYmv0W+K/w9HxJ8J3GgJezWFxgtDLA5jIkxxkjtXxTF8Kv29NE00+GvD3jTQm0qJDFC1xE7z+WePmbua56fMp1PZ3jJpK/R+vp5p6HU5JwipWcb7Pda9PXyaPPPhJ+0d8Q/i38O/G/wALfiHZv/wl/hqJoridcASlgeQB04rxL9jT4Y/tPaz8OJLj4afE2z8PWZurjNlLarLKn7w9Seea/Rj9nL9mS3+E9hq2t+LJ01LxX4l51OdOYnYZA2A8gYNeUeI/2Wvi98PvGN54r/Zm8QWmjDVWzdW+obnhHf8AdqOBz1r0qtSNPESur88IqTje3PG720913evdLTU56lqlOShoo1HKKf8AK9N9dVuvI8N+KvwO+M174m8Ij48fGXT7iG3vle0txZhHkl9ARyK679pK0XT/AIp/DOyWXzlhmskEnQNhutezeBv2aviR4o8YWnjv9o7V7XW9S0t1ktEsQUhR16Eqa3f2rP2cPFnxit9C1T4c6jb6Trug3cVzDJOD5f7rkAgds1zUf3MsO5bKrztRWys18337CnBV1VpptXpuCcu976LovzPB/wBuhnsPFPgfVb+UJpi3Nsjbhld5cYr9KdOvLSfw1FdwyK0BtwdwPGNlfN+ufATX/i78KI/Bvxxure+1iHbJHc2Q2KsyD5SM84zXgtv8EP22NG0oeB9D8Z6OPDCful81HNz5DcEF/XFKlHkozwm7c5ST+zaSW73TVuzDlU50sS3a0VGS6rlbs13vd/geefs2W+n+JP2tfi49sBPpkyWyOy8IRtIPPSux8QfsJ+JfDXjy48d/s3eM18IPdOZJYpAbiMuTk4XOBk19R/B79mPwf8JfCN7oemyTPfaqh+13RfMrO3JIbrgE8V8+J8CP2vPh1qd5p/wb8aacfD9xI0qLqweedWc5Pzc8elb15wUqMI3vTpxjzLq0rNPy7bijOU1WqSWlSd3F9F0frp8ji/hd+0b8bfhp8ZZPgx8erga/POnmwX0SCJSrNtX5RXO2/j/49ftF/FTxV4X+DXiW08F6Zos81ncs9qkjyuvVs4zzXv3wn/ZY8aSeP5fi18fdVt9b8U+V9niNmCsCxA5HynvmuU8R/so/GDwD8SdQ8ffs2a9Y6QdaZ5r2LUQ0itK55IArloqzo/WfeajJO2138N9r6bmjd1W9hpeUWubsvit2u9j4+/as/ZU8HfCb4V23i3xnrU+r+Npry2MlwZ3EUjGQZIiJwPyr9i/glj/hWWh7en2dMf8AfIr4C+JP7GPxz+PnhwyfGjxRZ3HiDT5on082W6O2CqwLeYnc8cV+h/wq8Maz4N8DaZ4c1+eO4vLJAjPEMKQOBj8K6cLF06VeE2tZRaS2tyvb06kY1xlOg4a2U+Zve7cXr5dvmeiUUUViIKKKKACiiigD/9T9/KKKKACiiigAooooAKKKKACiiigAooooAKKKKACiiigAooooAKKKKACiiigAooooAKKKKACiiigAooooAKKKKACiiigAooooAKKKKACiiigAooooAKKKKACiiigAooooAKKKKACiiigAooooAKKKKACiiigAooooAKKKKACiiigAooooAKKKKACiiigAooooAKKKKACiiigAooooAKKKKACiiigAooooAKKKKACiiigAooooAKKKKACiiigAooooAKKKKACiiigAooooAKKKKACiiigAooooAKKKKACiiigAooooAKKKKACiiigAooooAKKKKACiiigAooooAKKKKACiiigAooooAKKKKACiiigAooooAKKKKACiiigAooooAKKKKACiiigAooooAKKKKAP/1f38qKWZIQC5xmpaztR+4v1oAm+22/rR9tt/WsKigDd+22/rR9tt/WsKigDd+22/rR9tt/WsKigDd+22/rR9tt/WsKigDd+22/rR9tt/WsKigDd+22/rR9tt/WsKigDd+22/rR9tt/WsKigDd+22/rR9tt/WsKigDd+22/rR9tt/WsKigDd+22/rR9tt/WsKigDd+22/rR9tt/WsKigDd+22/rR9tt/WsKigDd+22/rR9tt/WsKigDd+22/rR9tt/WsKigDd+22/rR9tt/WsKigDd+22/rR9tt/WsKigDd+22/rR9tt/WsKigDd+22/rR9tt/WsKigDd+22/rR9tt/WsKigDd+22/rR9tt/WsKigDd+22/rR9tt/WsKigDd+22/rR9tt/WsKigDd+22/rR9tt/WsKigDd+22/rR9tt/WsKigDd+22/rR9tt/WsKigDd+22/rR9tt/WsKigDd+22/rR9tt/WsKigDd+22/rR9tt/WsKigDd+22/rR9tt/WsKigDd+22/rR9tt/WsKigDd+22/rR9tt/WsKigDd+22/rR9tt/WsKigDd+22/rR9tt/WsKigDd+22/rR9tt/WsKigDd+22/rR9tt/WsKigDd+22/rR9tt/WsKigDd+22/rR9tt/WsKigDd+22/rR9tt/WsKigDd+22/rR9tt/WsKigDd+22/rR9tt/WsKigDd+22/rR9tt/WsKigDd+22/rR9tt/WsKigDd+22/rR9tt/WsKigDd+22/rR9tt/WsKigDd+22/rR9tt/WsKigDd+22/rR9tt/WsKigDd+22/rR9tt/WsKigDd+22/rR9tt/WsKigDd+22/rR9tt/WsKigDd+22/rR9tt/WsKigDd+22/rR9tt/WsKigDd+22/rR9tt/WsKigDd+22/rR9tt/WsKigDd+22/rR9tt/WsKigDd+22/rR9tt/WsKigDd+22/rR9tt/WsKigDd+22/rR9tt/WsKigDd+22/rR9tt/WsKigDd+22/rR9tt/WsKigDd+22/rR9tt/WsKigDd+22/rR9tt/WsKigDd+22/rR9tt/WsKigDd+22/rR9tt/WsKigDd+22/rR9tt/WsKigDd+22/rR9tt/WsKigDd+22/rR9tt/WsKigDd+22/rR9tt/WsKigDd+22/rR9tt/WsKigDd+22/rR9tt/WsKigDd+22/rR9tt/WsKigDd+22/rR9tt/WsKigDd+22/rR9tt/WsKigDd+22/rU8cqSruQ5Fc3W1p/+pP1oAvUUUUAFFFFAH//W/fys7UfuL9a0aztR+4v1oAyKKKKACivlz9oP9rj4U/s56Yb3xfdG6uO1rbspnP0U183fDb/gqd+z98R/F1j4Sgt73SXvm2i4vAqQqf8AaOe9VgovEzcKHvPy8h14ukuapotz9NKKrWl3bX9tFeWcglhmUMjqchlPQirNJpp2ZMZJq6CiiikMKKKKACiiigAooooAKKKKACiiigAooooAKKKKACiiigAooooAKKKKACiiigAorzz4n/Ezw18JvCN74y8US+XaWSFyoIDPjsuepqP4W/EzQ/ix4Ut/F3h+OSOzuQCokGGwRmlTanz8uvLa/lfb7ypxcVFy+1e3nbc9HoprNtUtjOK+N/H37YEPgTxLd+HG+HPiXVjaNt+0Wlpvhf3Vu4qXUSko9So0pOLkloj7Kor83vEP/BSDwf4RgjuvFPw78TaVBIwUSXFqEXJOOpr7l+G/j2y+JXhOz8XadaT2VveqGSO4Xa+CMgkVvClKUHNLROz9TCVSMZKD3eq+R3lFFFZlhRRRQAUUUUAFFFFABRRRQAUUUUAFFFFABRRRQAUUUUAFFFFABRRRQAUVT1DULPS7ObUL+VYLeBS7uxwqqOpJr4i1/wDbq8J6brd3peg+Ddd8SWto+1r3T7fzrY+pDjsKj2kebkvqaKjJxc7aH3TRXkXwm+NXgv4waR/aPhu4CXMf+us5CPtEPoHUdK9drerRlB8s1ZmEKikroKK8S+L/AMevBPwbsEn1+Rrq+mO2GygINxKx6BEPUntXz/ov7d3ha81K2s/EXgnX/DNrcuEF5qNv5MAZumWNZUWqkuWG+3z9djSrFwipS66n3bRWdpWrabrlhDqmk3CXVrcKGSSM7lYH0NaNVKLTsyYyTV0FFFFIYUUUUAFFFFABRRRQAUUUUAFFFFABRRRQAUUUUAFFFFABRRRQAUUUUAFFFeV/Fb4weDvg9oaa54tuRFHI4jRMgMzHpgGs6tWMFeTsVCDloj1SiuX8GeK7Dxv4ZsfFGmKyWt+m9A/3se9dRW9SnKEnCSs0ZU6kZxU4u6YUV4p8Yfjt4P8Ag1piXeub728myIbK2w1xMw/hRe5rw3wf+3D4O8Q63b6P4i8K6z4RS7IWO41WEQQszdAGPU1nRftJcsNXe3z7GlVOC5pevy7n27RVe0u7a/to7yzlWaCYBkdTlWB7g1YqmraMlO+qCiiikMKKKKACiiigAooooAKKKKACiiigAooooAKKKKACiiigAooooAKKK+efi/8AtGeFfhJLFYvYXfiHUpM/6FpyiWcY9V61nOrGNuZ7lwpuV7H0NRXyN8Kf2wfBfxK8TP4S1LRdR8I6lgeVHq8YgaZj/Cg7mvrnrzXVVw84JOS32MlNNuPVBRXN+LPFug+CtEuNf8R3kdnaW6li8jBQcDOAT3r4puP29/Df2mT+yvAHiPVNOVsLfW1tvtnUdXDj+H3rlVWPNy31NXTko87Wh99UV5l8L/iz4Q+LOgx654XulfI/eQFgZYj6OB0Nem10VaUoS5ZKzMYTUldBRRRWZYUUUUAFFFFABRRRQAUUUUAFFFeV+Pfi74X+Huo6XpWsMz3WqzpbxImNwMnAJHpRHWUYLduy82O2jfRHqlFNRg6Bx0YZp1BKd9QooooGFFFFABRRRQAVtaf/AKk/WsWtrT/9SfrQBeooooAKKKKAP//X/fys7UfuL9a0aztR+4v1oAyKZIXEbGPl8cfWn0UpK6sNM/HPxl+xB8Wvit+1RL8Q/iLb2l54IWVmjhZ9x2kcDYa8W/4KW/CH4K/C/Q/C6+BNGtNE1hpMFbVQruwI+9jmv1G/ak/al8Ifs6eEZr/UJkn1aZSLe2ByWPTtX5RfA74KfFT9tf4owfGb4uRyReFIZfMt7eT7rAH0PPauPBQ9tOjg8N7sKUrymunV69ZP+tWj0KuKVCUsbiNZTjyxj30aWnRLv5eR+vH7Jd14gvPgf4fl8S7vtfkoBv67Aox1r6UrM0bSbPQ9LtdIsEEdvaRrGijoFUYFadezmGIVavOrFWTZ4WXYZ0aEKUndpWCiiiuM7AooooAKKKKACiiigAooooAKKKKACiiigAooooAKKKKACiiigAooooAKr3d1BY20l3cuI4olLMxOAABmrFfA37dfxlvfh74NtvDVgLmI64SklxbRNI0SqeeFB6iuXF13CK5fibSXq/07+R1YTD+0nZ7K7fotWfL37WWo6z+09onic+Hr6Wz8I+EojKJojgXEqHDo3Yivtv8AYit1tPgXpVshysSooJ9lr4U1v9pP9nDwp+zTrXw58KNfrqF9alnL2MqBp3GXLMV7mvo/9gX46+A/F3gi38B6RJcHVbWNZHDwOibVUA4cjBr08swvJ9boUbySUHfrJ68z/rZHPmNWNSlQxE0lJSkrdo8qsn5t7vqz9G6hmaGGN5pQAqAkkgdBU1eOfHnxpF4D+GOs67I+xhE0aH/acED9a8zG4hUaUqj6I2wtB1akaa6s+BPGjv8AtRftNQ+Co903hXwbKDdpj9zP5gyuexwRX6maRpVlomnW+l6dEsNvbIqIqjAAUYFfCP7Afgm+074dTeOdcjxqWvSSNIzfeIVzt5+lfoBXqVMM8LShhHutZec3q/u2XkkcHtlXrTxC+G9o/wCFaL7936hRRRXKbhRRRQAUUUUAFFFFABRRRQAUUUUAFFFFABRRRQAUUUUAFFFFABRRRQBw3xE8ExfEHwxc+GLi8lsYroFXeI4YqRgj6V534b8N/C79nf4fDw9d39tZWcELl5LllR5hyTnPU17rc3drZx+bdzJCn952Cj8zXmPxE+D3wz+MlhHb+N9Mj1i3UERneQPwKnmsKkZKM1S3la/ov62NYOLcfabRvb1/rqfAf7IUNt4q+O/jv4h+Arc23hTUHi8sgbUkKZDY7Hmv1Sr8lPC9/q37Ov7VGmfB/wAH3DP4R12QrHYgYS1CruOD1OT61+tSncAfWvRcYvCYedJvk5Wlff3W4u/zTt0tYyxNSbxlb2itJtPTazS5fw3v1Pm7xN+zR4S8X/Fe0+KviG6lvbixRFgtZMGGN0OQ4HrWP+2DD4WX4H62uvRQtshkNsJMDE4U7NvvnpXvnjbxz4b+H2gXXiTxPdra2dohdyTyQoycDufavykeTx/+3r8SY5bQTaN8MdAuAfMII+1yRNlSVODhhXBTwc8TFYOi7Rjq30gm7t+r6Lds9TD1OSTx1d7Ky7voor+vU+vv2E59fm/Z98PHXg4cRHZvznG73r7LrD8N+H9N8LaJaaDpEQgtLNAiKowABW5Xp5liVWryqR2Z8/l9B06MYS3/AM9bfIKKKK4TsCiiigAooooAKKKKACiiigAooooAKKKKACiiigAooooAKKKKACiiigDL1p9Uj0q6k0SNJb9YyYVkOFL9gfavxU/ac/Z7+LvifRbr4i/GjXZbZrfUl+x6day7rbyuqkg9DX7f18dftt/8kiT/AK+0rzMxfs4+2XxJxt5arVeZ34H337B7SvfzVnp6HrH7OihPgz4ZQdFtwPyr22vFf2d/+SOeG/8ArhXtVfSZx/vdX/E/zPn8n/3Sl/hX5Hzr4i/Z18LeJfilD8VPEN7Ldy2RVoLWXBhhZf4l9Ca+YP25PH/wv1jwda+BdLmt9V8S3k/kWMdsVkeC4YYUkLyuDX6MSXmlXUsmmPcRPKRh4g434PqM5r4S/aF/Zg+F3hzwb4g+KPgmwXQ/E+nRS3qXqkuxkUbujcDmvCrVVShT5/4UGpab/Fd2+e733PosM5VKjcf4skoq+21lf5dPvPp34B6Pr2gfCHwtpPiVidRtrGJJsnJ3gc5zXsNfJv7HPxK8RfEz4TWupeJ5DPe2u2Jpm6ykD73419ZV7ubc31mblu3fTz1/U8HL0lSUV0uvmnZ/iFFFFecdoUUUUAFFFFABRRRQAUUUUAFFFFABRRRQAUUUUAFFFFABRRRQBnaxcG00m8uhwYoXYfgCa/OD9lDSH8cfGfxv8Rtcna8kSSMW4k+bysZU7fTNfov4iRpdA1GNOS1vIB/3ya+AP2IZo7bxL430mU4uoJV3p3GWJFLLm/rlR9qUrf8AgcE39zt8ycf/ALrCPR1Ip+nLNr8Uh37eOiaT4e07w/8AFa3h8nUtAuPOEsa/M3bBNfbPwu8QP4p+Hvh/xBKcvfWcMrE+rrmvkP8A4KETTS/B86RaoJJ787EUnknPavp74EWdxYfCDwlaXS7JY9Ot1YehCCt8tUfqVdX2q6LteEW7erd/U0zJ/vcM+rg7+ik7FD42fBbSvjd4ftvDet381nZwzpM6xH/WBf4G9j3rrNG8G+GPAvgUeF7C3jh0uxt2j2kALsxzmu4nuIbWF7i4cRxoMszHAAHvX5gftGftH+Jfin4l/wCGfP2fUe71S7Yx318mQkCjhwG+6ePeuSFOc+bCYdXlPVrporcz7JLqduHp+0cZ1ZWhDq+i3fzf3mN+x3LJH+0d8TbfwvGE8NCWDyRH/qhwd23HHWv1er52/Zv+AulfAfwLb6BDL9s1KUbrq6YYeR2O7n6E19E16WMcUqdGMubkio372Vr/AOXkeTTk51atdq3PJyt5Pb5vd+YUUUVxG4UUUUAFFFFAHl/xd+KGj/CTwZd+LNYDOkKt5aqMlnAyBivjHSfjR+2v4w0ZPG/g/wAHaK/hu6Uz25ndluDD15X+9ivsP40/Cuz+L3gq58KXVybR3y0UwGSj4wDj2r87/BFv+3D+zhbavokGgJ4/8N6eWa0uLidYmWBBnAUVhQkuar7WVmrcv8tut/O/drQ6akG6cPZpPX3u+9lby77n3x8GvivqHj3wnLqXirTZNJ1OwUm7RkKRgj+4T1HFfNXiD9qP4seP/GV54T/Zq0K01k6U2LufUMpFz02MOD71U8FftX2Hxy+EHiaOCz/sXxTpcLpe2aL/AKpiCMZwM18nfsceMv2nvDfgGa6+HHw1tPEVncXNx/pkt0scj4kPUHniu6VCUsRU9orRhGL02blezvquXRu3proc8o+yw6W83Nx13ilq1bTXZfez7X+H/wC0z8QdE8eR/Df9obSbTQtXvNotXtCTA7t0Xce9fIf7X+tftAf8Ly8NtpOk6bLElzCbAlz+8Ib5N/17103xc0D9qn40+KfCFx4y+HVh4aXR79Z/tK3qFzjsBkE13n7RNtdWnxP+Gtre83EUtmr85+YNzzXNRg51cJOeklV5dOqs7St0fQnFSVOliIw1i6fNr0d0mr9nv5I+p/EHxw1b4Q/Cm28V/GS2htNZlVIlt7M71adx8oA64zXgC/Gr9tbVdJ/4TTQvBmjnw4wMqeczLc+SOSSnrisX9t0yXXinwTpt7GG003Ns7bjhd4cYr9HbOG3/AOEeihVV8k24GABjGyhfvKFTEp2lzSil0XKlrbq3f+rlKUYTpYe1/dUm+ru2kl2tb8jwL4M/tMeEvit4PvNeG60vdJRjeW7ja0bLkH5euCRxXztp37Sn7Snxf1XUNR/Z78M6ZqHhmzkeAT6izRyGSM4Ycdq82+AOg2N7+1F8XfC9oPL065jt0Kp90blOTx71Jp3wP/ao/Zo8Y3bfBMf8Jl4Wu5nuPsMzrAiM53Ngnk11VYw56VWd0qlOMlbVKTV5X62/l9dROEoxq0YO8qc7O+jcelul9de/Q+rfgX8bfid4l8S3fgD4w+HRpPiC3RphJaIxtDGDgfvD/FntWH8VP2j/ABq3jYfC34D6Zba34nRS8v2vIt0CnDAsOje1cx8HP2w77xH49uPht8YPDkfhLxNGCyxRnzAy5wPnx3NeUXvxh8RN8VfEekfsy/Dm113U0kmjv76SfynS47/erKdSNWpRaWkot+692uvVJX3Vy4RUY13s04r3vs3+5u6+E63Vf2lf2mvhDrWnXfx+8LaZY+G7x1jefTy0kis52r19zX6LaTqdtrGm2+p2bb4bhFdT7MM1+H37TPwv/aCi+F8Pjv4s+Np4HnvLZn0PCtFGTIOA464r9gPgvn/hW2iZOT5Cc/8AARWmHn7ShUU0lKEktOzV7Po2rbrv5EYqHJOk435ZKW/eLSuuqvfqepVtaf8A6k/WsWtrT/8AUn61gBeooooAKKKKAP/Q/fys7UfuL9a0aztR+4v1oAyKguXlS3keBd8iqSo9T6VPRSkrpoadnc/nD/a9/Zo/bD+Mnxl1HxFpnhae60m2mDWR81duBz0JrofDFp/wVZ8K6fa6JounPaWNvtVUSOEAKPpX9DmT60ZPrWWCoqhSVGG35vu/M1xdZ1qntZrX8l2PF/gJL8TJvhxYP8WlK+Iz/rwcD+XFez0UV24mt7So52Sv0WxxYaj7OnGndu3V7v1CiiisDcKKKKACiiigAooooAKKKKACiiigAooooAKKKKACiiigAooooAKKKKACqV3punX4AvrWK5A6ebGr4/76Bq7RQFz5/wD2gfhzF4q+EPiTQfDGi202p3lsyQIkMasWPocVhfst/D3Vfh38L7TS9f0qOx1SNVDKFXfwuPvAV9O0UqCdP2vK/jtfyt2NatXnp06bWkW396S/Q8j8F+NfHuveI9T0vxH4TfRtPtJWSC6aUOJ0HRsDpmvG/wBtHwb4+8efClvDngDTm1K8muYGaNWCnYrgsefavsDJo6VjicPGrCMJdLfOzvr/AMA0w2KlSqurDfp5en/BPNvhJ4euPC3gHStFu7f7LNbxAPH6NgZ6e9ek0UV3Ymu6tSVSW7dzgw9FU4RprZaBRRRWBsFFFFABRRRQAUUUUAFFFFABRRRQAUUUUAFFFFABRRRQAUUUUAFFFFAHmfxa+HsfxM8GXnhk3DWk0qkwyqSCkmPlbjrivh/w542/au+CmkH4d2nw6n8cwaeGjg1QXCxeYD0baeeK/SylyfWs6cOSUnF6Stdd7bej9DRzTSUldxvZ9r7+t/M/Pb4EfAX4g6/4+f48/GY/ZtZuG3W+muAWtMcY3jrkV9Up438fn4gzeGT4RddCjVSmp+aNrE9Rs68V6/1oro5kuSEFaEbpR6a3e713d9/Uyau5zlrKVtfTt02022PyM/bC8M/tK/EH4oadZ6J4Hn8Q+B9PKStbxziISup5yc55Fem+FvjZ+0h4M0W20Hw9+zxLa2logRFS8QcL0ycc1+k+T60ZPrWOGTpUVQT0vf1b6vua4mp7WoqklsrLyX9b9zzL4W+LPGfjDw8mp+N/DTeGL9gM2zSCQj8RXplFFa1JJu6VjCEWlZu4UUUVBYUUUUAFFFFABRRRQAUUUUAFFFFABRRRQAUUUUAFFFFABRRRQAUUUUAFfM37VXgjxL4++G66L4VtDe3guFfYDj5R35r6ZornxOHVWHJLy/DU2w9Z0586PK/gvoWq+GPhjomiazAYL20h2yRnsfSquk+NfH1947vvDeoeEntNEtyBFqJlBEoI5+XtivXqMmu6vXdSs60ut9Omv46HJh6KpUVRj0SSfXT8NT4S+NXwg+I/hv4iL8bfhK8uoXq7ftWlBsC6ROiAscL9cV5b491z9q39orRv+Fc3fgOX4eWGofu7q+aZbgNE3DLtr9P6XJ9a5qNOMYxpTXNCLuk9t727tX1s/TY7Z4qftFWg7Tslf020d1e2l7HkXwT+FNj8HfAOneDLOUXElpEiyzAY811GC2O2a9cooror15VJuc92cdOmoLliFFFFZGgUUUUAFFFFABRRRQAUUUUAFFFFABRRRQAUUUUAFFFFABRRRQBHLGk0TxSDKuCCPY1+c3i/4S/Fj4GfFbVPi18GtPfxLaa+ym70lGEedgwPnP51+jtGcVMeaM/aU5Wdreqdrp+Wn6mqqLklTkrxfTzWzXZr/gbH5jx+D/jz+038RtH1T4qeGZPAvh7w3KLhLV5FnFyT1XI6V9u+OPEXi7wJp+k2Xgbws3iCMyJA6pII/Ii/v89cV65kmkzit51FyRp01yxTu0ure7d9dfw2VkRzNz5566WXkvL56+b3Pif9ry6+POsfCmLS/hDoMlzquo7Vuo0kAKxuMOmT/Ovlj4E6t+0B8D/DiaZpn7P0tzqUnNzdteqXlf1yckfnX7AZIoyfWscPem6nK/jd36dFfey7DrT9pCnCW0fz7vz/AC6HzF8Hfi38aPHOqS2fxB+GcvhC2TG2Z7hZQ34CvpylyTSVpKSaSSt+pjGLTbbCiiioLCiiigAooooA80+K2meOdS8J3C/D7U/7M1WEF0bYH8zA4TnpmvjBfjp+11pWkP4cvfg3NrdxHG0Rv/tSIJT037O30r9GqXJ9azjTs5Xd091/Wq+Rp7TSOmq6/wBaM/Pr9l/9m3XNEm8U/EX4jW4stX8a/NLp+B/o2AVxkcHINcTp/g34+/sr+I723+F/h2Tx54Y1F2eKyjdYPspJ3Mdx65Jr9OqXJFdFSo/aKpT91KPLZbcvRa9t77366si94zjPXmlzP/F308tPQ/OrTPBfxo/aJ8caT4o+KGizeBtL0GZbiOwMvmeY6+rLjrV79sL4VfEXU7jwt4y+FWkNrN/oV5BI9qrBS8URzjcfWv0HyTSZxUfD7P2Xu8kuZdfe7u977/LoVTm7ydX3rrls/wCXsrf8P3Phn4m/CfxZ+0v8J7OXxLpLeD/E2nPHcwxswlIeLkLke9edWPxV/a60Dw8vgE/CyfUZYk+z/wBrfaUUFT8u/Z7DnFfpXS5PrRpeUV8Endx6X2vfdX62YoSajBPWUNE+tu3Zr1Pif9nv9mnXPhdpuueJtV1b7R4w8RrumuinKEZKrjoducVwMPxN/bB+GOo3vh6+8BS/EWESO8WopMluNjH5U2ewr9FaXJ9aurWlKd07KyjboktrdrLtv1M4QSi09W3e/Vvrfv6fcfmT8P8A4L/E34yfGQ/Gr4raEfB4toBbxacWEjEq24PvWudtPhz8cf2Y/i1r3ij4b+E5PHmleJZ5LuREkWHync/dyeTiv1XyT1pckVlSXs+T2XuqKcfVS1d792aynz8/tfe5mnr05drW7H4+/tAeBf2of2o/CK3d74Yl8If2TcQsNKaRZTdgOCW3j7u3Ffph8GrDWtM+HWkaf4hszYX0EQSSIncVKgDr716lk+tJWtOUYRqQpxspNN+qVuvf/hia7dSUJz3iml6Oz/C346hW1p/+pP1rFra0/wD1J+tZiL1FFFABRRRQB//R/fys7UfuL9a0az9QVmRdozzQBj0U/wAt/wC6aPLf+6aAGUU/y3/umjy3/umgBlFP8t/7po8t/wC6aAGUU/y3/umjy3/umgBlFP8ALf8Aumjy3/umgBlFP8t/7po8t/7poAZRT/Lf+6aPLf8AumgBlFP8t/7po8t/7poAZRT/AC3/ALpo8t/7poAZRT/Lf+6aPLf+6aAGUU/y3/umjy3/ALpoAZRT/Lf+6aPLf+6aAGUU/wAt/wC6aPLf+6aAGUU/y3/umjy3/umgBlFP8t/7po8t/wC6aAGUU/y3/umjy3/umgBlFP8ALf8Aumjy3/umgBlFP8t/7po8t/7poAZRT/Lf+6aPLf8AumgBlFP8t/7po8t/7poAZRT/AC3/ALpo8t/7poAZRT/Lf+6aPLf+6aAGUU/y3/umjy3/ALpoAZRT/Lf+6aPLf+6aAGUU/wAt/wC6aPLf+6aAGUU/y3/umjy3/umgBlFP8t/7po8t/wC6aAGUU/y3/umjy3/umgBlFP8ALf8Aumjy3/umgBlFP8t/7po8t/7poAZRT/Lf+6aPLf8AumgBlFP8t/7po8t/7poAZRT/AC3/ALpo8t/7poAZRT/Lf+6aPLf+6aAGUU/y3/umjy3/ALpoAZRT/Lf+6aPLf+6aAGUU/wAt/wC6aPLf+6aAGUU/y3/umjy3/umgBlFP8t/7po8t/wC6aAGUU/y3/umjy3/umgBlFP8ALf8Aumjy3/umgBlFP8t/7po8t/7poAZRT/Lf+6aPLf8AumgBlFP8t/7po8t/7poAZRT/AC3/ALpo8t/7poAZRT/Lf+6aPLf+6aAGUU/y3/umjy3/ALpoAZRT/Lf+6aPLf+6aAGUU/wAt/wC6aPLf+6aAGUU/y3/umjy3/umgBlFP8t/7po8t/wC6aAGUU/y3/umjy3/umgBlFP8ALf8Aumjy3/umgBlFP8t/7po8t/7poAZRT/Lf+6aPLf8AumgBlFP8t/7po8t/7poAZRT/AC3/ALpo8t/7poAZRT/Lf+6aPLf+6aAGUU/y3/umjy3/ALpoAZRT/Lf+6aPLf+6aAGUU/wAt/wC6aPLf+6aAGUU/y3/umjy3/umgBlFP8t/7po8t/wC6aAGUU/y3/umjy3/umgBlFP8ALf8Aumjy3/umgBlFP8t/7po8t/7poAZRT/Lf+6aPLf8AumgBlFP8t/7po8t/7poAZRT/AC3/ALpo8t/7poAZRT/Lf+6aPLf+6aAGUU/y3/umjy3/ALpoAZRT/Lf+6aPLf+6aAGVtaf8A6k/Wsjy3/umtiwUrCQRjmgC7RRRQAUUUUAf/0v38ooooAMCjAoooAMCjAoooAMCjAoooAMCjAoooAMCjAoooAMCjAoooAMCjAoooAMCjAoooAMCjAoooAMCjAoooAMCjAoooAMCjAoooAMCjAoooAMCjAoooAMCjAoooAMCjAoooAMCjAoooAMCjAoooAMCjAoooAMCjAoooAMCjAoooAMCjAoooAMCjAoooAMCjAoooAMCjAoooAMCjAoooAMCjAoooAMCjAoooAMCjAoooAMCjAoooAMCjAoooAMCjAoooAMCjAoooAMCjAoooAMCjAoooAMCjAoooAMCjAoooAMCjAoooAMCjAoooAMCjAoooAMCjAoooAMCjAoooAMCjAoooAMCjAoooAMCjAoooAMCjAoooAMCjAoooAMCjAoooAMCjAoooAMCjAoooAMCjAoooAMCjAoooAMCjAoooAMCjAoooAMCjAoooAMCjAoooAMCjAoooAMCjAoooAMCjAoooAMCjAoooAMCjAoooAMCjAoooAMCjAoooAMCjAoooAMCjAoooAMCjAoooAMCjAoooAMCjAoooAMCjAoooAMCjAoooAMCjAoooAMCjAoooAMCiiigAooooAKKKKAP/0/38ooooAKKKD04oYHnXxF+LPw++E+lHW/iBrMGj2Y/5aStgVwfw/wD2pfgP8UdWGh+BfFtpqt8eBHG3P618Q/tNfsRfFL9or4pprfjHxRBb+AbQsxtI5GWTZjOWHTivzJ+Lvwo+G3wV+Nng/RP2UNfn1LWZbjZdCOfzMFSMj5fxoyb9/WpUa+jqSaSW6XRy8uv4GmaUpU6dSdDVQim29nfdLz/4c/qVorlfA7ak3hHSDrH/AB+m1i83PXftGc/jXVVpVp8snHsc9GpzwU7bhRRRWZoFFFFABRRRQAUUUUAFFFFABRRRQAUUUUAFFFFABRRRQAUUUUAFFFFABRRTXZUUu5wqjJPsKGwMXxH4j0Xwno9zr/iG6SysLRd8srnCqo71X8LeLvD3jXSk1vwzeJfWUmNsidDnmvyf/b1+I3jT4p6Frvw++FF0qafoMPn6nc5JjkjPBRSO496+uv2FoJLb4C6RbytveNEBPqdoqcsl9Yp1qr0UeXl80+vp27muYUnQdKNruTd30Vkml6669tj7KrifHXxF8GfDXRZPEHjXU4tMsIsBpJD6+w5rspZFhjaVuijJr8nNQk0D47ftBa9qfxD1X7L4R8AzmCa3lfFvIXGQXU8HBpRUp1FTjorNyb2jFdX6vRebGoJU5VZJtJpWW7bdkl+fofbHhD9rb9n3x3r9t4Y8LeLra91K7JEUI3KWI64yAK+jlIYBlOQa/ML4pfDf9m7466fbaJ8A/EOiaR4ysXU2sunskUmVYFgSgz0Ffob4C0nW9D8KadpPiG4W6vrWFI3kU5DFQBnJrs5YOlzWakn12ku8fya7owqaSjytNPfvF9n6rY7GiiiuYYUUUUAFFFFABRRRQAUUUUAFFFFABRRRQAUUUUAFFFFABRRRQAUUUUANd1jUu5wo5JNfOHij9rj9nzwbrs/hvxF4vtrTUbdtkkR3Eq3pkAivSvir4f8AFPijwZf6F4Qu0sb+8RoxK5I2hhjII6GvBfhf+yr8PfA/gR7b4gabZ69rMkbtd311Gsrk8nIdhngVipyvOUtIxS+bfbsl1NmoKMVq5N/Jevr0R9N+E/GPhvxxo8Ov+Fr6O/sbgZSSM5Brpq/KX9kWR9G/aG8f+HfBN9LqHg+J4RB85eCLg7gnYc1+rVdtSMHCnWp35ZpNJ7ryf+fXcxqU5U6s6E2m4u11s9E/lvqujCuG1H4keCtK8UQeDL/VIotZuY/NjtyfnZM4zivOv2gPiT4y+H3hTzPAmgXOt6vet5MHkx+YkTsOHkA/hHevyJ+G/hz41af+2dout/GTUYrq/wBW083CQxE4hR3+4QehFcmEm6uKp0VpFuzfna9l/VjorUeTDVKz1ajdJetrvy/E/fMHIyO9LTI/9Wv0FPrVnOFFFFIAooooAKKKKACiiigAooooAKKKKACiiigAooooAKKKKACiiigAooooAK57xL4q0Dwhp51XxHeJZWoO3fIcDNXNb1J9H0m61OO3e7a2jZxFEMu+Oyj1r8Mf2rNT/aY+NOlXHiC8hbwl4Q0nU1iS1uVaK5mC8hh2KkVyYivJPliu129km7Xf+SOmlQvBzfyXVu17L/M/c7Rda0zxDpkGsaPOtzaXI3RyL0YVq14Z+zapX4LeGFPJFsoP1r3OvWx+HVKvOktk2vuZ5eX4h1qFOrJWckn96PM/iR8YPh18I7GHUfiFrMWj29wSsbS5+YjsMV4qv7c37LrkKvji1JPT5X/wr5e/bV1Lwrr/AMZPh94e8V3ltFpGl3vm3y3JHliNh/EDxivorwtqX7EniC9tvD/hz/hGL++OESKKOFnY9PTrXLl8XVpxqy1TlJJLe0XZ389GehjeSnJQV7qKcm9rvVJfKx9Z+HvEOkeKdHtdf0K4F1YXsYkilXoyN0IzW1VLTtPsNLsorDS4EtrWFQsccYCoqjoAB0FXaqpy8z5djCF7e9uFFFFQUFFFFABRRRQAUUUUAFFFFABRRRQAUUUUAFFFFABRRRQAUUUUAFea/ET4vfDv4U2Sah491mLSoJM7TJk5x7DJrvdSuvsWn3N5/wA8Y2f/AL5Ga/MP4LaTdftB/Hjxf4j+ICRaroWjvGLK1lG+HnKtlTx2rOmpVK3sYNK0XJt9k0vvbaS+/oXNxp0nVnrqopLq3f8AJJt+h9v/AA2/aH+D/wAXb240/wCH3iODVri1UNIiZBAPT7wFe1V+W37Wfw58OfBLX/DHxh+H0MXh0WN0GvYrUCGOaMdAyrgGv0c8CeIk8WeD9I8RocjULaObj/bXNdcfZ1KLq0rrlfLJPo7X37NNPy2M66dOpGEndSjzL77NPzT/AAOkvLy2sLaS8vJBFDEpZmY4AA6mvmbUv2zf2bdJ1WTRL/xnax3kT7GTDHDemQMVrftJ/DHx38WPBkXhXwVqy6QZp1+0yFirNB0dVI71meE/2W/hJ4V+H8XhzVPD9lqN1Bbskl7PCjzuxHLFyM5964oylyzqPRR0S6vre+yS2OicIpQUXdy37L182fQXhzxNofi3SYNc8PXaXtlcDKSIcgit2vyj/Yw12/8ADXx5+I3wp0+6mutA0iWEWolYsIw4LEDsK/Vyu+vSio06tN+7OKku9n0foccZNVKlGW8G4vs7dV6hRRRXMahRRRQAUUUUAFFcr4z8ZaB4D8P3XiTxHdJa2lqjOWc4ztGcD3r4ck/b4E0j3Gi/C3xHqukg5S/t4N1vIg/jVv7tQqicnBbr+ty3TaipvZn6G0V5Z8K/i14b+K/hiPxJopMHy5mt5CPNh9nHavBfif8AtmeFfA3iJvC3hTw/qHjjUYTieLSVEzQ+m8ds1dZezqKlL4n/AFf089iKT54OpHZf8N9/kfZtczr/AIx8N+F5LWLXb5LR72RYYQx5d26AfWvnT4QftZeGPidrcvhjWNFvfCGsou5bPU1EUz56bV96+AP2yPj/AK3pvxw8OWCeEdYmg0u7hcKkeVnKN/AO5Pak5KNehSntUe/lZ6gtaVWpH7Cvbz6ff3P2vUhgGHINLXh2lfG3QYPhpF8Q/GNpN4XtjEG8i/xHKGIyEwe5r5iuf2+okka5sPhh4ivtJDYGoRQA27LnBcN6DrRUkozcG9Vv5fPYdKMp01US0f8AWh+h1FeX/D34v+CPiV4XHivw5qEUtqqlpQGBMeOob0Ir5a8Uft16Np/iS70LwP4G1rxrb2ZKveaVEJoN4OGXcO471VSLhU9lL4t7eXf0JpyU4e0i9NvmfetFfM3wN/ab8M/Gi4uNIbTLrw3rltlm07UAEuNg/j2+mai+M/7UHhn4TX0WhWOlXfirXJRuGn6aBJcbO7bfQVWIpypOMZrV7dbrvp08x0/e5rfZ38j6eor4E8Oft46LeeJ7Lw/438Da14LhvjhLvVIhFCCeACT6mvvS2uIbu3jurdg8cqhlI6EEZFXKhJQVRrRk865uXruT0UUViUFFFFABRRRQB//U/fyiiigApGYKCzHAHU0tNdFkQowyGGDSle2g15nnN54++HGvX134EXxHZPqk6PE9qkymcbgQflznNfgj+19+y/pn7HnjPQvjj8M7+e7upbp5ZkuWyo3N/Dj612/7Z3wH+LHwK+NrftOfC2yl1G1aXzJ4oizMCeAAq8kH6V4b408d/tL/APBQTxP4e8E3PhSXw5Y6a6+dlHRHHGclwPSuTC0qld0K+DfLW5rSvpZLV69U1/nsd2IxMMMq1DEe9QlFNf3pNNLTum/zsf0Afs6/Etvix8KdG8YSJskuIlDgDHzADNe415b8Gvh3a/C74e6T4PtVC/Y4UV8dN4ADfrXqVe1mcqbxE3R+G+h4WWRqrDwVb4rK4UUUVwncFFFFABRRRQAUUUUAFFFFABRRRQAUUUUAFFFFABRRRQAUUUUAFFFFABXx1+2H8eLb4Q+BxptneRWesa1mK2eZtqLzhiT24NfYteV/Ef4J/DD4tpBH8Q9At9aW1yYxMM7c9cVy4uhKpFQW11fzXVfPY6sHWjTnzy3SdvXp+J+bVxdfBf4e/sq+KdPi8baZqniPWrV55m+1I8zPL82wdyATwK+j/wBhPx14N1f4T2Og6XrVpd6jEqs9vHKrSKoUDJUc1x/7RX7G/wCz9ovwb8Taj4W8C20epwWrNAYVYuGHTaM1s/sL/BTwL4E+HVt4stPDq6Zrk0YSWUqVkKlQSCD716mCxMKlTG1KmmkNtlbZLy7mOKpSjhcOo6+/N+bbirtn3Xru8aNemP73lPjHrivwr/Zi+F7/ABJ/at+IzeINRuf7Jtr3FxYbv3E5IOPMQ9cV+x3hD4weFPHuv6p4V0uG6W502RoZjNCyRkr12seCK/Pfxz4a8U/spfHnUfjXYabJfeDNelMuoi3UySo5GF2ovJrz8I408dTrVPgnCUV2u9Y38rrS+lx4uMpYOpRh8cJRk11st0vOzv6HfftX/s1+DPCHw3n8c/CLT4fCWu6OyOs9gogZ8sM7ivJ4r6v/AGcPG2oePfhVpOt6od10qCKRu7MgAJP1r4g+K/7SC/tQ6JF8Jvg3pmox3OqsguJru2e3WMKQ3BYY5r9DfhN4Eg+HXgbTfDEIw1vGvmY7yEfN+tdmD9rGjWVX4XJOF/R8zXk9F2umc+LnCUqCha8VLmt2duVPz3+TPSaKKKxLCiiigAooooAKKKKACiiigAooooAKKKKACiiigAooooAKKKKACiiigArwT44fA5vjPpa6YPFOp+HFVGUnT5fLLg9mro/jPoXjPX/A15beAr97DWI1MkLIcb2UcKT6E18U+D/227f4Y+Hx4M+N+lamfF2mhkma1tZJ43fnHzgYNczjTquVOe8bNLv6d7PdHRH2kOWcFdO9329fXozzv4E61c/ssfHaH9ne7tYbvTdakK2d/jddykDcxmb8eK/XFSGAYd6/Kn4M+CPGv7QPxzh/aN8R6V/Znh+zcvpgkBWVhja25DyK++o/jL4Vbx/L8N1huv7ThVWLGFvJw3TD9K9WU5zo0IV0/bNS5k99JPluujULXOOpGKr1p0v4as79OZ25rPtzP7z12vyv+J//ACfZ4b/7BX/s9fqhX5hfEvRdXm/bf8O6lFZTPaLpe0zBCUB39C3SvNof8jHCP+8/yPQg/wDY8V/gZ+nUf+rX6Cn0yP8A1a/QU+t3ucaCiiikAUUUUAFFFFABRRRQAUUUUAFFFFABRRRQAUUUUAFFFFABRRRQAUUUUAFfGH7cv/JIF/6+4/5V9n18d/tsaffal8JVg0+3kuZftSHbGpY4x6CvLzhXofOP5o9DK3++Xo/yZ6p+zj/yRnw1/wBe4/nXuFeKfs9QT2Xwe8Ow3cbRSR2/zKwww/CtDSvjL4W1rx1ffD21iul1KxIDu0LLD8wyMP0NfS5s1LG1YR1bcn9z1Pn8oi1gqUnsoxv80l+Z5V45/ZD+HfxE+KKfE7xTNPeygKGspMNbMFGMFTXmH7S/7Mfwr0X4Ua54r+H+h2vhfWtGt5LqG7sIxDLvQZHzDnrWd8ddd+N/wa+KkXxNsrm41fwE5UXlomXMCL1KIOSTXBfFP9rW2+P3hKX4XfBrQ9Qm1XX1NtO15bSQJFFIMFgzDGRXgOM54WMMJpNNpJbxd76+T3vtY+jp1IwxcZYlpwtFtvZpK1vVfD3ufSH7FfxG1n4ifBjTrnXpmubzT0S3kmc7nkKryzE9Sa+va8F/Zy+E/wDwp/4Z6Z4XuFC3qxIbnHOZQMHmveq97NKkZV5Sh/Ttr+J4WDi1Cz7u3pd2/CwUUUV551BRRRQAUUUUAFFFFABRRRQAUUUUAFFFFABRRRQAUUUUAFFFFAGF4nBPh3UgBkm3l/8AQTX5+/sJER6x40t3OJFlXKnqPmNfoxdQLdW0ts/3ZVKn6EYr8q2m8V/sffG3xJ4x1vTptQ8DeJ2QiS3RpZYhGOcIuepNZ4OUKeKnKpKylTcU3tzc0Gl80n89C8RRlVwyVPVwmpW6tcsou3pzX9Lnqf8AwUaeA/A+4t3hM00xxGAMnORX1D+zzG8XwX8HpIpVhpttkH/cFfn34z+I+qftoeP9A8K/DjS7u38L6NOJtSmvYWty0TdgGAzX6C+JfH/hP4JaDoekarDcvDIY7OD7PC0mCBgbtvQV3Yfno4SdOsrOpU5orrblUV97V13QsYva1qMaevJB38m23b5LVnspIAyelfAX7Wn7Vlt4Htf+FYfDMf23431keTHBb/vPJDfKxkC8rjOa6H9sT9oPWfhb8IxrHgvTrq9v9XAjTyYmZ4kkH38AdRXwL+zV8Zf2ePhtIfiD4/03XNX8d3xLz3U2nSu8THqFOK4sNTp16k413aEHZpbyf8q7Lu/uO2nVjh4QrW5pS1iui85eXZdT9Bf2O/2fNT+EfhSXxB42dbrxdr2Jb2XO7vlQCeeAcV9pV8zfB/8Aap+HPxp1OXSPCdrqMEsOM/a7V4F59Cwr6ZrvxlWc5KclZW0XRJaJLyVrHkYdJc2t3dtvzer/ADCiiiuM6AooooAKKKKAPnb9pv4V6x8XPhnd+GtCdBerukjWQ4jdsYCt7Gvz9+D/AO1h48+Bug3nws+OHw6v3tfD4a3hm0izaS3eFRyWY8Yr9Pfiz4j8aeFfCc+t+B9Mj1W8tgXeGRtvyAZOMdTXxVcft8/CqXw9caP418O6pHrLwvFcwR6fJJF5hGCobHIrnoVXB1o09ea14vq0tGvlodU4KcaftFte0l01u0/U9D8L/Gv4TeL/AIKa741+DdvDp0skDma3AWOdGwR+8UdDX57fsbftLeEvhvo2p+INd8D6/rmvajcTLNfWdmZkcJIdoD98Cve/2OvgJqWrXXj7x7Np50fwx4yO7TrUgoQuCDuQ8ryaZ8NPiDqf7FV7e/Dr4o6HcXPhl5nk0+6s7c3DsZGLNuCg4xmvT5Y0MTNP3JTpxsn9lrWUL9Htp5NdDnr+/QlCHvRhVbv/ADK1lK3Wzun5u55V8cfi/b/Gf4l+CfEfw48CeJNH1qyv42urqayaJWhXorMO1e3/ALR813cfFH4ZT34K3Ly2RkDdQxbnNdanxW8dftK+PNDPwZS60Pwvpdwk17NPCbeSVB95drAcVh/tx2useC9f8EfEWOzn1Sz0y+tluvJjMjiNDlm2rmuXCRVJ4RTXKvbc2r2Vnr5JvYWIjLEqtGm+aXsnHTune1+rS08th/7d97JrOqeDfA1y0gsLu6tpZFH3Gw4GD9a/QzSvC2hWPgiLw5aWccWni12eSqgJhk54r4P/AGgPDt/+0v8AC7SPiJ8Jop49S0eWG5EVyhhdo4/mIw3NRaZ+3p4Z0rwpH4X8QaJqq+Lo4vs7RpZyND52Nq/PjGM0qSawtXCzXv8AtJPl6tSUbNd9mvK/mN806tDEQfuciV/5ZJu9+19PW3keSfs5eHpNM+Pfxe+E2gzNb6R5cIghBwkbSqSdo7ZJrmvhj4v+Mn7EniXUPA3i3wbLr/he8u5bmO60q3aeciVs4Y9OlfRf7LPwa+J3hnU/F3xs8Y2iDxF4oVXhtS3yhY87Oe2RirVt+3Pp/g6+vfDnxy8LXuna1byOFWxtHuYmiz8p3gdSK66tR05UYRklNUqcZp9eVbebi3rYiUo1VWny3pyqNxa0affyTs/U9A+Bv7QPwC+L/jC71PQdFOgeK1RopPt8KwXjIDyMdcZr558S/Ff4KfBL41634g0vTdb8a+LrgTYa0hFzHbFjzFkcqAe1cT4H8Ky/tC/tLH4xfDfR5tE8M21sIpJpo2t5ZJ1bJBQ44I71R8D+I5/2Rfjn4uvfi3pF3eWHiS7mu7W4tYGuWCOeAcA4rjwsm5UJ1H7NunO/5JLtzLU3nfkrwh+8XND7t3fvynm37Ufjr9pf4o/Da18Y+KfDemaX4Re9tmg81GTUY18wYyp6Gv2a+DU89z8N9EluXLyG3TJPPRRX5L/tefGbxV+0d8PY/wDhTehXj+HNNu7c6g9xA8MwO8EbEIyR61+q/wABbv7Z8K9Cl8t4iIVUrIpVgVAByDW2ApyhQxEJR5UpxsnvrF6v179TPMGnPD63fLPbZax0+X6nsNFFFZEhRRRQAUUUUAf/1f38ooooAKKKKAIZ7a2uk8u5iSZD2dQw/I1Xg0zTbVt9taRQt6pGqn9BV6igAooooAKKKKACiiigAooooAKKKKACiiigAooooAKKKKACiiigAooooAKKKKACiiigAooooAZJHHKhjlUOp6gjIP4UkcMUKeXEiovooAH5CpKKAII7W2hcyRQojNySqgE/Uiie2trpPLuYkmQ9nUMPyNT0UAUYNL0y2fzLa0hib1SNVP5gVeoooAKKKKACiiigAooooAKKKKACiiigAooooAKKKKACiiigAooooAKKKKACiiigArPl0nSp3Mk9lDI56lo1JP4kVoUUBcihggt4xFbxrEg6KoCj8hTfstr5vn+Snmn+LaN359anooAKga2tmlE7RIZBwGKjd+fWp6KACiiigAooooAKKKKACiiigAooooAKKKKACiiigAooooAKKKKACiiigAooooAKKKKACo5YYpl2TIrr6MAR+tSUUANREjUIihVHQAYFRLa2qymdYUEjdWCjcfxqeigCKaCC4Qx3EayoezAMPyNVIdJ0u3cSQWcMbDusag/mBWhRQAUUUUAFFFFABRRRQAUUUUAFFFFABRRRQAUUUUAFFFFABRRRQAUUUUAFFFFABVe4tLW7XbdQpMvo6hh+tWKKAKdvp9hZktaW0UBPUoirn8hU01tb3GPPiSTacjcoOD+NTUUMCrPY2VygjubeOVR0DoGH5EVV/sPRP+gfb/8AfpP8K1KKAKdvp2n2jbrW1ihJ7oiqf0FXKKKACiiigAooooAKKKKAEZVYFWAIPUGs1tF0ZyWawt2J7mJP8K06KAIoYYbdBFBGsaDoqgAD8BUNxYWF2Qbu2jmI6b0Vv5irdFDAq29lZWgxaW8cOf7iBf5Cn3Fra3a7LqFJl9HUMP1qeihgiGK2t4I/KhiWNP7qqAPyFUzo2kM/mNYwFuuTEuf5VpUUeYCKqqNqgADsKoTaTpVw/mT2cMrnu0ak/mRWhRQBWt7OztBttII4QeyKF/lTLjTtPu2DXVtFMR3dFY/qKuUUAUU0zTYo2ijtIURuqiNQD9RirccccShIlCKOgAwKfRTuAUUUUgCiiigAooooA//W/fyiis+/ZlRdpxzQBoUVzfmy/wB40ebL/eNAHSUVzfmy/wB40ebL/eNAHSUVzfmy/wB40ebL/eNAHSUVzfmy/wB40ebL/eNAHSUVzfmy/wB40ebL/eNAHSUVzfmy/wB40ebL/eNAHSUVzfmy/wB40ebL/eNAHSUVzfmy/wB40ebL/eNAHSUVzfmy/wB40ebL/eNAHSUVzfmy/wB40ebL/eNAHSUVzfmy/wB40ebL/eNAHSUVzfmy/wB40ebL/eNAHSUVzfmy/wB40ebL/eNAHSUVzfmy/wB40ebL/eNAHSUVzfmy/wB40ebL/eNAHSUVzfmy/wB40ebL/eNAHSUVzfmy/wB40ebL/eNAHSUVzfmy/wB40ebL/eNAHSUVzfmy/wB40ebL/eNAHSUVzfmy/wB40ebL/eNAHSUVzfmy/wB40ebL/eNAHSUVzfmy/wB40ebL/eNAHSUVzfmy/wB40ebL/eNAHSUVzfmy/wB40ebL/eNAHSUVzfmy/wB40ebL/eNAHSUVzfmy/wB40ebL/eNAHSUVzfmy/wB40ebL/eNAHSUVzfmy/wB40ebL/eNAHSUVzfmy/wB40ebL/eNAHSUVzfmy/wB40ebL/eNAHSUVzfmy/wB40ebL/eNAHSUVzfmy/wB40ebL/eNAHSUVzfmy/wB40ebL/eNAHSUVzfmy/wB40ebL/eNAHSUVzfmy/wB40ebL/eNAHSUVzfmy/wB40ebL/eNAHSUVzfmy/wB40ebL/eNAHSUVzfmy/wB40ebL/eNAHSUVzfmy/wB40ebL/eNAHSUVzfmy/wB40ebL/eNAHSUVzfmy/wB40ebL/eNAHSUVzfmy/wB40ebL/eNAHSUVzfmy/wB40ebL/eNAHSUVzfmy/wB40ebL/eNAHSUVzfmy/wB40ebL/eNAHSUVzfmy/wB40ebL/eNAHSUVzfmy/wB40ebL/eNAHSUVzfmy/wB40ebL/eNAHSUVzfmy/wB40ebL/eNAHSUVzfmy/wB40ebL/eNAHSUVzfmy/wB40ebL/eNAHSUVzfmy/wB40ebL/eNAHSUVzfmy/wB40ebL/eNAHSUVzfmy/wB40ebL/eNAHSUVzfmy/wB40ebL/eNAHSUVzfmy/wB40ebL/eNAHSUVzfmy/wB40ebL/eNAHSUVzfmy/wB40ebL/eNAHSUVzfmy/wB40ebL/eNAHSUVzfmy/wB40ebL/eNAHSUVzfmy/wB40ebL/eNAHSUVzfmy/wB40ebL/eNAHSUVzfmy/wB40ebL/eNAHSUVzfmy/wB40ebL/eNAHSUVzfmy/wB40ebL/eNAHSUVzfmy/wB40ebL/eNAHSUVzfmy/wB40ebL/eNAHSUVzfmy/wB40ebL/eNAHSUVzfmy/wB40ebL/eNAHSUVzfmy/wB40ebL/eNAHSUVzfmy/wB40ebL/eNAHSUVzfmy/wB40ebL/eNAHSUVzfmy/wB41r2LM0RLHPNAF2iiigAooooA/9f9/KztR+4v1rRrO1H7i/WgDIooooAKKKzptX0q3nFrcXkMUzdEaRQx+gJzQBo0UgIIyDkGloAKKKKACiiigAooooAKKKKACiiigAooooAKKKKACiiigAooooAKKKKACiiigAoopkkscKGSZwiDqWOAPxoAfRWAfFfhdSVbWLMEdQbiP/GtGy1PTdSUvp93FdKO8Tq4/wDHSaEBeooqtdXtnYxGe9nS3jHVpGCj8zRcaRZorKtNd0TUJPKsdQt7l/7scqOfyBrVosK4UUUUAFFFFABRRRQAUUUUAFFFFABRRRQAUUUUAFFFFABRRRQAUUUUAFFFFABRRWNceI/D1rKYLrU7WGVeCrzIrD8CaB2Nmiobe5t7qITWsqzRt0ZCGB/EVNQ0IKKjmmht42mndY0UZLMQAB7k1jJ4o8NSSCKPVrRnJwFE6Ek/TNC1dkHmbtFICCMjkGloAKKKKACiiigAooooAKKKKACiiigAooooAKKKKACiiigAooooAKKKKACiiigAooqKaeC3TzLiRY19WIA/M0AS0UyKWOZBLC4dG6FTkH8RT6ACiiqlxf2NoyLd3EcJkOFDuFLH0GTzQBbopAQRkHIpaACiiigAooooAKKKKACiiigAooooAKKKKACiiigAooooAKKKKACiiigAooqleajp+nIJNQuYrZT0Mrqg/MkUXCxdorNstZ0jUmKadfQXTL1EUiuR9dpNaVNoAopGZVUsxwB1JrDfxP4aikMMmrWiSA4KmdAc/TNK/QDdoqKGaG4jE0EiyI3RlIIP4ipaGgTCiiigAooooAKKKKACiiigAooooAKKKhlubeAqJ5Vj3HA3EDJ9BmgCaiiigAooooAKKKKACiiigAra0/8A1J+tYtbWn/6k/WgC9RRRQAUUUUAf/9D9/KztR+4v1rRrO1H7i/WgDIooprMqKXc4Uck0MEjiPiN460f4deEdQ8Va3MsFvZxs2WPVscD8TX8y6/tGeL/jd+19pWuTXdxbaa12VhgDsq4XjoMA5r9DP2x/ifrnx9+Jen/s2fDW4Bh84f2lIp4XyyGwSOnFfKHxV+HOifC39qXwP4W0eKOJLZ1DsgHzMUGcke9c2T+9jsLiqnwzqcsF6auX4WXzNs2tHBYjD0/iVNyk+3RR/G7+R/RdoJLaJYEnJMCfyrWrH8PMraFYFSD+4j6HPatiu/EfxJerOWj8EfRBRRRWJoFFFFABRRRQAUUUUAFFFFABRRRQAUUUUAFFFFABRRRQAUUUUAFFFFABXzb+1j4nPhX4Ia/qEcnlylURcHafnbacH8a+kq+W/wBqv4HeJ/jz4Cbwd4c1SPTDKR5jSZwQGB7VxY+h7Wn7J7SaT9G0m/krnfllWFOvGpPaOvrbVL57HzB8Gv2JPgP4m8DWniDxvJcXWqaj+/d/7RePiTnG3fX3D8JPgf8AD34M6bJp3gKGWK2mYufNnafJPoWJr5TX/gn14Hk8OwC98QaumsW9uqbobx0h3oOoUHpmoP2Tfi34ttvHWsfAjxxeC+udEEjWsn8X2aM7U3E8k+9e0pxqVp0qWkrN2W3Kt7P9LHi+zcKEatRXSaTb3Tezf5XuforX5n/EnX9Y/aH+Op+CQmkg8KaYzR6kkbFWkcDK/MuCK/Sq4/1Eh9jX5jfsy/vP2ofic8nzMt8uCeo+WvLw8I1MdTpTV4qMpW7tLS/o9T2E5U8HVrQdpXik+3NJJ/gZnxp+Aen/ALLGj23xe+CklzZnSnQ3sEs7zCcOwXjeSBiv0U+GXjKHx54K0zxLEctdQoX/AN8gbv1ryD9sCCwuPgJ4ij1J9kBEeTnH8XFUv2Nmz8EdNAYsokcKTzx2rrwFZ1KWIpT15HFp9lK916XV7eZx42nCLw9SKs586fZ8vK0/X3rX7Jdj6qooorMQUUUUAFFFFABRRRQAUUUUAFFFFABRRRQAUUUUAFFFFABRRRQAUUUUAedfFS/8W6f4Mv5PBFo13q7oywqpAKsRw3Poa+IfBH7E+h+O9Cl8afHQ3dz4u1ANJIUuZIlicdPlVgK/SOvBPjn4c+N3iTRjZfB/XLPRppI2SVrpC2dwxxXLUXJzzUeaUrJf3fTtfq99DppzclGnzWirt+fr38ltc+UP2VPFvjDwl8XvFvwQ1LUzquh6EYhYnr5YkGTluSa/Sqvyg/ZQ1TTvgt8VNR+E/wAR4JZfGupuN2pyH91dty37vPPyiv1dY/IxHoa9bEczo0Zylztx1kvtNaN+q2berauzjm4fWa0YR5UnouystfR7q2ivY/Pf9pTxn4z8efESw+A/gTUfsC3ASbU3HU2jna657fWuR8d/sI/DzSPCA1b4YXs0XjTTQJ4ZTfO4kmQZA2F8cmvm3xtd/EnX/wBum50DwdfR2iXlgILtpBk/ZmfDbD2b0NfUXxI/Y8g8CeG774jfD3xBqn/CUacjXZE908kDMg3YCZ7mvLwlWMMHSxUZOPN7zmviTvbRfyx9fkejVk/r0sPDXl5Uov4dtW/N+nzPrf8AZ7u/iTcfDXS4vitbtBr8Me2ctj5iOAePavca+Xv2Ufi9rnxb+G9vfeKgBrdkBHd4GAX6cCvqGvVzFP2zcra66bO6vdeu55GFty2j0bXpZtW+WwUUUVxHSFFFFABRRRQAUUUUAFFFFABRRRQAUUUUAFFFFABRRRQAUUUUAFFFFAFDVNSs9H0+fVNQk8q2tkLyNjOFHU4FfjB+1d+1R8TfiNZSaR8INHnj8OadqC291qYJVSw6rg4PIr9qZoIbmJoLhBJG4wysMgg9iK+Kv2x9B0TQ/hAU0WwhsVmvEZxCgQM2Opx1NebmDUY+0nqk42XRu637ry08zvwaUr01o3fXsrPbz8z3H9niaef4OeGpbly8rW4LFjkk9+TXtNeK/s7/APJHPDf/AFwr2o8cmvo83/3ur/if5nz+T/7pS/wr8ipfX1tp1pLe3kgihhUszMcAAV+D/wC0b8dvG3xO/aD8Gjw/50Hgiw1qG1EyMVWS6RsEdsjH4V92ftO/ErUPGXiew+AfgeRnutTkEeoyxNg28Tchie1fPf7U3gHRfhsfhD4a0lUUwa3aecykZeQDDMT3JrlySPPi8PiJ/C52j2lo+ZvyWy879D28S/Z0K1GPxuDb02XRer38lY/W3QiW0e0LHJMa1rVj6Ayto1ntIP7telbFLE/xJerPNwn8KHovyCiiisToCiiigAooooAKKKKACiiigAooooAKKKKACiiigAooooAKKKKAILqdbW2luW6RIWP4DNfmLAl7+1z8Y/EHhPxYs0fg3w4yKkcUjRmUOOfmQg8EV+k3iUkeHtSI6/Z5f/QTXwN+w3htX8ZSNy5lXJPU/MaywkI1MVKNRXUabkk+/NGKfyTdvOzKxVSVPDxcHZymo362tKT+/ls/K6PN/iD8Lf8AhjvxzoHjX4T3U9r4c1OcRanbzStN+6X3cnH4V+oXh3WYPEOhWOuW3+qvoUlX6OM18O/8FEEtv+FJXEsshjlj5jwcHORX0z+z87v8GfB7OSxOm22Sf9wV6GFlUq4OpOrK/JU5V3s4qVr+TenZaE46KhWoyirc8Xf1Ttf7tDlf2l7j4s/8IMNM+EVq0uqX8ogkkXH7qJxhnwfSvnrw9+wP8OdQ8KJrHj9ry88XyxGSe6W6lRfP6htgbHB7V+iWSOlfMX7TP7Q/hr4HeDppLiUXGt3ymO0s0OZZHfgED2NeVNKEZpK85tW/m8ox66vX1O6hCeIlToxWiv6Pzl6L5Hz1+x98SvFVj8QvF3wL8SagdTg8LPGlrKRztk5xnqcDiv0ir89f2JvhD4k0+PV/jN8QbZrXxD4tZZHhcbWjVCduR7g1+hVe1mClH2cav8RRSnb+a2vz7vqzyKTi6lWVP4OZ8vp5eXbyCiiivPOkKKKKACiiigCnf39pplnLf38qwwQKXdmOAAOpr5c1D9tz9mrS9Tl0e88WKl1C+xlEMjAN/vAYrQ/a28OeK/E3wkvrDwik0tyNzSRwEiSRNvKrjua+Jf2efjz+zB/whb/D34raDa+FNa0ZDaXDarEhnlbHL7iM596zwrdSVVJr3LadXfqn2W2zNq0FCnCVm+a930XRX82fqt4V8W+H/GuiweIfDV2t5YXI3RyLxkfTtXmXxK/aN+DvwiuYrPx7r6afNOSFUI0h49dmcVwHhVvhl8PvhRrHi34S6idT0ueF3jZZN8YwDjYO3Nfnz+yp8Tv2fNVuNZ+Ifxy8S2U+u6hPIn2W/PmLEI3IG1WyBkVs48+InSj7qhFSd99dFFba3vr2W2pily4dVZ6ty5Vby3b7adO7sfqr8NPjz8K/i6sreAdbTUfJBLDaY2AHs2DX58/tZ/tQeDdC+LPhrw4fEDW9pp15DLdIqONuxvm5A5rz/wCNXxP+Duh/Fvwf4y/Z+8SWRvL69jgvbOy+WNoR/sLxzXof7SeieHdc+Knw91S70m2aTUZbR5sxL8+9uc+uazoKU62ErU9P3nK0/wCaz++LX/DhiGqdKvCTv+75k12uk11s09L9dz9J/CvxF8H+KvCcXi/RdQWXSjEJPOYFBtxnOGrw2+/ba/Zr07VG0a78WKl0jiMqIZCNxOOoGK8D/bU1Saw0nwx8LvC0i6Pbanc2xkW3HlZiJAZRt9q+ptI/Z6+Fdl8P4/Dn9g2sx+zY+0SRK05ZlzuLkZzmm25054mHwqTil1bik277Ja6aDgox9nRk/ekuZ9knovVv9D2zRdf0jxDpsWr6Pcpc2ky7ldSMEYzXgnjf9rn4AfDvXpPDPizxOlrqMIBeNYnkwD7qCK+JP2arjxX4Y8d/E74GaffyXNnpEamyLsWZDMCxGT+leZ/s+fEj4d/BzxDq/gL9pHwx9l1ae8mkXVNVjEkbxyMdoUsCcAV0SpRdWKjJKMoRnG+75le3a8ba/gS4zhTm5q8oS5ZW2Xn3s9PTqfrT8NPjN8OPi9p8mp/D/V01O3jYqxAKMCP9luaZ8SvjV8NvhFZLqHj/AFhNNhcgD5S7HP8Asrk1478GdA/Z11rxpefEH4OaxFdXMkTQyQWkmLYDOSfLHGfevBPFcXwr8D/GnUvHHx68aadesiSix0uY7lEROQChyCw9aivye0hGL5U4tu+uqWyta9+jLpRvGpK/NZpK3W+mu9rdT6b8F/te/s/fEDXofDPhbxOl1qNxnZG0Tx5x7sAK+lVZXUMpyDyK/BP9pj4z+FfGWh2esfDn4Z3eh29teQLb65axLDbupkGTuXBwa/ar4Vand6x4B0e/vW3TSQJuP0UVdFRqUHUimnF2d/NXT7rrdPt5mddOnUhG91JP5NOzXZ79D0OtrT/9SfrWLW1p/wDqT9awKL1FFFABRRRQB//R/fys7UfuL9a0aztR+4v1oAyKztXtZr3Sryztm2SzRMiH0Yjg1o0VFSClFxfUqEnFpo/Anx5/wTa/al1H4paz8QPBPi+00p9QlLpIk7xy4PqRXwR8VvgJ8evB/wAbNM8C+L/FX2/xNdSbYbvz3bacddx5Ff1215rrfwe+GfiPxDD4r1zw9a3mrwHdHcyIDIp9jWWEoexlQjF+5C3rZLo+j8y69T2ka0mvfmnbtfzXVeR5F+yF8N/iP8MfhFYeH/idrH9tarkyed5jSfI3KjLc8V9T0yONIY1iiXaiAAAdABT69PH4yWIrSrS3bOTD0VTjyoKKKK5DYKKKKACiiigAooooAKKKKACiiigAooooAKKKKACiiigAooooAKKKKACvmz9pX4g/E34aeE18U/DzTF1UWxBuYdhkkKk/wAeg619J1DcW8N1C8FwgkjcEMp5BB61lWjJpODs00/u6PyezNKUop+8rppr7+vqj5S0P9sL4L3XgZfEGt+JLKx1JIQZrGSZVnEuPmXYec54r53/ZQ8HXfjP4yeI/j9dWVxp9ldrLa24nXb5kRbcsi+qkd6+ubz9lX9nnUL19RvPAunS3MrF2dohksTnNe4aZo+maNpsOj6XbJbWdugjjiQYVVHQAV20qkIVJYiKtNpxS+ylLfzfYwqxbpLDp3jdNt7u2y7epkaT418IeIL+40nRtWtr27tGKTRRSBnRh1DAdK/N7Vb4/s5/tO3ni3xHazR+HPFErSy3ijEEJAwPMY8Cv0X0L4e+CvDOp3Ws6DpEFle3zl5pY1wzs3Uk1a8W+CfCnjvSn0TxfpkOqWMn3opl3KcVyRThVp4iHxJNNPZpqzX+XmdLlGUKlBtqMmtVv7rTXluvuPgP9q/43+E/ij4Ej+Fnwn1CDxNqniJox/obiZYQjBj5m3pxX2f8ABXwSfAHw50jw66hZI4UaQDs5UZ/Wq3g74B/B34f6j/a3g3wrZaVedfMhjCt+dev10UXGnSlCG83eT9NEl5L82zCrOdSUOb4YJ2Xm92/N2S9EFFFFZDCiiigAooooAKKKKACiiigAooooAKKKKACiiigAooooAKKKKACiiigDyz4w69418NeCrvW/Alsl5qNoDJ5TqW3ooyQoHc9q8U+Gn7Xfw31nwfDffEbWrTwzr8St9psryRYZVYdth5r69ZQwKsMg14d4i/Zq+BPi3VZtb8R+DLC/vrg7pJZIwWY+prOmpRlK+qlb1Vu3r1NJcjUXs1f0d+/p0PgPwtFN+0P+1jZfE/w7ZTr4d8NyForxl/czh12ny2HBwRX6hr428IHW28LLq9sdWjA3WvmDzQD0+XrUvhTwd4Y8D6PF4f8ACenRaZp8GdkMK7VXPXAqivw78Ep4kfxgukQDWZAA11t/eEDpzXTFxhTpYaLbpw5tXu+ZuV+27Mql51KleXxOyS6JKyS+78T81/jx4b1L4LftO6X8cobGW50O+ijs7uRFysCltzSOegUDvX0d8VP2qfhNd/De+h8H+IbPWtW1WBoILS2lWSbfIuBlRz1r601/w7oninTJ9G8QWcd9ZXKlJIpBlWU9QRXkGi/swfALw5qEWraJ4J0+0u4SGSRIgGUjoRXFSw98MsHUfuJuzW6T1a7fM6Klb9/9agvesrp7NrZ/5nnv7HXw91jwZ8OF1PxBE1vqOtYmliYEFDngYPSvrumoiooRBhVGABTq7q9XnldKySSXolZfgjjo0+VO+7bb9W7v8WFFFFYmoUUUUAFFFFABRRRQAUUUUAFFFFABRRRQAUUUUAFFFFABRRRQAUUUUAFfHX7bn/JIk/6+0r7FrC8Q+GdB8V2P9m+IrKO/ttwby5RlcjvXJjsM6tPkT6r8Hc6cJXVOopvz/I8x/Z3IHwb8Nk9Ps9egW/jbwhqGsT+GbTV7eXVIeJLZZAZU3DuvUVt6ZpOnaNYRaXpcC21pCNqRoMKo9BXN2Xw78Fad4huPFllpEEOr3RBluVX94xHAya9TF11VxEqjXutt+eu3/BPOwVD2WHjTv70Ul5ab/wDAPkzx5+wf4E8c+Prz4jf8JVrmj6tfKFkayuPLGF6V+f37XH7LGm+APEngSzh8ba/qg1XV4Lctd3W9og38SHsw7Gv3orkPEvgHwd4wns7nxNpUOoy6fKJrdpV3GORejL7iubBwjSqUbL3IPby10O6pWc1UctZSTV/Puct8G/h/B8OvBlposGqXmrKVVvNvZPMk6etesUyONIY1ijG1VGAB2FPrbEVnUm5vqcWGoqnTjBdAooorE3CiiigAooooAKKKKACiiigAooooAKKKKACiiigAooooAKKKKAKmoW32yxuLT/ntGyc/7QxX5dfCrxYv7OPx68X+HviKh0vQNYeM2V9J8lsMAlsueOpr9UK4bxr8NfAnxGtFsfG+i2+sQJ91J0DAZqaTlTq+1gk7xcWn2bT+9NI0lyTpOlU7pprdNf8AAbT9T89P2lvib4d+P3iTw18J/hhNH4lt57kfb7i0ImihiboWK9K++dL1Dwn8LPCeh+H9f1O301IIo7WLznCB3UYCrnqah8C/BX4V/DO5mvPAfhq00Wa4G2R7dApYDsa6XxP4F8I+NFtl8U6XDqQtJBLF5q52OOjD3rf3KdJUqN9Zc0m+r209ErL8SZv2lRTqbRjyq333fq/wPEv2lP2iPDvwK+G8ni6e4SSa6/d2uCCpdx8rH/Zr8+fgPB8G/HnimP46/H/4iaXfatMTJaadLdq1vbg9jG33SO1fq14u+Evw48e6XDovjDQLbVbG3x5cUyBlXHTArzT/AIZD/Zr/AOif6Z/36FZ4GcqNSpVXxPSL/lj/AJvqzStV5qMaUdF9r+95ei7dT0fwf8WPhb40l/s7wT4lsNWkhAXy7WZXKjsMCvSa8o8E/A34S/Di7e/8D+GLTR7h/vPAm0mvV6ufLZW36nLBNXT26BRRRWZoFFFFABRRRQB578SviBafDfw6/iK+0+51GBDh0tl3Mq4yWPtXyZrXjL9iX4g+HrzXPEn/AAj1vqWoQO0q3XlC8R2H8WeQ1fdd7ZWuo2stjexiaCZSrowyGU9Qa8EvP2UP2dtQupL298CabLPKdzO0QySawdLmcoz2fXqv63N41VFJxvdb9n/wx+dv7IPw71/VZPiT4f0Ce6fwJNxpTSkmJlIbPlY4xn0qb9nDTvgP8MRqPwx+PvhjTNO1KxnkdNQ1SBFS4EjlgFd/vYFfrj4Y8KeHfBmjw6B4XsItO0+2GI4Yl2oo9hXH+Ofgt8LPiVLFP468N2msyQklDOgYjNd9XENVb09Y8qi+bd8u0r99XptZ+SMZv2kZ+00bm5q3S+jXo1+J8K+Itb+E9/8AEbw9oH7PfgjQdbU3KG8v7e1SSKKI9Srp0Iqp+2Ndw+CfHnw/8Ua7stdOhvbWGSQfLFGQ2SST0Ar9AfA/wm+HPw1R4/Aug22jLJwwgQLmr/jX4c+CPiNp66X430eDWLRG3COddyhvWsI/u5UZQ1cJ8+vXRq2myV9Bx5Z+0jWVoyi46fnr1Pgb9r6xk8beFfD3xW+GRj8Qx6TcW7SG1/enylIZiMe1e8aH+1p8G5/AMOpah4ks7TVBb7TYSTKtwJFXAXZ1yTX0V4e8C+EfCminw54e0uGx00rsMEa4Tb0xivLrn9lv9n681I6xc+B9OkvGYOZTEN24HOfzoglGM6EfglJyv9pNpJ+TWgo2fs6k178Vyu2zSd16NfqfGf7KGk+Kb34hePvj/r2kXFpY6yENtbtGVmcQ5GQO+RyK9nj+Nv7KnxWe4m+KFlpul6laSPEYNeWNLj5DjcA3Y9q+17Ows9PtUsbKFYYI12qijAA6YrxvxN+zd8DPGWqya34n8HWGo30vDTSxgsfxrSvV5nCCXuQioxvuuVWv5t9SKafv1JP35Su7bO/T5H5j+EtA0tP2rGn/AGcpmfws1qHuHsj/AKD5m/5lGzjOKX4Un4d2Hx98aR/tN29mjy3szafJrKr5XkZ42F+3pX60eB/hb8PvhravZeBdDttGgkJZlgQKCT1rI8b/AAP+E/xIvI7/AMc+GbPWLiJdqvPGGIHpWGGj7D2Sh73LGUdd/ed7r06G1SSq+15/d5nF+7/d7+vU/MH9uD4xeAZvhlp/gf4NW8GpaOLq382bTQHtbbbICAxXhc9q/Tn4G3cF78L9DuLeRZEaBeVORnaM1X0n9n74M6Fo1z4e0nwnZW2nXjK80CRgI7L0JHtXpui6JpPh3TotJ0S2Szs4eEijGFX6CtqChTjWim25yjK730Vmv8icTN1HSa0UFJW9Wnf101+Rq1taf/qT9axa2tP/ANSfrWZJeooooAKKKKAP/9L9/KztR+4v1rRrO1H7i/WgDIooooAKKKKACiiigAooooAKKKKACiiigAooooAKKKKACiiigAooooAKKKKACiiigAooooAKKKKACiiigAooooAKKKKACiiigAooooAKKKKACiiigAooooAKKKKACiiigAooooAKKKKACiiigAooooAKKKKACiiigAooooAKKKKACiiigAooooAKKKKACiiigAooooAKKKKACiiigAooooAKKKKACiiigAooooAKKKKACiiigAooooAKKKKACiiigAooooAKKKKACiiigAooooAKKKKACiiigAooooAKKKKACiiigAooooAKKKKACiiigAooooAKKKKACiiigAooooAKKKKACiiigAooooAKKKKACiiigAooooAKKKKACiiigAra0/8A1J+tYtbWn/6k/WgC9RRRQAUUUUAf/9P9/KilhSYAP2qWigCn9hg9DR9hg9DVyigCn9hg9DR9hg9DVyigCn9hg9DR9hg9DVyigCn9hg9DR9hg9DVyigCn9hg9DR9hg9DVyigCn9hg9DR9hg9DVyigCn9hg9DR9hg9DVyigCn9hg9DR9hg9DVyigCn9hg9DR9hg9DVyigCn9hg9DR9hg9DVyigCn9hg9DR9hg9DVyigCn9hg9DR9hg9DVyigCn9hg9DR9hg9DVyigCn9hg9DR9hg9DVyigCn9hg9DR9hg9DVyigCn9hg9DR9hg9DVyigCn9hg9DR9hg9DVyigCn9hg9DR9hg9DVyigCn9hg9DR9hg9DVyigCn9hg9DR9hg9DVyigCn9hg9DR9hg9DVyigCn9hg9DR9hg9DVyigCn9hg9DR9hg9DVyigCn9hg9DR9hg9DVyigCn9hg9DR9hg9DVyigCn9hg9DR9hg9DVyigCn9hg9DR9hg9DVyigCn9hg9DR9hg9DVyigCn9hg9DR9hg9DVyigCn9hg9DR9hg9DVyigCn9hg9DR9hg9DVyigCn9hg9DR9hg9DVyigCn9hg9DR9hg9DVyigCn9hg9DR9hg9DVyigCn9hg9DR9hg9DVyigCn9hg9DR9hg9DVyigCn9hg9DR9hg9DVyigCn9hg9DR9hg9DVyigCn9hg9DR9hg9DVyigCn9hg9DR9hg9DVyigCn9hg9DR9hg9DVyigCn9hg9DR9hg9DVyigCn9hg9DR9hg9DVyigCn9hg9DR9hg9DVyigCn9hg9DR9hg9DVyigCn9hg9DR9hg9DVyigCn9hg9DR9hg9DVyigCn9hg9DR9hg9DVyigCn9hg9DR9hg9DVyigCn9hg9DR9hg9DVyigCn9hg9DR9hg9DVyigCn9hg9DR9hg9DVyigCn9hg9DR9hg9DVyigCn9hg9DR9hg9DVyigCn9hg9DR9hg9DVyigCn9hg9DR9hg9DVyigCn9hg9DR9hg9DVyigCn9hg9DR9hg9DVyigCn9hg9DR9hg9DVyigCn9hg9DR9hg9DVyigCn9hg9DR9hg9DVyigCn9hg9DR9hg9DVyigCn9hg9DR9hg9DVyigCn9hg9DR9hg9DVyigCn9hg9DR9hg9DVyigCn9hg9DR9hg9DVyigCn9hg9DR9hg9DVyigCn9hg9DR9hg9DVyigCn9hg9DR9hg9DVyigCn9hg9DR9hg9DVyigCn9hg9DR9hg9DVyigCn9hg9DR9hg9DVyigCn9hg9DViKJYV2p0qSigAooooAKKKKAP/Z)"
      ],
      "metadata": {
        "id": "1NHkvZqx6W9x"
      }
    },
    {
      "cell_type": "code",
      "source": [
        "## Let us first prepare our dataframe from the above table's image\n",
        "\n",
        "sepal_length = pd.Series([5.1, 4.9, 4.7, 4.6, 5.0])  #pandas series\n",
        "sepal_width = pd.Series([3.5, 3.0, 3.2, 3.1, 3.6])  #pandas series\n",
        "\n",
        "#pandas concat function can combine multiple series into single frame\n",
        "df = pd.concat({'sepal_length': sepal_length, 'sepal_width': sepal_width}, axis=1)\n",
        "df.head()"
      ],
      "metadata": {
        "id": "d7d-Rd7v7onX",
        "colab": {
          "base_uri": "https://localhost:8080/",
          "height": 206
        },
        "outputId": "c5cacdef-c68b-440c-a1aa-8cb74801c955"
      },
      "execution_count": null,
      "outputs": [
        {
          "output_type": "execute_result",
          "data": {
            "text/plain": [
              "   sepal_length  sepal_width\n",
              "0           5.1          3.5\n",
              "1           4.9          3.0\n",
              "2           4.7          3.2\n",
              "3           4.6          3.1\n",
              "4           5.0          3.6"
            ],
            "text/html": [
              "\n",
              "\n",
              "  <div id=\"df-b77666f2-a88c-449b-bba6-ed56ed4a86b9\">\n",
              "    <div class=\"colab-df-container\">\n",
              "      <div>\n",
              "<style scoped>\n",
              "    .dataframe tbody tr th:only-of-type {\n",
              "        vertical-align: middle;\n",
              "    }\n",
              "\n",
              "    .dataframe tbody tr th {\n",
              "        vertical-align: top;\n",
              "    }\n",
              "\n",
              "    .dataframe thead th {\n",
              "        text-align: right;\n",
              "    }\n",
              "</style>\n",
              "<table border=\"1\" class=\"dataframe\">\n",
              "  <thead>\n",
              "    <tr style=\"text-align: right;\">\n",
              "      <th></th>\n",
              "      <th>sepal_length</th>\n",
              "      <th>sepal_width</th>\n",
              "    </tr>\n",
              "  </thead>\n",
              "  <tbody>\n",
              "    <tr>\n",
              "      <th>0</th>\n",
              "      <td>5.1</td>\n",
              "      <td>3.5</td>\n",
              "    </tr>\n",
              "    <tr>\n",
              "      <th>1</th>\n",
              "      <td>4.9</td>\n",
              "      <td>3.0</td>\n",
              "    </tr>\n",
              "    <tr>\n",
              "      <th>2</th>\n",
              "      <td>4.7</td>\n",
              "      <td>3.2</td>\n",
              "    </tr>\n",
              "    <tr>\n",
              "      <th>3</th>\n",
              "      <td>4.6</td>\n",
              "      <td>3.1</td>\n",
              "    </tr>\n",
              "    <tr>\n",
              "      <th>4</th>\n",
              "      <td>5.0</td>\n",
              "      <td>3.6</td>\n",
              "    </tr>\n",
              "  </tbody>\n",
              "</table>\n",
              "</div>\n",
              "      <button class=\"colab-df-convert\" onclick=\"convertToInteractive('df-b77666f2-a88c-449b-bba6-ed56ed4a86b9')\"\n",
              "              title=\"Convert this dataframe to an interactive table.\"\n",
              "              style=\"display:none;\">\n",
              "\n",
              "  <svg xmlns=\"http://www.w3.org/2000/svg\" height=\"24px\"viewBox=\"0 0 24 24\"\n",
              "       width=\"24px\">\n",
              "    <path d=\"M0 0h24v24H0V0z\" fill=\"none\"/>\n",
              "    <path d=\"M18.56 5.44l.94 2.06.94-2.06 2.06-.94-2.06-.94-.94-2.06-.94 2.06-2.06.94zm-11 1L8.5 8.5l.94-2.06 2.06-.94-2.06-.94L8.5 2.5l-.94 2.06-2.06.94zm10 10l.94 2.06.94-2.06 2.06-.94-2.06-.94-.94-2.06-.94 2.06-2.06.94z\"/><path d=\"M17.41 7.96l-1.37-1.37c-.4-.4-.92-.59-1.43-.59-.52 0-1.04.2-1.43.59L10.3 9.45l-7.72 7.72c-.78.78-.78 2.05 0 2.83L4 21.41c.39.39.9.59 1.41.59.51 0 1.02-.2 1.41-.59l7.78-7.78 2.81-2.81c.8-.78.8-2.07 0-2.86zM5.41 20L4 18.59l7.72-7.72 1.47 1.35L5.41 20z\"/>\n",
              "  </svg>\n",
              "      </button>\n",
              "\n",
              "\n",
              "\n",
              "    <div id=\"df-e07e39d4-bf79-4424-bb37-0d892961c5c3\">\n",
              "      <button class=\"colab-df-quickchart\" onclick=\"quickchart('df-e07e39d4-bf79-4424-bb37-0d892961c5c3')\"\n",
              "              title=\"Suggest charts.\"\n",
              "              style=\"display:none;\">\n",
              "\n",
              "<svg xmlns=\"http://www.w3.org/2000/svg\" height=\"24px\"viewBox=\"0 0 24 24\"\n",
              "     width=\"24px\">\n",
              "    <g>\n",
              "        <path d=\"M19 3H5c-1.1 0-2 .9-2 2v14c0 1.1.9 2 2 2h14c1.1 0 2-.9 2-2V5c0-1.1-.9-2-2-2zM9 17H7v-7h2v7zm4 0h-2V7h2v10zm4 0h-2v-4h2v4z\"/>\n",
              "    </g>\n",
              "</svg>\n",
              "      </button>\n",
              "    </div>\n",
              "\n",
              "<style>\n",
              "  .colab-df-quickchart {\n",
              "    background-color: #E8F0FE;\n",
              "    border: none;\n",
              "    border-radius: 50%;\n",
              "    cursor: pointer;\n",
              "    display: none;\n",
              "    fill: #1967D2;\n",
              "    height: 32px;\n",
              "    padding: 0 0 0 0;\n",
              "    width: 32px;\n",
              "  }\n",
              "\n",
              "  .colab-df-quickchart:hover {\n",
              "    background-color: #E2EBFA;\n",
              "    box-shadow: 0px 1px 2px rgba(60, 64, 67, 0.3), 0px 1px 3px 1px rgba(60, 64, 67, 0.15);\n",
              "    fill: #174EA6;\n",
              "  }\n",
              "\n",
              "  [theme=dark] .colab-df-quickchart {\n",
              "    background-color: #3B4455;\n",
              "    fill: #D2E3FC;\n",
              "  }\n",
              "\n",
              "  [theme=dark] .colab-df-quickchart:hover {\n",
              "    background-color: #434B5C;\n",
              "    box-shadow: 0px 1px 3px 1px rgba(0, 0, 0, 0.15);\n",
              "    filter: drop-shadow(0px 1px 2px rgba(0, 0, 0, 0.3));\n",
              "    fill: #FFFFFF;\n",
              "  }\n",
              "</style>\n",
              "\n",
              "    <script>\n",
              "      async function quickchart(key) {\n",
              "        const containerElement = document.querySelector('#' + key);\n",
              "        const charts = await google.colab.kernel.invokeFunction(\n",
              "            'suggestCharts', [key], {});\n",
              "      }\n",
              "    </script>\n",
              "\n",
              "\n",
              "      <script>\n",
              "\n",
              "function displayQuickchartButton(domScope) {\n",
              "  let quickchartButtonEl =\n",
              "    domScope.querySelector('#df-e07e39d4-bf79-4424-bb37-0d892961c5c3 button.colab-df-quickchart');\n",
              "  quickchartButtonEl.style.display =\n",
              "    google.colab.kernel.accessAllowed ? 'block' : 'none';\n",
              "}\n",
              "\n",
              "        displayQuickchartButton(document);\n",
              "      </script>\n",
              "      <style>\n",
              "    .colab-df-container {\n",
              "      display:flex;\n",
              "      flex-wrap:wrap;\n",
              "      gap: 12px;\n",
              "    }\n",
              "\n",
              "    .colab-df-convert {\n",
              "      background-color: #E8F0FE;\n",
              "      border: none;\n",
              "      border-radius: 50%;\n",
              "      cursor: pointer;\n",
              "      display: none;\n",
              "      fill: #1967D2;\n",
              "      height: 32px;\n",
              "      padding: 0 0 0 0;\n",
              "      width: 32px;\n",
              "    }\n",
              "\n",
              "    .colab-df-convert:hover {\n",
              "      background-color: #E2EBFA;\n",
              "      box-shadow: 0px 1px 2px rgba(60, 64, 67, 0.3), 0px 1px 3px 1px rgba(60, 64, 67, 0.15);\n",
              "      fill: #174EA6;\n",
              "    }\n",
              "\n",
              "    [theme=dark] .colab-df-convert {\n",
              "      background-color: #3B4455;\n",
              "      fill: #D2E3FC;\n",
              "    }\n",
              "\n",
              "    [theme=dark] .colab-df-convert:hover {\n",
              "      background-color: #434B5C;\n",
              "      box-shadow: 0px 1px 3px 1px rgba(0, 0, 0, 0.15);\n",
              "      filter: drop-shadow(0px 1px 2px rgba(0, 0, 0, 0.3));\n",
              "      fill: #FFFFFF;\n",
              "    }\n",
              "  </style>\n",
              "\n",
              "      <script>\n",
              "        const buttonEl =\n",
              "          document.querySelector('#df-b77666f2-a88c-449b-bba6-ed56ed4a86b9 button.colab-df-convert');\n",
              "        buttonEl.style.display =\n",
              "          google.colab.kernel.accessAllowed ? 'block' : 'none';\n",
              "\n",
              "        async function convertToInteractive(key) {\n",
              "          const element = document.querySelector('#df-b77666f2-a88c-449b-bba6-ed56ed4a86b9');\n",
              "          const dataTable =\n",
              "            await google.colab.kernel.invokeFunction('convertToInteractive',\n",
              "                                                     [key], {});\n",
              "          if (!dataTable) return;\n",
              "\n",
              "          const docLinkHtml = 'Like what you see? Visit the ' +\n",
              "            '<a target=\"_blank\" href=https://colab.research.google.com/notebooks/data_table.ipynb>data table notebook</a>'\n",
              "            + ' to learn more about interactive tables.';\n",
              "          element.innerHTML = '';\n",
              "          dataTable['output_type'] = 'display_data';\n",
              "          await google.colab.output.renderOutput(dataTable, element);\n",
              "          const docLink = document.createElement('div');\n",
              "          docLink.innerHTML = docLinkHtml;\n",
              "          element.appendChild(docLink);\n",
              "        }\n",
              "      </script>\n",
              "    </div>\n",
              "  </div>\n"
            ]
          },
          "metadata": {},
          "execution_count": 17
        }
      ]
    },
    {
      "cell_type": "markdown",
      "source": [
        "a. Covariance between sepal_length and sepal_width"
      ],
      "metadata": {
        "id": "Dz4ZtSPI6yXq"
      }
    },
    {
      "cell_type": "code",
      "source": [
        "df.cov()"
      ],
      "metadata": {
        "id": "v-844Ifl7hTZ",
        "colab": {
          "base_uri": "https://localhost:8080/",
          "height": 112
        },
        "outputId": "c31b1d26-6460-4560-880a-131caf929e88"
      },
      "execution_count": null,
      "outputs": [
        {
          "output_type": "execute_result",
          "data": {
            "text/plain": [
              "              sepal_length  sepal_width\n",
              "sepal_length        0.0430       0.0365\n",
              "sepal_width         0.0365       0.0670"
            ],
            "text/html": [
              "\n",
              "\n",
              "  <div id=\"df-ccf0502d-ca7d-4399-8268-99b07fadb246\">\n",
              "    <div class=\"colab-df-container\">\n",
              "      <div>\n",
              "<style scoped>\n",
              "    .dataframe tbody tr th:only-of-type {\n",
              "        vertical-align: middle;\n",
              "    }\n",
              "\n",
              "    .dataframe tbody tr th {\n",
              "        vertical-align: top;\n",
              "    }\n",
              "\n",
              "    .dataframe thead th {\n",
              "        text-align: right;\n",
              "    }\n",
              "</style>\n",
              "<table border=\"1\" class=\"dataframe\">\n",
              "  <thead>\n",
              "    <tr style=\"text-align: right;\">\n",
              "      <th></th>\n",
              "      <th>sepal_length</th>\n",
              "      <th>sepal_width</th>\n",
              "    </tr>\n",
              "  </thead>\n",
              "  <tbody>\n",
              "    <tr>\n",
              "      <th>sepal_length</th>\n",
              "      <td>0.0430</td>\n",
              "      <td>0.0365</td>\n",
              "    </tr>\n",
              "    <tr>\n",
              "      <th>sepal_width</th>\n",
              "      <td>0.0365</td>\n",
              "      <td>0.0670</td>\n",
              "    </tr>\n",
              "  </tbody>\n",
              "</table>\n",
              "</div>\n",
              "      <button class=\"colab-df-convert\" onclick=\"convertToInteractive('df-ccf0502d-ca7d-4399-8268-99b07fadb246')\"\n",
              "              title=\"Convert this dataframe to an interactive table.\"\n",
              "              style=\"display:none;\">\n",
              "\n",
              "  <svg xmlns=\"http://www.w3.org/2000/svg\" height=\"24px\"viewBox=\"0 0 24 24\"\n",
              "       width=\"24px\">\n",
              "    <path d=\"M0 0h24v24H0V0z\" fill=\"none\"/>\n",
              "    <path d=\"M18.56 5.44l.94 2.06.94-2.06 2.06-.94-2.06-.94-.94-2.06-.94 2.06-2.06.94zm-11 1L8.5 8.5l.94-2.06 2.06-.94-2.06-.94L8.5 2.5l-.94 2.06-2.06.94zm10 10l.94 2.06.94-2.06 2.06-.94-2.06-.94-.94-2.06-.94 2.06-2.06.94z\"/><path d=\"M17.41 7.96l-1.37-1.37c-.4-.4-.92-.59-1.43-.59-.52 0-1.04.2-1.43.59L10.3 9.45l-7.72 7.72c-.78.78-.78 2.05 0 2.83L4 21.41c.39.39.9.59 1.41.59.51 0 1.02-.2 1.41-.59l7.78-7.78 2.81-2.81c.8-.78.8-2.07 0-2.86zM5.41 20L4 18.59l7.72-7.72 1.47 1.35L5.41 20z\"/>\n",
              "  </svg>\n",
              "      </button>\n",
              "\n",
              "\n",
              "\n",
              "    <div id=\"df-a943faa7-e742-4eb8-ae4f-1d4328b65cd3\">\n",
              "      <button class=\"colab-df-quickchart\" onclick=\"quickchart('df-a943faa7-e742-4eb8-ae4f-1d4328b65cd3')\"\n",
              "              title=\"Suggest charts.\"\n",
              "              style=\"display:none;\">\n",
              "\n",
              "<svg xmlns=\"http://www.w3.org/2000/svg\" height=\"24px\"viewBox=\"0 0 24 24\"\n",
              "     width=\"24px\">\n",
              "    <g>\n",
              "        <path d=\"M19 3H5c-1.1 0-2 .9-2 2v14c0 1.1.9 2 2 2h14c1.1 0 2-.9 2-2V5c0-1.1-.9-2-2-2zM9 17H7v-7h2v7zm4 0h-2V7h2v10zm4 0h-2v-4h2v4z\"/>\n",
              "    </g>\n",
              "</svg>\n",
              "      </button>\n",
              "    </div>\n",
              "\n",
              "<style>\n",
              "  .colab-df-quickchart {\n",
              "    background-color: #E8F0FE;\n",
              "    border: none;\n",
              "    border-radius: 50%;\n",
              "    cursor: pointer;\n",
              "    display: none;\n",
              "    fill: #1967D2;\n",
              "    height: 32px;\n",
              "    padding: 0 0 0 0;\n",
              "    width: 32px;\n",
              "  }\n",
              "\n",
              "  .colab-df-quickchart:hover {\n",
              "    background-color: #E2EBFA;\n",
              "    box-shadow: 0px 1px 2px rgba(60, 64, 67, 0.3), 0px 1px 3px 1px rgba(60, 64, 67, 0.15);\n",
              "    fill: #174EA6;\n",
              "  }\n",
              "\n",
              "  [theme=dark] .colab-df-quickchart {\n",
              "    background-color: #3B4455;\n",
              "    fill: #D2E3FC;\n",
              "  }\n",
              "\n",
              "  [theme=dark] .colab-df-quickchart:hover {\n",
              "    background-color: #434B5C;\n",
              "    box-shadow: 0px 1px 3px 1px rgba(0, 0, 0, 0.15);\n",
              "    filter: drop-shadow(0px 1px 2px rgba(0, 0, 0, 0.3));\n",
              "    fill: #FFFFFF;\n",
              "  }\n",
              "</style>\n",
              "\n",
              "    <script>\n",
              "      async function quickchart(key) {\n",
              "        const containerElement = document.querySelector('#' + key);\n",
              "        const charts = await google.colab.kernel.invokeFunction(\n",
              "            'suggestCharts', [key], {});\n",
              "      }\n",
              "    </script>\n",
              "\n",
              "\n",
              "      <script>\n",
              "\n",
              "function displayQuickchartButton(domScope) {\n",
              "  let quickchartButtonEl =\n",
              "    domScope.querySelector('#df-a943faa7-e742-4eb8-ae4f-1d4328b65cd3 button.colab-df-quickchart');\n",
              "  quickchartButtonEl.style.display =\n",
              "    google.colab.kernel.accessAllowed ? 'block' : 'none';\n",
              "}\n",
              "\n",
              "        displayQuickchartButton(document);\n",
              "      </script>\n",
              "      <style>\n",
              "    .colab-df-container {\n",
              "      display:flex;\n",
              "      flex-wrap:wrap;\n",
              "      gap: 12px;\n",
              "    }\n",
              "\n",
              "    .colab-df-convert {\n",
              "      background-color: #E8F0FE;\n",
              "      border: none;\n",
              "      border-radius: 50%;\n",
              "      cursor: pointer;\n",
              "      display: none;\n",
              "      fill: #1967D2;\n",
              "      height: 32px;\n",
              "      padding: 0 0 0 0;\n",
              "      width: 32px;\n",
              "    }\n",
              "\n",
              "    .colab-df-convert:hover {\n",
              "      background-color: #E2EBFA;\n",
              "      box-shadow: 0px 1px 2px rgba(60, 64, 67, 0.3), 0px 1px 3px 1px rgba(60, 64, 67, 0.15);\n",
              "      fill: #174EA6;\n",
              "    }\n",
              "\n",
              "    [theme=dark] .colab-df-convert {\n",
              "      background-color: #3B4455;\n",
              "      fill: #D2E3FC;\n",
              "    }\n",
              "\n",
              "    [theme=dark] .colab-df-convert:hover {\n",
              "      background-color: #434B5C;\n",
              "      box-shadow: 0px 1px 3px 1px rgba(0, 0, 0, 0.15);\n",
              "      filter: drop-shadow(0px 1px 2px rgba(0, 0, 0, 0.3));\n",
              "      fill: #FFFFFF;\n",
              "    }\n",
              "  </style>\n",
              "\n",
              "      <script>\n",
              "        const buttonEl =\n",
              "          document.querySelector('#df-ccf0502d-ca7d-4399-8268-99b07fadb246 button.colab-df-convert');\n",
              "        buttonEl.style.display =\n",
              "          google.colab.kernel.accessAllowed ? 'block' : 'none';\n",
              "\n",
              "        async function convertToInteractive(key) {\n",
              "          const element = document.querySelector('#df-ccf0502d-ca7d-4399-8268-99b07fadb246');\n",
              "          const dataTable =\n",
              "            await google.colab.kernel.invokeFunction('convertToInteractive',\n",
              "                                                     [key], {});\n",
              "          if (!dataTable) return;\n",
              "\n",
              "          const docLinkHtml = 'Like what you see? Visit the ' +\n",
              "            '<a target=\"_blank\" href=https://colab.research.google.com/notebooks/data_table.ipynb>data table notebook</a>'\n",
              "            + ' to learn more about interactive tables.';\n",
              "          element.innerHTML = '';\n",
              "          dataTable['output_type'] = 'display_data';\n",
              "          await google.colab.output.renderOutput(dataTable, element);\n",
              "          const docLink = document.createElement('div');\n",
              "          docLink.innerHTML = docLinkHtml;\n",
              "          element.appendChild(docLink);\n",
              "        }\n",
              "      </script>\n",
              "    </div>\n",
              "  </div>\n"
            ]
          },
          "metadata": {},
          "execution_count": 18
        }
      ]
    },
    {
      "cell_type": "markdown",
      "source": [
        "b. Pearson Correlation between sepal_length and sepal_width"
      ],
      "metadata": {
        "id": "eU6UPLaq63nF"
      }
    },
    {
      "cell_type": "code",
      "source": [
        "df.corr(method='pearson')"
      ],
      "metadata": {
        "id": "lk93yip47iEf",
        "colab": {
          "base_uri": "https://localhost:8080/",
          "height": 112
        },
        "outputId": "bace0843-ec00-4176-b516-0a0b1b57b6ac"
      },
      "execution_count": null,
      "outputs": [
        {
          "output_type": "execute_result",
          "data": {
            "text/plain": [
              "              sepal_length  sepal_width\n",
              "sepal_length      1.000000     0.680019\n",
              "sepal_width       0.680019     1.000000"
            ],
            "text/html": [
              "\n",
              "\n",
              "  <div id=\"df-58eaecef-1353-46fd-b02a-6ff0ff9d6ed3\">\n",
              "    <div class=\"colab-df-container\">\n",
              "      <div>\n",
              "<style scoped>\n",
              "    .dataframe tbody tr th:only-of-type {\n",
              "        vertical-align: middle;\n",
              "    }\n",
              "\n",
              "    .dataframe tbody tr th {\n",
              "        vertical-align: top;\n",
              "    }\n",
              "\n",
              "    .dataframe thead th {\n",
              "        text-align: right;\n",
              "    }\n",
              "</style>\n",
              "<table border=\"1\" class=\"dataframe\">\n",
              "  <thead>\n",
              "    <tr style=\"text-align: right;\">\n",
              "      <th></th>\n",
              "      <th>sepal_length</th>\n",
              "      <th>sepal_width</th>\n",
              "    </tr>\n",
              "  </thead>\n",
              "  <tbody>\n",
              "    <tr>\n",
              "      <th>sepal_length</th>\n",
              "      <td>1.000000</td>\n",
              "      <td>0.680019</td>\n",
              "    </tr>\n",
              "    <tr>\n",
              "      <th>sepal_width</th>\n",
              "      <td>0.680019</td>\n",
              "      <td>1.000000</td>\n",
              "    </tr>\n",
              "  </tbody>\n",
              "</table>\n",
              "</div>\n",
              "      <button class=\"colab-df-convert\" onclick=\"convertToInteractive('df-58eaecef-1353-46fd-b02a-6ff0ff9d6ed3')\"\n",
              "              title=\"Convert this dataframe to an interactive table.\"\n",
              "              style=\"display:none;\">\n",
              "\n",
              "  <svg xmlns=\"http://www.w3.org/2000/svg\" height=\"24px\"viewBox=\"0 0 24 24\"\n",
              "       width=\"24px\">\n",
              "    <path d=\"M0 0h24v24H0V0z\" fill=\"none\"/>\n",
              "    <path d=\"M18.56 5.44l.94 2.06.94-2.06 2.06-.94-2.06-.94-.94-2.06-.94 2.06-2.06.94zm-11 1L8.5 8.5l.94-2.06 2.06-.94-2.06-.94L8.5 2.5l-.94 2.06-2.06.94zm10 10l.94 2.06.94-2.06 2.06-.94-2.06-.94-.94-2.06-.94 2.06-2.06.94z\"/><path d=\"M17.41 7.96l-1.37-1.37c-.4-.4-.92-.59-1.43-.59-.52 0-1.04.2-1.43.59L10.3 9.45l-7.72 7.72c-.78.78-.78 2.05 0 2.83L4 21.41c.39.39.9.59 1.41.59.51 0 1.02-.2 1.41-.59l7.78-7.78 2.81-2.81c.8-.78.8-2.07 0-2.86zM5.41 20L4 18.59l7.72-7.72 1.47 1.35L5.41 20z\"/>\n",
              "  </svg>\n",
              "      </button>\n",
              "\n",
              "\n",
              "\n",
              "    <div id=\"df-ca2de14f-5908-4bfb-979e-f0f68ae54255\">\n",
              "      <button class=\"colab-df-quickchart\" onclick=\"quickchart('df-ca2de14f-5908-4bfb-979e-f0f68ae54255')\"\n",
              "              title=\"Suggest charts.\"\n",
              "              style=\"display:none;\">\n",
              "\n",
              "<svg xmlns=\"http://www.w3.org/2000/svg\" height=\"24px\"viewBox=\"0 0 24 24\"\n",
              "     width=\"24px\">\n",
              "    <g>\n",
              "        <path d=\"M19 3H5c-1.1 0-2 .9-2 2v14c0 1.1.9 2 2 2h14c1.1 0 2-.9 2-2V5c0-1.1-.9-2-2-2zM9 17H7v-7h2v7zm4 0h-2V7h2v10zm4 0h-2v-4h2v4z\"/>\n",
              "    </g>\n",
              "</svg>\n",
              "      </button>\n",
              "    </div>\n",
              "\n",
              "<style>\n",
              "  .colab-df-quickchart {\n",
              "    background-color: #E8F0FE;\n",
              "    border: none;\n",
              "    border-radius: 50%;\n",
              "    cursor: pointer;\n",
              "    display: none;\n",
              "    fill: #1967D2;\n",
              "    height: 32px;\n",
              "    padding: 0 0 0 0;\n",
              "    width: 32px;\n",
              "  }\n",
              "\n",
              "  .colab-df-quickchart:hover {\n",
              "    background-color: #E2EBFA;\n",
              "    box-shadow: 0px 1px 2px rgba(60, 64, 67, 0.3), 0px 1px 3px 1px rgba(60, 64, 67, 0.15);\n",
              "    fill: #174EA6;\n",
              "  }\n",
              "\n",
              "  [theme=dark] .colab-df-quickchart {\n",
              "    background-color: #3B4455;\n",
              "    fill: #D2E3FC;\n",
              "  }\n",
              "\n",
              "  [theme=dark] .colab-df-quickchart:hover {\n",
              "    background-color: #434B5C;\n",
              "    box-shadow: 0px 1px 3px 1px rgba(0, 0, 0, 0.15);\n",
              "    filter: drop-shadow(0px 1px 2px rgba(0, 0, 0, 0.3));\n",
              "    fill: #FFFFFF;\n",
              "  }\n",
              "</style>\n",
              "\n",
              "    <script>\n",
              "      async function quickchart(key) {\n",
              "        const containerElement = document.querySelector('#' + key);\n",
              "        const charts = await google.colab.kernel.invokeFunction(\n",
              "            'suggestCharts', [key], {});\n",
              "      }\n",
              "    </script>\n",
              "\n",
              "\n",
              "      <script>\n",
              "\n",
              "function displayQuickchartButton(domScope) {\n",
              "  let quickchartButtonEl =\n",
              "    domScope.querySelector('#df-ca2de14f-5908-4bfb-979e-f0f68ae54255 button.colab-df-quickchart');\n",
              "  quickchartButtonEl.style.display =\n",
              "    google.colab.kernel.accessAllowed ? 'block' : 'none';\n",
              "}\n",
              "\n",
              "        displayQuickchartButton(document);\n",
              "      </script>\n",
              "      <style>\n",
              "    .colab-df-container {\n",
              "      display:flex;\n",
              "      flex-wrap:wrap;\n",
              "      gap: 12px;\n",
              "    }\n",
              "\n",
              "    .colab-df-convert {\n",
              "      background-color: #E8F0FE;\n",
              "      border: none;\n",
              "      border-radius: 50%;\n",
              "      cursor: pointer;\n",
              "      display: none;\n",
              "      fill: #1967D2;\n",
              "      height: 32px;\n",
              "      padding: 0 0 0 0;\n",
              "      width: 32px;\n",
              "    }\n",
              "\n",
              "    .colab-df-convert:hover {\n",
              "      background-color: #E2EBFA;\n",
              "      box-shadow: 0px 1px 2px rgba(60, 64, 67, 0.3), 0px 1px 3px 1px rgba(60, 64, 67, 0.15);\n",
              "      fill: #174EA6;\n",
              "    }\n",
              "\n",
              "    [theme=dark] .colab-df-convert {\n",
              "      background-color: #3B4455;\n",
              "      fill: #D2E3FC;\n",
              "    }\n",
              "\n",
              "    [theme=dark] .colab-df-convert:hover {\n",
              "      background-color: #434B5C;\n",
              "      box-shadow: 0px 1px 3px 1px rgba(0, 0, 0, 0.15);\n",
              "      filter: drop-shadow(0px 1px 2px rgba(0, 0, 0, 0.3));\n",
              "      fill: #FFFFFF;\n",
              "    }\n",
              "  </style>\n",
              "\n",
              "      <script>\n",
              "        const buttonEl =\n",
              "          document.querySelector('#df-58eaecef-1353-46fd-b02a-6ff0ff9d6ed3 button.colab-df-convert');\n",
              "        buttonEl.style.display =\n",
              "          google.colab.kernel.accessAllowed ? 'block' : 'none';\n",
              "\n",
              "        async function convertToInteractive(key) {\n",
              "          const element = document.querySelector('#df-58eaecef-1353-46fd-b02a-6ff0ff9d6ed3');\n",
              "          const dataTable =\n",
              "            await google.colab.kernel.invokeFunction('convertToInteractive',\n",
              "                                                     [key], {});\n",
              "          if (!dataTable) return;\n",
              "\n",
              "          const docLinkHtml = 'Like what you see? Visit the ' +\n",
              "            '<a target=\"_blank\" href=https://colab.research.google.com/notebooks/data_table.ipynb>data table notebook</a>'\n",
              "            + ' to learn more about interactive tables.';\n",
              "          element.innerHTML = '';\n",
              "          dataTable['output_type'] = 'display_data';\n",
              "          await google.colab.output.renderOutput(dataTable, element);\n",
              "          const docLink = document.createElement('div');\n",
              "          docLink.innerHTML = docLinkHtml;\n",
              "          element.appendChild(docLink);\n",
              "        }\n",
              "      </script>\n",
              "    </div>\n",
              "  </div>\n"
            ]
          },
          "metadata": {},
          "execution_count": 19
        }
      ]
    },
    {
      "cell_type": "markdown",
      "source": [
        "c. Spearman Correlation between sepal_length and sepal_width"
      ],
      "metadata": {
        "id": "KRdYc94v63qi"
      }
    },
    {
      "cell_type": "code",
      "source": [
        "df.corr(method='spearman')"
      ],
      "metadata": {
        "id": "RRxpjk3L7ije",
        "colab": {
          "base_uri": "https://localhost:8080/",
          "height": 112
        },
        "outputId": "9c601c40-3439-483c-dccc-a1e3997581b8"
      },
      "execution_count": null,
      "outputs": [
        {
          "output_type": "execute_result",
          "data": {
            "text/plain": [
              "              sepal_length  sepal_width\n",
              "sepal_length           1.0          0.6\n",
              "sepal_width            0.6          1.0"
            ],
            "text/html": [
              "\n",
              "\n",
              "  <div id=\"df-499bf1cd-b5d6-4eb0-8a24-0e9e27a7bb5f\">\n",
              "    <div class=\"colab-df-container\">\n",
              "      <div>\n",
              "<style scoped>\n",
              "    .dataframe tbody tr th:only-of-type {\n",
              "        vertical-align: middle;\n",
              "    }\n",
              "\n",
              "    .dataframe tbody tr th {\n",
              "        vertical-align: top;\n",
              "    }\n",
              "\n",
              "    .dataframe thead th {\n",
              "        text-align: right;\n",
              "    }\n",
              "</style>\n",
              "<table border=\"1\" class=\"dataframe\">\n",
              "  <thead>\n",
              "    <tr style=\"text-align: right;\">\n",
              "      <th></th>\n",
              "      <th>sepal_length</th>\n",
              "      <th>sepal_width</th>\n",
              "    </tr>\n",
              "  </thead>\n",
              "  <tbody>\n",
              "    <tr>\n",
              "      <th>sepal_length</th>\n",
              "      <td>1.0</td>\n",
              "      <td>0.6</td>\n",
              "    </tr>\n",
              "    <tr>\n",
              "      <th>sepal_width</th>\n",
              "      <td>0.6</td>\n",
              "      <td>1.0</td>\n",
              "    </tr>\n",
              "  </tbody>\n",
              "</table>\n",
              "</div>\n",
              "      <button class=\"colab-df-convert\" onclick=\"convertToInteractive('df-499bf1cd-b5d6-4eb0-8a24-0e9e27a7bb5f')\"\n",
              "              title=\"Convert this dataframe to an interactive table.\"\n",
              "              style=\"display:none;\">\n",
              "\n",
              "  <svg xmlns=\"http://www.w3.org/2000/svg\" height=\"24px\"viewBox=\"0 0 24 24\"\n",
              "       width=\"24px\">\n",
              "    <path d=\"M0 0h24v24H0V0z\" fill=\"none\"/>\n",
              "    <path d=\"M18.56 5.44l.94 2.06.94-2.06 2.06-.94-2.06-.94-.94-2.06-.94 2.06-2.06.94zm-11 1L8.5 8.5l.94-2.06 2.06-.94-2.06-.94L8.5 2.5l-.94 2.06-2.06.94zm10 10l.94 2.06.94-2.06 2.06-.94-2.06-.94-.94-2.06-.94 2.06-2.06.94z\"/><path d=\"M17.41 7.96l-1.37-1.37c-.4-.4-.92-.59-1.43-.59-.52 0-1.04.2-1.43.59L10.3 9.45l-7.72 7.72c-.78.78-.78 2.05 0 2.83L4 21.41c.39.39.9.59 1.41.59.51 0 1.02-.2 1.41-.59l7.78-7.78 2.81-2.81c.8-.78.8-2.07 0-2.86zM5.41 20L4 18.59l7.72-7.72 1.47 1.35L5.41 20z\"/>\n",
              "  </svg>\n",
              "      </button>\n",
              "\n",
              "\n",
              "\n",
              "    <div id=\"df-55a1cff9-7b61-4c18-87df-bd16bd234a0e\">\n",
              "      <button class=\"colab-df-quickchart\" onclick=\"quickchart('df-55a1cff9-7b61-4c18-87df-bd16bd234a0e')\"\n",
              "              title=\"Suggest charts.\"\n",
              "              style=\"display:none;\">\n",
              "\n",
              "<svg xmlns=\"http://www.w3.org/2000/svg\" height=\"24px\"viewBox=\"0 0 24 24\"\n",
              "     width=\"24px\">\n",
              "    <g>\n",
              "        <path d=\"M19 3H5c-1.1 0-2 .9-2 2v14c0 1.1.9 2 2 2h14c1.1 0 2-.9 2-2V5c0-1.1-.9-2-2-2zM9 17H7v-7h2v7zm4 0h-2V7h2v10zm4 0h-2v-4h2v4z\"/>\n",
              "    </g>\n",
              "</svg>\n",
              "      </button>\n",
              "    </div>\n",
              "\n",
              "<style>\n",
              "  .colab-df-quickchart {\n",
              "    background-color: #E8F0FE;\n",
              "    border: none;\n",
              "    border-radius: 50%;\n",
              "    cursor: pointer;\n",
              "    display: none;\n",
              "    fill: #1967D2;\n",
              "    height: 32px;\n",
              "    padding: 0 0 0 0;\n",
              "    width: 32px;\n",
              "  }\n",
              "\n",
              "  .colab-df-quickchart:hover {\n",
              "    background-color: #E2EBFA;\n",
              "    box-shadow: 0px 1px 2px rgba(60, 64, 67, 0.3), 0px 1px 3px 1px rgba(60, 64, 67, 0.15);\n",
              "    fill: #174EA6;\n",
              "  }\n",
              "\n",
              "  [theme=dark] .colab-df-quickchart {\n",
              "    background-color: #3B4455;\n",
              "    fill: #D2E3FC;\n",
              "  }\n",
              "\n",
              "  [theme=dark] .colab-df-quickchart:hover {\n",
              "    background-color: #434B5C;\n",
              "    box-shadow: 0px 1px 3px 1px rgba(0, 0, 0, 0.15);\n",
              "    filter: drop-shadow(0px 1px 2px rgba(0, 0, 0, 0.3));\n",
              "    fill: #FFFFFF;\n",
              "  }\n",
              "</style>\n",
              "\n",
              "    <script>\n",
              "      async function quickchart(key) {\n",
              "        const containerElement = document.querySelector('#' + key);\n",
              "        const charts = await google.colab.kernel.invokeFunction(\n",
              "            'suggestCharts', [key], {});\n",
              "      }\n",
              "    </script>\n",
              "\n",
              "\n",
              "      <script>\n",
              "\n",
              "function displayQuickchartButton(domScope) {\n",
              "  let quickchartButtonEl =\n",
              "    domScope.querySelector('#df-55a1cff9-7b61-4c18-87df-bd16bd234a0e button.colab-df-quickchart');\n",
              "  quickchartButtonEl.style.display =\n",
              "    google.colab.kernel.accessAllowed ? 'block' : 'none';\n",
              "}\n",
              "\n",
              "        displayQuickchartButton(document);\n",
              "      </script>\n",
              "      <style>\n",
              "    .colab-df-container {\n",
              "      display:flex;\n",
              "      flex-wrap:wrap;\n",
              "      gap: 12px;\n",
              "    }\n",
              "\n",
              "    .colab-df-convert {\n",
              "      background-color: #E8F0FE;\n",
              "      border: none;\n",
              "      border-radius: 50%;\n",
              "      cursor: pointer;\n",
              "      display: none;\n",
              "      fill: #1967D2;\n",
              "      height: 32px;\n",
              "      padding: 0 0 0 0;\n",
              "      width: 32px;\n",
              "    }\n",
              "\n",
              "    .colab-df-convert:hover {\n",
              "      background-color: #E2EBFA;\n",
              "      box-shadow: 0px 1px 2px rgba(60, 64, 67, 0.3), 0px 1px 3px 1px rgba(60, 64, 67, 0.15);\n",
              "      fill: #174EA6;\n",
              "    }\n",
              "\n",
              "    [theme=dark] .colab-df-convert {\n",
              "      background-color: #3B4455;\n",
              "      fill: #D2E3FC;\n",
              "    }\n",
              "\n",
              "    [theme=dark] .colab-df-convert:hover {\n",
              "      background-color: #434B5C;\n",
              "      box-shadow: 0px 1px 3px 1px rgba(0, 0, 0, 0.15);\n",
              "      filter: drop-shadow(0px 1px 2px rgba(0, 0, 0, 0.3));\n",
              "      fill: #FFFFFF;\n",
              "    }\n",
              "  </style>\n",
              "\n",
              "      <script>\n",
              "        const buttonEl =\n",
              "          document.querySelector('#df-499bf1cd-b5d6-4eb0-8a24-0e9e27a7bb5f button.colab-df-convert');\n",
              "        buttonEl.style.display =\n",
              "          google.colab.kernel.accessAllowed ? 'block' : 'none';\n",
              "\n",
              "        async function convertToInteractive(key) {\n",
              "          const element = document.querySelector('#df-499bf1cd-b5d6-4eb0-8a24-0e9e27a7bb5f');\n",
              "          const dataTable =\n",
              "            await google.colab.kernel.invokeFunction('convertToInteractive',\n",
              "                                                     [key], {});\n",
              "          if (!dataTable) return;\n",
              "\n",
              "          const docLinkHtml = 'Like what you see? Visit the ' +\n",
              "            '<a target=\"_blank\" href=https://colab.research.google.com/notebooks/data_table.ipynb>data table notebook</a>'\n",
              "            + ' to learn more about interactive tables.';\n",
              "          element.innerHTML = '';\n",
              "          dataTable['output_type'] = 'display_data';\n",
              "          await google.colab.output.renderOutput(dataTable, element);\n",
              "          const docLink = document.createElement('div');\n",
              "          docLink.innerHTML = docLinkHtml;\n",
              "          element.appendChild(docLink);\n",
              "        }\n",
              "      </script>\n",
              "    </div>\n",
              "  </div>\n"
            ]
          },
          "metadata": {},
          "execution_count": 20
        }
      ]
    },
    {
      "cell_type": "markdown",
      "source": [
        "\n",
        "\n",
        "---\n",
        "\n",
        "\n",
        "\n",
        "---\n",
        "\n"
      ],
      "metadata": {
        "id": "RJEueCHM-JtY"
      }
    },
    {
      "cell_type": "markdown",
      "source": [
        "Q4.\n",
        "\n",
        "Generate exponential distribution in Python using scipy library using rate=25 and sample size=100."
      ],
      "metadata": {
        "id": "WpRsndg16-eG"
      }
    },
    {
      "cell_type": "code",
      "source": [
        "import scipy.stats as stats\n",
        "\n",
        "rate = 25  # rate parameter\n",
        "sample_size = 100  # sample size\n",
        "\n",
        "# generate exponential distribution with rate parameter\n",
        "exponential_dist = stats.expon(scale=1/rate)\n",
        "\n",
        "# generate 100 samples from the exponential distribution\n",
        "samples = exponential_dist.rvs(size=sample_size)\n",
        "\n",
        "print(samples)"
      ],
      "metadata": {
        "id": "Arpq2tpY9QS8",
        "colab": {
          "base_uri": "https://localhost:8080/"
        },
        "outputId": "5f5ca6e3-bfea-40a6-ed81-56bce3845c54"
      },
      "execution_count": null,
      "outputs": [
        {
          "output_type": "stream",
          "name": "stdout",
          "text": [
            "[5.15309294e-02 6.19669368e-02 1.45839394e-01 4.93466522e-03\n",
            " 9.43111203e-03 1.32726708e-02 1.10001802e-01 3.80230840e-02\n",
            " 4.93559621e-02 7.24305731e-02 1.08937125e-03 2.69195352e-02\n",
            " 8.03149640e-02 9.68277994e-02 1.23979368e-02 2.71386626e-03\n",
            " 3.15737272e-02 7.04820166e-03 1.90157424e-02 4.54036863e-02\n",
            " 6.82181406e-03 3.46750318e-03 3.97141233e-03 6.38053058e-02\n",
            " 2.43711754e-02 1.71729818e-02 2.48210102e-03 2.75757445e-02\n",
            " 6.65867587e-02 3.86788373e-03 6.96893287e-03 1.53619771e-02\n",
            " 4.46941580e-02 3.08473830e-02 7.14671101e-02 3.36199404e-02\n",
            " 2.27707955e-02 2.45330563e-02 5.27129791e-03 4.93528103e-02\n",
            " 5.80170471e-02 5.52175555e-02 6.91605184e-02 1.12905875e-02\n",
            " 3.53349862e-02 1.44723224e-02 1.15625258e-01 1.55258764e-02\n",
            " 2.19815844e-02 2.64347291e-02 8.12766119e-03 3.38483226e-02\n",
            " 6.53471801e-02 1.12958418e-01 1.44142260e-02 2.21124011e-02\n",
            " 1.24829096e-02 4.87827999e-02 5.41163679e-02 3.77947156e-02\n",
            " 4.85909267e-02 2.50419685e-02 3.70291473e-02 3.69229339e-02\n",
            " 7.59476999e-02 8.27626106e-04 6.25668377e-03 1.28356899e-03\n",
            " 4.44557623e-02 1.35032797e-02 1.35924721e-02 1.40541013e-04\n",
            " 5.90275340e-03 6.28739943e-02 1.11977554e-02 8.56320881e-02\n",
            " 1.72843510e-01 1.01946367e-02 3.15519204e-03 1.48244140e-02\n",
            " 1.85753111e-02 5.97330065e-03 9.06560127e-02 5.83738180e-02\n",
            " 2.16928753e-02 8.28700173e-03 7.08385943e-04 6.18002802e-03\n",
            " 1.88003292e-02 2.09160513e-02 4.39981908e-02 1.09815309e-01\n",
            " 1.07475890e-01 5.04316216e-02 2.92330862e-02 4.07873998e-03\n",
            " 1.16834870e-02 1.69371604e-01 3.55038455e-02 4.70925731e-02]\n"
          ]
        }
      ]
    },
    {
      "cell_type": "markdown",
      "source": [
        "a. Plot a histogram of the the above distribution\n"
      ],
      "metadata": {
        "id": "m7sdpfRC6-jJ"
      }
    },
    {
      "cell_type": "code",
      "source": [
        "sns.histplot(samples)\n",
        "sns.kdeplot(samples)"
      ],
      "metadata": {
        "id": "E2fWbSLN7jQ4",
        "colab": {
          "base_uri": "https://localhost:8080/",
          "height": 447
        },
        "outputId": "c9e150a5-41c5-4559-f4ff-268cee893bbe"
      },
      "execution_count": null,
      "outputs": [
        {
          "output_type": "execute_result",
          "data": {
            "text/plain": [
              "<Axes: ylabel='Count'>"
            ]
          },
          "metadata": {},
          "execution_count": 22
        },
        {
          "output_type": "display_data",
          "data": {
            "text/plain": [
              "<Figure size 640x480 with 1 Axes>"
            ],
            "image/png": "[encoded data removed]"
          },
          "metadata": {}
        }
      ]
    },
    {
      "cell_type": "markdown",
      "source": [
        "b. Calculate probability that x is less than 50 when the mean rate is 25"
      ],
      "metadata": {
        "id": "k94SE75E6-vN"
      }
    },
    {
      "cell_type": "markdown",
      "source": [
        "P(X < x) = 1 - exp(-λx)\n",
        "\n",
        "In this case, the mean rate is 25, so λ = 1/25.\n",
        "\n",
        "We want to find the probability that X is less than 50, so x = 50. Plugging these values into the formula, we get:\n",
        "\n",
        "P(X < 50) = 1 - exp(-50/25)\n",
        "= 1 - exp(-2)\n",
        "≈ 0.8647"
      ],
      "metadata": {
        "id": "mCIzAGrn98eG"
      }
    },
    {
      "cell_type": "markdown",
      "source": [
        "\n",
        "\n",
        "---\n",
        "\n",
        "\n",
        "\n",
        "---\n",
        "\n"
      ],
      "metadata": {
        "id": "gH-8MNbY-Hd5"
      }
    },
    {
      "cell_type": "markdown",
      "source": [
        "Q5.\n",
        "\n",
        "Steve has just learnt about linear regression and MLE and is trying to find out the relationship between them. He uses the following dataset to learn the relation between humidity and temperature"
      ],
      "metadata": {
        "id": "9Z0MPLnn7GUd"
      }
    },
    {
      "cell_type": "markdown",
      "source": [
        "[Dataset](https://www.kaggle.com/datasets/budincsevity/szeged-weather?resource=download)"
      ],
      "metadata": {
        "id": "oDxk2hvg-jYI"
      }
    },
    {
      "cell_type": "markdown",
      "source": [
        "a. Prepare a sample of the dataset and calculate correlation between  humidity and temperature"
      ],
      "metadata": {
        "id": "kZQV4ZDQ7GZT"
      }
    },
    {
      "cell_type": "code",
      "source": [
        "df = pd.read_csv('weatherHistory.csv')[['Humidity', 'Temperature (C)']].sample(n = 1000)\n",
        "df.head()"
      ],
      "metadata": {
        "id": "NUINiPu_7kaP",
        "colab": {
          "base_uri": "https://localhost:8080/",
          "height": 356
        },
        "outputId": "6563256e-ea99-4a7e-844c-fef81396e3ee"
      },
      "execution_count": null,
      "outputs": [
        {
          "output_type": "error",
          "ename": "FileNotFoundError",
          "evalue": "ignored",
          "traceback": [
            "\u001b[0;31m---------------------------------------------------------------------------\u001b[0m",
            "\u001b[0;31mFileNotFoundError\u001b[0m                         Traceback (most recent call last)",
            "\u001b[0;32m<ipython-input-32-ee0d4151296c>\u001b[0m in \u001b[0;36m<cell line: 1>\u001b[0;34m()\u001b[0m\n\u001b[0;32m----> 1\u001b[0;31m \u001b[0mdf\u001b[0m \u001b[0;34m=\u001b[0m \u001b[0mpd\u001b[0m\u001b[0;34m.\u001b[0m\u001b[0mread_csv\u001b[0m\u001b[0;34m(\u001b[0m\u001b[0;34m'weatherHistory.csv'\u001b[0m\u001b[0;34m)\u001b[0m\u001b[0;34m[\u001b[0m\u001b[0;34m[\u001b[0m\u001b[0;34m'Humidity'\u001b[0m\u001b[0;34m,\u001b[0m \u001b[0;34m'Temperature (C)'\u001b[0m\u001b[0;34m]\u001b[0m\u001b[0;34m]\u001b[0m\u001b[0;34m.\u001b[0m\u001b[0msample\u001b[0m\u001b[0;34m(\u001b[0m\u001b[0mn\u001b[0m \u001b[0;34m=\u001b[0m \u001b[0;36m1000\u001b[0m\u001b[0;34m)\u001b[0m\u001b[0;34m\u001b[0m\u001b[0;34m\u001b[0m\u001b[0m\n\u001b[0m\u001b[1;32m      2\u001b[0m \u001b[0mdf\u001b[0m\u001b[0;34m.\u001b[0m\u001b[0mhead\u001b[0m\u001b[0;34m(\u001b[0m\u001b[0;34m)\u001b[0m\u001b[0;34m\u001b[0m\u001b[0;34m\u001b[0m\u001b[0m\n",
            "\u001b[0;32m/usr/local/lib/python3.10/dist-packages/pandas/util/_decorators.py\u001b[0m in \u001b[0;36mwrapper\u001b[0;34m(*args, **kwargs)\u001b[0m\n\u001b[1;32m    209\u001b[0m                 \u001b[0;32melse\u001b[0m\u001b[0;34m:\u001b[0m\u001b[0;34m\u001b[0m\u001b[0;34m\u001b[0m\u001b[0m\n\u001b[1;32m    210\u001b[0m                     \u001b[0mkwargs\u001b[0m\u001b[0;34m[\u001b[0m\u001b[0mnew_arg_name\u001b[0m\u001b[0;34m]\u001b[0m \u001b[0;34m=\u001b[0m \u001b[0mnew_arg_value\u001b[0m\u001b[0;34m\u001b[0m\u001b[0;34m\u001b[0m\u001b[0m\n\u001b[0;32m--> 211\u001b[0;31m             \u001b[0;32mreturn\u001b[0m \u001b[0mfunc\u001b[0m\u001b[0;34m(\u001b[0m\u001b[0;34m*\u001b[0m\u001b[0margs\u001b[0m\u001b[0;34m,\u001b[0m \u001b[0;34m**\u001b[0m\u001b[0mkwargs\u001b[0m\u001b[0;34m)\u001b[0m\u001b[0;34m\u001b[0m\u001b[0;34m\u001b[0m\u001b[0m\n\u001b[0m\u001b[1;32m    212\u001b[0m \u001b[0;34m\u001b[0m\u001b[0m\n\u001b[1;32m    213\u001b[0m         \u001b[0;32mreturn\u001b[0m \u001b[0mcast\u001b[0m\u001b[0;34m(\u001b[0m\u001b[0mF\u001b[0m\u001b[0;34m,\u001b[0m \u001b[0mwrapper\u001b[0m\u001b[0;34m)\u001b[0m\u001b[0;34m\u001b[0m\u001b[0;34m\u001b[0m\u001b[0m\n",
            "\u001b[0;32m/usr/local/lib/python3.10/dist-packages/pandas/util/_decorators.py\u001b[0m in \u001b[0;36mwrapper\u001b[0;34m(*args, **kwargs)\u001b[0m\n\u001b[1;32m    329\u001b[0m                     \u001b[0mstacklevel\u001b[0m\u001b[0;34m=\u001b[0m\u001b[0mfind_stack_level\u001b[0m\u001b[0;34m(\u001b[0m\u001b[0;34m)\u001b[0m\u001b[0;34m,\u001b[0m\u001b[0;34m\u001b[0m\u001b[0;34m\u001b[0m\u001b[0m\n\u001b[1;32m    330\u001b[0m                 )\n\u001b[0;32m--> 331\u001b[0;31m             \u001b[0;32mreturn\u001b[0m \u001b[0mfunc\u001b[0m\u001b[0;34m(\u001b[0m\u001b[0;34m*\u001b[0m\u001b[0margs\u001b[0m\u001b[0;34m,\u001b[0m \u001b[0;34m**\u001b[0m\u001b[0mkwargs\u001b[0m\u001b[0;34m)\u001b[0m\u001b[0;34m\u001b[0m\u001b[0;34m\u001b[0m\u001b[0m\n\u001b[0m\u001b[1;32m    332\u001b[0m \u001b[0;34m\u001b[0m\u001b[0m\n\u001b[1;32m    333\u001b[0m         \u001b[0;31m# error: \"Callable[[VarArg(Any), KwArg(Any)], Any]\" has no\u001b[0m\u001b[0;34m\u001b[0m\u001b[0;34m\u001b[0m\u001b[0m\n",
            "\u001b[0;32m/usr/local/lib/python3.10/dist-packages/pandas/io/parsers/readers.py\u001b[0m in \u001b[0;36mread_csv\u001b[0;34m(filepath_or_buffer, sep, delimiter, header, names, index_col, usecols, squeeze, prefix, mangle_dupe_cols, dtype, engine, converters, true_values, false_values, skipinitialspace, skiprows, skipfooter, nrows, na_values, keep_default_na, na_filter, verbose, skip_blank_lines, parse_dates, infer_datetime_format, keep_date_col, date_parser, dayfirst, cache_dates, iterator, chunksize, compression, thousands, decimal, lineterminator, quotechar, quoting, doublequote, escapechar, comment, encoding, encoding_errors, dialect, error_bad_lines, warn_bad_lines, on_bad_lines, delim_whitespace, low_memory, memory_map, float_precision, storage_options)\u001b[0m\n\u001b[1;32m    948\u001b[0m     \u001b[0mkwds\u001b[0m\u001b[0;34m.\u001b[0m\u001b[0mupdate\u001b[0m\u001b[0;34m(\u001b[0m\u001b[0mkwds_defaults\u001b[0m\u001b[0;34m)\u001b[0m\u001b[0;34m\u001b[0m\u001b[0;34m\u001b[0m\u001b[0m\n\u001b[1;32m    949\u001b[0m \u001b[0;34m\u001b[0m\u001b[0m\n\u001b[0;32m--> 950\u001b[0;31m     \u001b[0;32mreturn\u001b[0m \u001b[0m_read\u001b[0m\u001b[0;34m(\u001b[0m\u001b[0mfilepath_or_buffer\u001b[0m\u001b[0;34m,\u001b[0m \u001b[0mkwds\u001b[0m\u001b[0;34m)\u001b[0m\u001b[0;34m\u001b[0m\u001b[0;34m\u001b[0m\u001b[0m\n\u001b[0m\u001b[1;32m    951\u001b[0m \u001b[0;34m\u001b[0m\u001b[0m\n\u001b[1;32m    952\u001b[0m \u001b[0;34m\u001b[0m\u001b[0m\n",
            "\u001b[0;32m/usr/local/lib/python3.10/dist-packages/pandas/io/parsers/readers.py\u001b[0m in \u001b[0;36m_read\u001b[0;34m(filepath_or_buffer, kwds)\u001b[0m\n\u001b[1;32m    603\u001b[0m \u001b[0;34m\u001b[0m\u001b[0m\n\u001b[1;32m    604\u001b[0m     \u001b[0;31m# Create the parser.\u001b[0m\u001b[0;34m\u001b[0m\u001b[0;34m\u001b[0m\u001b[0m\n\u001b[0;32m--> 605\u001b[0;31m     \u001b[0mparser\u001b[0m \u001b[0;34m=\u001b[0m \u001b[0mTextFileReader\u001b[0m\u001b[0;34m(\u001b[0m\u001b[0mfilepath_or_buffer\u001b[0m\u001b[0;34m,\u001b[0m \u001b[0;34m**\u001b[0m\u001b[0mkwds\u001b[0m\u001b[0;34m)\u001b[0m\u001b[0;34m\u001b[0m\u001b[0;34m\u001b[0m\u001b[0m\n\u001b[0m\u001b[1;32m    606\u001b[0m \u001b[0;34m\u001b[0m\u001b[0m\n\u001b[1;32m    607\u001b[0m     \u001b[0;32mif\u001b[0m \u001b[0mchunksize\u001b[0m \u001b[0;32mor\u001b[0m \u001b[0miterator\u001b[0m\u001b[0;34m:\u001b[0m\u001b[0;34m\u001b[0m\u001b[0;34m\u001b[0m\u001b[0m\n",
            "\u001b[0;32m/usr/local/lib/python3.10/dist-packages/pandas/io/parsers/readers.py\u001b[0m in \u001b[0;36m__init__\u001b[0;34m(self, f, engine, **kwds)\u001b[0m\n\u001b[1;32m   1440\u001b[0m \u001b[0;34m\u001b[0m\u001b[0m\n\u001b[1;32m   1441\u001b[0m         \u001b[0mself\u001b[0m\u001b[0;34m.\u001b[0m\u001b[0mhandles\u001b[0m\u001b[0;34m:\u001b[0m \u001b[0mIOHandles\u001b[0m \u001b[0;34m|\u001b[0m \u001b[0;32mNone\u001b[0m \u001b[0;34m=\u001b[0m \u001b[0;32mNone\u001b[0m\u001b[0;34m\u001b[0m\u001b[0;34m\u001b[0m\u001b[0m\n\u001b[0;32m-> 1442\u001b[0;31m         \u001b[0mself\u001b[0m\u001b[0;34m.\u001b[0m\u001b[0m_engine\u001b[0m \u001b[0;34m=\u001b[0m \u001b[0mself\u001b[0m\u001b[0;34m.\u001b[0m\u001b[0m_make_engine\u001b[0m\u001b[0;34m(\u001b[0m\u001b[0mf\u001b[0m\u001b[0;34m,\u001b[0m \u001b[0mself\u001b[0m\u001b[0;34m.\u001b[0m\u001b[0mengine\u001b[0m\u001b[0;34m)\u001b[0m\u001b[0;34m\u001b[0m\u001b[0;34m\u001b[0m\u001b[0m\n\u001b[0m\u001b[1;32m   1443\u001b[0m \u001b[0;34m\u001b[0m\u001b[0m\n\u001b[1;32m   1444\u001b[0m     \u001b[0;32mdef\u001b[0m \u001b[0mclose\u001b[0m\u001b[0;34m(\u001b[0m\u001b[0mself\u001b[0m\u001b[0;34m)\u001b[0m \u001b[0;34m->\u001b[0m \u001b[0;32mNone\u001b[0m\u001b[0;34m:\u001b[0m\u001b[0;34m\u001b[0m\u001b[0;34m\u001b[0m\u001b[0m\n",
            "\u001b[0;32m/usr/local/lib/python3.10/dist-packages/pandas/io/parsers/readers.py\u001b[0m in \u001b[0;36m_make_engine\u001b[0;34m(self, f, engine)\u001b[0m\n\u001b[1;32m   1733\u001b[0m                 \u001b[0;32mif\u001b[0m \u001b[0;34m\"b\"\u001b[0m \u001b[0;32mnot\u001b[0m \u001b[0;32min\u001b[0m \u001b[0mmode\u001b[0m\u001b[0;34m:\u001b[0m\u001b[0;34m\u001b[0m\u001b[0;34m\u001b[0m\u001b[0m\n\u001b[1;32m   1734\u001b[0m                     \u001b[0mmode\u001b[0m \u001b[0;34m+=\u001b[0m \u001b[0;34m\"b\"\u001b[0m\u001b[0;34m\u001b[0m\u001b[0;34m\u001b[0m\u001b[0m\n\u001b[0;32m-> 1735\u001b[0;31m             self.handles = get_handle(\n\u001b[0m\u001b[1;32m   1736\u001b[0m                 \u001b[0mf\u001b[0m\u001b[0;34m,\u001b[0m\u001b[0;34m\u001b[0m\u001b[0;34m\u001b[0m\u001b[0m\n\u001b[1;32m   1737\u001b[0m                 \u001b[0mmode\u001b[0m\u001b[0;34m,\u001b[0m\u001b[0;34m\u001b[0m\u001b[0;34m\u001b[0m\u001b[0m\n",
            "\u001b[0;32m/usr/local/lib/python3.10/dist-packages/pandas/io/common.py\u001b[0m in \u001b[0;36mget_handle\u001b[0;34m(path_or_buf, mode, encoding, compression, memory_map, is_text, errors, storage_options)\u001b[0m\n\u001b[1;32m    854\u001b[0m         \u001b[0;32mif\u001b[0m \u001b[0mioargs\u001b[0m\u001b[0;34m.\u001b[0m\u001b[0mencoding\u001b[0m \u001b[0;32mand\u001b[0m \u001b[0;34m\"b\"\u001b[0m \u001b[0;32mnot\u001b[0m \u001b[0;32min\u001b[0m \u001b[0mioargs\u001b[0m\u001b[0;34m.\u001b[0m\u001b[0mmode\u001b[0m\u001b[0;34m:\u001b[0m\u001b[0;34m\u001b[0m\u001b[0;34m\u001b[0m\u001b[0m\n\u001b[1;32m    855\u001b[0m             \u001b[0;31m# Encoding\u001b[0m\u001b[0;34m\u001b[0m\u001b[0;34m\u001b[0m\u001b[0m\n\u001b[0;32m--> 856\u001b[0;31m             handle = open(\n\u001b[0m\u001b[1;32m    857\u001b[0m                 \u001b[0mhandle\u001b[0m\u001b[0;34m,\u001b[0m\u001b[0;34m\u001b[0m\u001b[0;34m\u001b[0m\u001b[0m\n\u001b[1;32m    858\u001b[0m                 \u001b[0mioargs\u001b[0m\u001b[0;34m.\u001b[0m\u001b[0mmode\u001b[0m\u001b[0;34m,\u001b[0m\u001b[0;34m\u001b[0m\u001b[0;34m\u001b[0m\u001b[0m\n",
            "\u001b[0;31mFileNotFoundError\u001b[0m: [Errno 2] No such file or directory: 'weatherHistory.csv'"
          ]
        }
      ]
    },
    {
      "cell_type": "code",
      "source": [
        "df.corr()"
      ],
      "metadata": {
        "id": "IGBkeVnWBWWg"
      },
      "execution_count": null,
      "outputs": []
    },
    {
      "cell_type": "markdown",
      "source": [
        "b. Use minimise function from scipy to get the optimal parameters\n",
        "\n",
        "\n",
        "You can use np.array([2, 2, 2]) to initialise the parameters"
      ],
      "metadata": {
        "id": "ai2MqvaP7Gb0"
      }
    },
    {
      "cell_type": "code",
      "source": [
        "from scipy.optimize import minimize"
      ],
      "metadata": {
        "id": "sVOAFu3sCW0Y"
      },
      "execution_count": null,
      "outputs": []
    },
    {
      "cell_type": "code",
      "source": [
        "# MLE\n",
        "x = df['Humidity'].values\n",
        "y = df['Temperature (C)'].values\n",
        "\n",
        "def MLE_Norm(parameters):\n",
        "  const, beta, std_dev = parameters\n",
        "  pred = const + beta*x\n",
        "\n",
        "  LL = np.sum(stats.norm.logpdf(y, pred, std_dev))\n",
        "  neg_LL = -1*LL\n",
        "  return neg_LL\n",
        "\n",
        "mle_model = minimize(MLE_Norm, np.array([2,2,2]), method='L-BFGS-B')\n",
        "mle_model"
      ],
      "metadata": {
        "id": "eXppogEk7k0d"
      },
      "execution_count": null,
      "outputs": []
    },
    {
      "cell_type": "markdown",
      "source": [
        "C . Try out following methods to estimate the parameters(optional)"
      ],
      "metadata": {
        "id": "P7AcO3F07ONa"
      }
    },
    {
      "cell_type": "markdown",
      "source": [
        "i. Use statsmodels to fit a linear regression model using OLS"
      ],
      "metadata": {
        "id": "3os3ajo6EcN2"
      }
    },
    {
      "cell_type": "code",
      "source": [
        "from statsmodels import api"
      ],
      "metadata": {
        "id": "iU_VpbgrCwXC"
      },
      "execution_count": null,
      "outputs": []
    },
    {
      "cell_type": "code",
      "source": [
        "features = api.add_constant(df['Humidity'])\n",
        "model = api.OLS(df['Temperature (C)'].values, features).fit()\n",
        "model.summary()"
      ],
      "metadata": {
        "id": "IYqRfAZT7lTh"
      },
      "execution_count": null,
      "outputs": []
    },
    {
      "cell_type": "code",
      "source": [
        "res = model.resid\n",
        "standard_dev = np.std(res)\n",
        "standard_dev"
      ],
      "metadata": {
        "id": "eDpxR8FCU23Q"
      },
      "execution_count": null,
      "outputs": []
    },
    {
      "cell_type": "markdown",
      "source": [
        "ii. Compare the parameters obtained in b & c. What did you observe?"
      ],
      "metadata": {
        "id": "TDhEo_hwEegv"
      }
    },
    {
      "cell_type": "markdown",
      "source": [
        "* We can seet that the parameters obtained using OLS and MLE are same\n",
        "\n",
        "\n",
        "* x = 35.1170\n",
        "* y = -32.1917\n",
        "* std = 7.568\n",
        "\n"
      ],
      "metadata": {
        "id": "WMtXUN7MEhf1"
      }
    },
    {
      "cell_type": "code",
      "source": [],
      "metadata": {
        "id": "abT2uLlTC97-"
      },
      "execution_count": null,
      "outputs": []
    }
  ]
}